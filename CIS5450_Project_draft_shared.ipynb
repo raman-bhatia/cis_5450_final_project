{
  "cells": [
    {
      "cell_type": "markdown",
      "metadata": {
        "id": "kzqgwBFtwfX6"
      },
      "source": [
        "# CIS 5450 Project: Machine Learning\n",
        "\n",
        "*Due Date: 17th December 2022 at 11:59PM EST*"
      ]
    },
    {
      "cell_type": "markdown",
      "metadata": {
        "id": "5JHdgf2BueOz"
      },
      "source": []
    },
    {
      "cell_type": "code",
      "execution_count": null,
      "metadata": {
        "id": "3fd2M1RUujuz"
      },
      "outputs": [],
      "source": []
    },
    {
      "cell_type": "markdown",
      "metadata": {
        "id": "o7Ro4nk2ulfz"
      },
      "source": [
        "# Introduction"
      ]
    },
    {
      "cell_type": "markdown",
      "metadata": {
        "id": "v7V3ZHIdwkBo"
      },
      "source": [
        "# 0 Setup"
      ]
    },
    {
      "cell_type": "code",
      "execution_count": null,
      "metadata": {
        "id": "VBe8u2WVqIvy"
      },
      "outputs": [],
      "source": [
        "import pandas as pd\n",
        "import numpy as np\n",
        "\n",
        "import matplotlib.pyplot as plt \n",
        "import seaborn as sns"
      ]
    },
    {
      "cell_type": "code",
      "execution_count": null,
      "metadata": {
        "colab": {
          "base_uri": "https://localhost:8080/"
        },
        "id": "lEqEUeR-wvCs",
        "outputId": "31ddb9c4-a878-4215-ef25-2ed77dce2583"
      },
      "outputs": [
        {
          "name": "stdout",
          "output_type": "stream",
          "text": [
            "\r0% [Working]\r            \rGet:1 http://security.ubuntu.com/ubuntu bionic-security InRelease [88.7 kB]\n",
            "\r0% [Connecting to archive.ubuntu.com (185.125.190.36)] [1 InRelease 4,096 B/88.\r                                                                               \rGet:2 https://cloud.r-project.org/bin/linux/ubuntu bionic-cran40/ InRelease [3,626 B]\n",
            "\r0% [Connecting to archive.ubuntu.com (185.125.190.36)] [1 InRelease 14.2 kB/88.\r0% [Connecting to archive.ubuntu.com (185.125.190.36)] [1 InRelease 31.5 kB/88.\r0% [2 InRelease gpgv 3,626 B] [Connecting to archive.ubuntu.com (185.125.190.36\r0% [2 InRelease gpgv 3,626 B] [Connecting to archive.ubuntu.com (185.125.190.36\r                                                                               \rHit:3 http://archive.ubuntu.com/ubuntu bionic InRelease\n",
            "Hit:4 http://ppa.launchpad.net/c2d4u.team/c2d4u4.0+/ubuntu bionic InRelease\n",
            "Ign:5 https://developer.download.nvidia.com/compute/machine-learning/repos/ubuntu1804/x86_64  InRelease\n",
            "Hit:6 https://developer.download.nvidia.com/compute/cuda/repos/ubuntu1804/x86_64  InRelease\n",
            "Hit:7 https://developer.download.nvidia.com/compute/machine-learning/repos/ubuntu1804/x86_64  Release\n",
            "Get:8 http://archive.ubuntu.com/ubuntu bionic-updates InRelease [88.7 kB]\n",
            "Hit:9 http://ppa.launchpad.net/cran/libgit2/ubuntu bionic InRelease\n",
            "Hit:10 http://ppa.launchpad.net/deadsnakes/ppa/ubuntu bionic InRelease\n",
            "Get:11 http://archive.ubuntu.com/ubuntu bionic-backports InRelease [83.3 kB]\n",
            "Hit:12 http://ppa.launchpad.net/graphics-drivers/ppa/ubuntu bionic InRelease\n",
            "Fetched 264 kB in 2s (155 kB/s)\n",
            "Reading package lists... Done\n"
          ]
        }
      ],
      "source": [
        "!apt-get update\n",
        "!apt-get install openjdk-8-jdk-headless -qq > /dev/null\n",
        "!wget -q http://apache.osuosl.org/spark/spark-3.3.1/spark-3.3.1-bin-hadoop3.tgz\n",
        "!tar xf spark-3.3.1-bin-hadoop3.tgz\n",
        "!pip install -q findspark\n",
        "\n",
        "import os\n",
        "os.environ[\"JAVA_HOME\"] = \"/usr/lib/jvm/java-8-openjdk-amd64\"\n",
        "os.environ[\"SPARK_HOME\"] = \"/content/spark-3.3.1-bin-hadoop3\"\n",
        "\n",
        "import findspark\n",
        "findspark.init()\n",
        "from pyspark.sql import SparkSession\n",
        "from pyspark.sql.functions import sequence\n",
        "spark = SparkSession.builder.master(\"local[*]\").getOrCreate()"
      ]
    },
    {
      "cell_type": "markdown",
      "metadata": {
        "id": "K1DRTL3gxOFl"
      },
      "source": [
        "# 1 Data Loading and Preprocessing\n",
        "\n"
      ]
    },
    {
      "cell_type": "markdown",
      "metadata": {
        "id": "Q1dVDJIjova3"
      },
      "source": [
        "## 1.1  Dataset 1: Open Food Facts (Baojia)\n",
        "https://world.openfoodfacts.org/data\n"
      ]
    },
    {
      "cell_type": "markdown",
      "metadata": {
        "id": "jhxjBW6w_FTf"
      },
      "source": [
        "The dataset we used for this project is from Open Food Facts (https://world.openfoodfacts.org/data). We downloaded the most recent csv file and saved it into google drive. The full dataset contains 196 columns * 2640596 rows."
      ]
    },
    {
      "cell_type": "code",
      "execution_count": null,
      "metadata": {
        "colab": {
          "base_uri": "https://localhost:8080/"
        },
        "id": "UbNXUmxw-9uV",
        "outputId": "373e6b5a-4409-4033-996a-3e492078c528"
      },
      "outputs": [
        {
          "name": "stdout",
          "output_type": "stream",
          "text": [
            "Mounted at /content/drive\n"
          ]
        }
      ],
      "source": [
        "# mount Google Grive\n",
        "from google.colab import drive\n",
        "drive.mount('/content/drive')"
      ]
    },
    {
      "cell_type": "code",
      "execution_count": null,
      "metadata": {
        "colab": {
          "base_uri": "https://localhost:8080/"
        },
        "id": "onptJJs5xuY3",
        "outputId": "d6d2cd47-be64-421b-dfd2-a8a5b1832847"
      },
      "outputs": [
        {
          "name": "stdout",
          "output_type": "stream",
          "text": [
            "+--------------------+--------------------+--------------+----------+--------------------+---------------+----------------------+--------------------+------------------------+------------+--------+---------+--------------+------------+--------------+-------------+-------------+--------------------+--------------------+--------------------+-------+------------+----------+--------------------+-------------------------+-------------+----------------+----------------+---------+--------------+------------------------+------+-----------+---------------+-------------+----------------+----------------+-------------+--------------------+--------------------+-------------------------+----------+------------+------+-----------+---------+------------+----------------+-------------+-----------+---------+--------------------+--------------------+----------------+----------------+----------+--------------------+--------------------+--------------------+--------------------+--------------------+--------------------+--------------------+--------------------+-----------+--------------+--------------+--------------------+----------------+-----+------------------------+--------------+--------------------+------------+------------+--------------------+--------------------+--------------------+--------------------+--------------------+---------------------+---------------------------+--------------------+-------------------------+--------------+----------------+-----------+--------------------+--------+------------------+------------------+------------------+-------------------+-----------------+-----------------+-------------------+-------------------+------------------+--------------------+------------------+---------------------+------------------+-------------------+-------------------+------------------------+------------------------+----------------+--------------------------+---------------------------+--------------------------+----------------+-------------------+----------------------+--------------------------+---------------------------------+----------------+----------------+------------------+------------------+---------------+-----------------+-------------------+--------------+----------------+------------------+-----------+-------------+-------------+--------------+-------------+-------------+-------------------+-----------+------------+----------+------------------+--------------------+-------------+-----------+-------------------+----------------+---------+-----------+------------+--------------+------------------+--------------+--------------+--------------+--------------+---------------+---------------+---------------+---------------+---------------+------------+----------------+-----------+---------------------+-----------+----------------+--------------+-------------+------------+---------------+---------+--------------+---------+-----------+--------------+-------------+-------------+-------------+---------------+-----------+-------------+------------+-------+---------------------------+---------------------------------+------------------------------------+-----------------------------------------------------+--------------------------------+----------+---------------+---------------------+---------------------------------------+-----------------------+-----------------------+-------------------+-------------------+------------+------------------+----------------+-------------+--------------+\n",
            "|                code|                 url|       creator| created_t|    created_datetime|last_modified_t|last_modified_datetime|        product_name|abbreviated_product_name|generic_name|quantity|packaging|packaging_tags|packaging_en|packaging_text|       brands|  brands_tags|          categories|     categories_tags|       categories_en|origins|origins_tags|origins_en|manufacturing_places|manufacturing_places_tags|       labels|     labels_tags|       labels_en|emb_codes|emb_codes_tags|first_packaging_code_geo|cities|cities_tags|purchase_places|       stores|       countries|  countries_tags| countries_en|    ingredients_text|    ingredients_tags|ingredients_analysis_tags| allergens|allergens_en|traces|traces_tags|traces_en|serving_size|serving_quantity|no_nutriments|additives_n|additives|      additives_tags|        additives_en|nutriscore_score|nutriscore_grade|nova_group|       pnns_groups_1|       pnns_groups_2|         food_groups|    food_groups_tags|      food_groups_en|              states|         states_tags|           states_en|brand_owner|ecoscore_score|ecoscore_grade|nutrient_levels_tags|product_quantity|owner|data_quality_errors_tags|unique_scans_n|     popularity_tags|completeness|last_image_t| last_image_datetime|       main_category|    main_category_en|           image_url|     image_small_url|image_ingredients_url|image_ingredients_small_url| image_nutrition_url|image_nutrition_small_url|energy-kj_100g|energy-kcal_100g|energy_100g|energy-from-fat_100g|fat_100g|saturated-fat_100g|-butyric-acid_100g|-caproic-acid_100g|-caprylic-acid_100g|-capric-acid_100g|-lauric-acid_100g|-myristic-acid_100g|-palmitic-acid_100g|-stearic-acid_100g|-arachidic-acid_100g|-behenic-acid_100g|-lignoceric-acid_100g|-cerotic-acid_100g|-montanic-acid_100g|-melissic-acid_100g|monounsaturated-fat_100g|polyunsaturated-fat_100g|omega-3-fat_100g|-alpha-linolenic-acid_100g|-eicosapentaenoic-acid_100g|-docosahexaenoic-acid_100g|omega-6-fat_100g|-linoleic-acid_100g|-arachidonic-acid_100g|-gamma-linolenic-acid_100g|-dihomo-gamma-linolenic-acid_100g|omega-9-fat_100g|-oleic-acid_100g|-elaidic-acid_100g|-gondoic-acid_100g|-mead-acid_100g|-erucic-acid_100g|-nervonic-acid_100g|trans-fat_100g|cholesterol_100g|carbohydrates_100g|sugars_100g|-sucrose_100g|-glucose_100g|-fructose_100g|-lactose_100g|-maltose_100g|-maltodextrins_100g|starch_100g|polyols_100g|fiber_100g|soluble-fiber_100g|insoluble-fiber_100g|proteins_100g|casein_100g|serum-proteins_100g|nucleotides_100g|salt_100g|sodium_100g|alcohol_100g|vitamin-a_100g|beta-carotene_100g|vitamin-d_100g|vitamin-e_100g|vitamin-k_100g|vitamin-c_100g|vitamin-b1_100g|vitamin-b2_100g|vitamin-pp_100g|vitamin-b6_100g|vitamin-b9_100g|folates_100g|vitamin-b12_100g|biotin_100g|pantothenic-acid_100g|silica_100g|bicarbonate_100g|potassium_100g|chloride_100g|calcium_100g|phosphorus_100g|iron_100g|magnesium_100g|zinc_100g|copper_100g|manganese_100g|fluoride_100g|selenium_100g|chromium_100g|molybdenum_100g|iodine_100g|caffeine_100g|taurine_100g|ph_100g|fruits-vegetables-nuts_100g|fruits-vegetables-nuts-dried_100g|fruits-vegetables-nuts-estimate_100g|fruits-vegetables-nuts-estimate-from-ingredients_100g|collagen-meat-protein-ratio_100g|cocoa_100g|chlorophyl_100g|carbon-footprint_100g|carbon-footprint-from-meat-or-fish_100g|nutrition-score-fr_100g|nutrition-score-uk_100g|glycemic-index_100g|water-hardness_100g|choline_100g|phylloquinone_100g|beta-glucan_100g|inositol_100g|carnitine_100g|\n",
            "+--------------------+--------------------+--------------+----------+--------------------+---------------+----------------------+--------------------+------------------------+------------+--------+---------+--------------+------------+--------------+-------------+-------------+--------------------+--------------------+--------------------+-------+------------+----------+--------------------+-------------------------+-------------+----------------+----------------+---------+--------------+------------------------+------+-----------+---------------+-------------+----------------+----------------+-------------+--------------------+--------------------+-------------------------+----------+------------+------+-----------+---------+------------+----------------+-------------+-----------+---------+--------------------+--------------------+----------------+----------------+----------+--------------------+--------------------+--------------------+--------------------+--------------------+--------------------+--------------------+--------------------+-----------+--------------+--------------+--------------------+----------------+-----+------------------------+--------------+--------------------+------------+------------+--------------------+--------------------+--------------------+--------------------+--------------------+---------------------+---------------------------+--------------------+-------------------------+--------------+----------------+-----------+--------------------+--------+------------------+------------------+------------------+-------------------+-----------------+-----------------+-------------------+-------------------+------------------+--------------------+------------------+---------------------+------------------+-------------------+-------------------+------------------------+------------------------+----------------+--------------------------+---------------------------+--------------------------+----------------+-------------------+----------------------+--------------------------+---------------------------------+----------------+----------------+------------------+------------------+---------------+-----------------+-------------------+--------------+----------------+------------------+-----------+-------------+-------------+--------------+-------------+-------------+-------------------+-----------+------------+----------+------------------+--------------------+-------------+-----------+-------------------+----------------+---------+-----------+------------+--------------+------------------+--------------+--------------+--------------+--------------+---------------+---------------+---------------+---------------+---------------+------------+----------------+-----------+---------------------+-----------+----------------+--------------+-------------+------------+---------------+---------+--------------+---------+-----------+--------------+-------------+-------------+-------------+---------------+-----------+-------------+------------+-------+---------------------------+---------------------------------+------------------------------------+-----------------------------------------------------+--------------------------------+----------+---------------+---------------------+---------------------------------------+-----------------------+-----------------------+-------------------+-------------------+------------+------------------+----------------+-------------+--------------+\n",
            "|   00000000000000225|http://world-en.o...|nutrinet-sante|1623855208|2021-06-16T14:53:28Z|     1623855209|  2021-06-16T14:53:29Z|      jeunes pousses|                    null|        null|    null|     null|          null|        null|          null|      endives|      endives|                null|                null|                null|   null|        null|      null|                null|                     null|         null|            null|            null|     null|          null|                    null|  null|       null|           null|         null|       en:france|       en:france|       France|                null|                null|                     null|      null|        null|  null|       null|     null|        null|            null|         null|       null|     null|                null|                null|            null|            null|      null|             unknown|             unknown|                null|                null|                null|en:to-be-complete...|en:to-be-complete...|To be completed,N...|       null|          null|       unknown|                null|            null| null|                    null|          null|                null|         0.2|        null|                null|                null|                null|                null|                null|                 null|                       null|                null|                     null|          null|            null|       null|                null|    null|              null|              null|              null|               null|             null|             null|               null|               null|              null|                null|              null|                 null|              null|               null|               null|                    null|                    null|            null|                      null|                       null|                      null|            null|               null|                  null|                      null|                             null|            null|            null|              null|              null|           null|             null|               null|          null|            null|              null|       null|         null|         null|          null|         null|         null|               null|       null|        null|      null|              null|                null|         null|       null|               null|            null|     null|       null|        null|          null|              null|          null|          null|          null|          null|           null|           null|           null|           null|           null|        null|            null|       null|                 null|       null|            null|          null|         null|        null|           null|     null|          null|     null|       null|          null|         null|         null|         null|           null|       null|         null|        null|   null|                       null|                             null|                                null|                                                 null|                            null|      null|           null|                 null|                                   null|                   null|                   null|               null|               null|        null|              null|            null|         null|          null|\n",
            "|00000000000002070...|http://world-en.o...|       kiliweb|1656948610|2022-07-04T15:30:10Z|     1656948613|  2022-07-04T15:30:13Z|               Andrè|                    null|        null|    null|     null|          null|        null|          null|         null|         null|                null|                null|                null|   null|        null|      null|                null|                     null|         null|            null|            null|     null|          null|                    null|  null|       null|           null|         null|           en:de|      en:germany|      Germany|                null|                null|                     null|      null|        null|  null|       null|     null|        null|            null|         null|       null|     null|                null|                null|            null|            null|      null|             unknown|             unknown|                null|                null|                null|en:to-be-complete...|en:to-be-complete...|To be completed,N...|       null|          null|       unknown|                null|            null| null|                    null|          null|                null|      0.2625|  1656948613|2022-07-04T15:30:13Z|                null|                null|                null|                null|                 null|                       null|https://images.op...|     https://images.op...|          null|             165|        690|                null|       2|                 2|              null|              null|               null|             null|             null|               null|               null|              null|                null|              null|                 null|              null|               null|               null|                    null|                    null|            null|                      null|                       null|                      null|            null|               null|                  null|                      null|                             null|            null|            null|              null|              null|           null|             null|               null|          null|            null|                65|       12.6|         null|         null|          null|         null|         null|               null|       null|        null|         3|              null|                null|          1.5|       null|               null|            null|     null|       null|        null|          null|              null|          null|          null|          null|          null|           null|           null|           null|           null|           null|        null|            null|       null|                 null|       null|            null|          null|         null|        null|           null|     null|          null|     null|       null|          null|         null|         null|         null|           null|       null|         null|        null|   null|                       null|                             null|                                null|                                                 null|                            null|      null|           null|                 null|                                   null|                   null|                   null|               null|               null|        null|              null|            null|         null|          null|\n",
            "|00000000000003429145|http://world-en.o...|       kiliweb|1630483911|2021-09-01T08:11:51Z|     1656488106|  2022-06-29T07:35:06Z|             L.casei|                    null|        null|    null|     null|          null|        null|          null|         null|         null|                null|                null|                null|  Spain|    en:spain|     Spain|                null|                     null|         null|            null|            null|     null|          null|                    null|  null|       null|           null|         null|           Spain|        en:spain|        Spain|Leche semidesnata...|en:semi-skimmed-m...|     en:palm-oil-free,...|      null|        null|  null|       null|     null|        null|            null|         null|          0|     null|                null|                null|            null|            null|      null|             unknown|             unknown|                null|                null|                null|en:to-be-complete...|en:to-be-complete...|To be completed,N...|       null|          null|       unknown|                null|            null| null|                    null|          null|                null|      0.4875|  1630483912|2021-09-01T08:11:52Z|                null|                null|https://images.op...|https://images.op...| https://images.op...|       https://images.op...|https://images.op...|     https://images.op...|          null|            null|       null|                null|     1.4|               0.9|              null|              null|               null|             null|             null|               null|               null|              null|                null|              null|                 null|              null|               null|               null|                    null|                    null|            null|                      null|                       null|                      null|            null|               null|                  null|                      null|                             null|            null|            null|              null|              null|           null|             null|               null|          null|            null|               9.8|        9.8|         null|         null|          null|         null|         null|               null|       null|        null|      null|              null|                null|          2.7|       null|               null|            null|      0.1|       0.04|        null|          null|              null|          null|          null|          null|          null|           null|           null|           null|           null|           null|        null|            null|       null|                 null|       null|            null|          null|         null|        null|           null|     null|          null|     null|       null|          null|         null|         null|         null|           null|       null|         null|        null|   null|                       null|                             null|                                null|                                                    0|                            null|      null|           null|                 null|                                   null|                   null|                   null|               null|               null|        null|              null|            null|         null|          null|\n",
            "|00000000000026772226|http://world-en.o...|       kiliweb|1654250311|2022-06-03T09:58:31Z|     1654270474|  2022-06-03T15:34:34Z|                Skyr|                    null|        null|   480 g|     null|          null|        null|          null|       Danone|       danone|Produits laitiers...|en:dairies,en:des...|Dairies,Desserts,...|   null|        null|      null|                null|                     null|         null|            null|            null|     null|          null|                    null|  null|       null|           null|         null|          France|       en:france|       France|                null|                null|                     null|      null|        null|  null|       null|     null|        null|            null|         null|       null|     null|                null|                null|              -5|               a|      null|Milk and dairy pr...|      Dairy desserts|   en:dairy-desserts|en:milk-and-dairy...|Milk and dairy pr...|en:to-be-complete...|en:to-be-complete...|To be completed,N...|       null|            34|             d|en:fat-in-low-qua...|             480| null|                    null|          null|                null|       0.575|  1654250314|2022-06-03T09:58:34Z|             en:skyr|                Skyr|https://images.op...|https://images.op...|                 null|                       null|https://images.op...|     https://images.op...|          null|              57|        238|                null|     0.2|               0.1|              null|              null|               null|             null|             null|               null|               null|              null|                null|              null|                 null|              null|               null|               null|                    null|                    null|            null|                      null|                       null|                      null|            null|               null|                  null|                      null|                             null|            null|            null|              null|              null|           null|             null|               null|          null|            null|               3.9|        3.9|         null|         null|          null|         null|         null|               null|       null|        null|      null|              null|                null|           10|       null|               null|            null|     0.09|      0.036|        null|          null|              null|          null|          null|          null|          null|           null|           null|           null|           null|           null|        null|            null|       null|                 null|       null|            null|          null|         null|        null|           null|     null|          null|     null|       null|          null|         null|         null|         null|           null|       null|         null|        null|   null|                       null|                             null|                                null|                                                 null|                            null|      null|           null|                 null|                                   null|                     -5|                   null|               null|               null|        null|              null|            null|         null|          null|\n",
            "|       0000000000017|http://world-en.o...|       kiliweb|1529059080|2018-06-15T10:38:00Z|     1561463718|  2019-06-25T11:55:18Z|    Vitória crackers|                    null|        null|    null|     null|          null|        null|          null|         null|         null|                null|                null|                null|   null|        null|      null|                null|                     null|         null|            null|            null|     null|          null|                    null|  null|       null|           null|         null|          France|       en:france|       France|                null|                null|                     null|      null|        null|  null|       null|     null|        null|            null|         null|       null|     null|                null|                null|            null|            null|      null|             unknown|             unknown|                null|                null|                null|en:to-be-complete...|en:to-be-complete...|To be completed,N...|       null|          null|       unknown|                null|            null| null|                    null|          null|                null|       0.275|  1529059087|2018-06-15T10:38:07Z|                null|                null|https://images.op...|https://images.op...| https://images.op...|       https://images.op...|                null|                     null|          null|             375|       1569|                null|       7|              3.08|              null|              null|               null|             null|             null|               null|               null|              null|                null|              null|                 null|              null|               null|               null|                    null|                    null|            null|                      null|                       null|                      null|            null|               null|                  null|                      null|                             null|            null|            null|              null|              null|           null|             null|               null|          null|            null|              70.1|         15|         null|         null|          null|         null|         null|               null|       null|        null|      null|              null|                null|          7.8|       null|               null|            null|      1.4|       0.56|        null|          null|              null|          null|          null|          null|          null|           null|           null|           null|           null|           null|        null|            null|       null|                 null|       null|            null|          null|         null|        null|           null|     null|          null|     null|       null|          null|         null|         null|         null|           null|       null|         null|        null|   null|                       null|                             null|                                null|                                                 null|                            null|      null|           null|                 null|                                   null|                   null|                   null|               null|               null|        null|              null|            null|         null|          null|\n",
            "|       0000000000031|http://world-en.o...|      isagoofy|1539464774|2018-10-13T21:06:14Z|     1539464817|  2018-10-13T21:06:57Z|               Cacao|                    null|        null|   130 g|     null|          null|        null|          null|         null|         null|                null|                null|                null|   null|        null|      null|                null|                     null|         null|            null|            null|     null|          null|                    null|  null|       null|           null|         null|          France|       en:france|       France|                null|                null|                     null|      null|        null|  null|       null|     null|        null|            null|         null|       null|     null|                null|                null|            null|            null|      null|             unknown|             unknown|                null|                null|                null|en:to-be-complete...|en:to-be-complete...|To be completed,N...|       null|          null|       unknown|                null|             130| null|                    null|          null|                null|      0.2625|  1539464775|2018-10-13T21:06:15Z|                null|                null|https://images.op...|https://images.op...|                 null|                       null|                null|                     null|          null|            null|       null|                null|    null|              null|              null|              null|               null|             null|             null|               null|               null|              null|                null|              null|                 null|              null|               null|               null|                    null|                    null|            null|                      null|                       null|                      null|            null|               null|                  null|                      null|                             null|            null|            null|              null|              null|           null|             null|               null|          null|            null|              null|       null|         null|         null|          null|         null|         null|               null|       null|        null|      null|              null|                null|         null|       null|               null|            null|     null|       null|        null|          null|              null|          null|          null|          null|          null|           null|           null|           null|           null|           null|        null|            null|       null|                 null|       null|            null|          null|         null|        null|           null|     null|          null|     null|       null|          null|         null|         null|         null|           null|       null|         null|        null|   null|                       null|                             null|                                null|                                                 null|                            null|      null|           null|                 null|                                   null|                   null|                   null|               null|               null|        null|              null|            null|         null|          null|\n",
            "|  000000000003327986|http://world-en.o...|       kiliweb|1574175736|2019-11-19T15:02:16Z|     1624390765|  2021-06-22T19:39:25Z|Filetes de pollo ...|                    null|        null|    null|     null|          null|        null|          null|         null|         null|                null|                null|                null|   null|        null|      null|                null|                     null|         null|            null|            null|     null|          null|                    null|  null|       null|           null|         null|         Espagne|        en:spain|        Spain|                null|                null|                     null|      null|        null|  null|       null|     null|        null|            null|         null|       null|     null|                null|                null|            null|            null|      null|             unknown|             unknown|                null|                null|                null|en:to-be-complete...|en:to-be-complete...|To be completed,N...|       null|          null|       unknown|                null|            null| null|                    null|          null|                null|       0.275|  1574175737|2019-11-19T15:02:17Z|                null|                null|https://images.op...|https://images.op...|                 null|                       null|https://images.op...|     https://images.op...|         685.8|           163.9|      685.8|                null|     1.9|                 1|              null|              null|               null|             null|             null|               null|               null|              null|                null|              null|                 null|              null|               null|               null|                    null|                    null|            null|                      null|                       null|                      null|            null|               null|                  null|                      null|                             null|            null|            null|              null|              null|           null|             null|               null|          null|            null|              null|       null|         null|         null|          null|         null|         null|               null|       null|        null|      null|              null|                null|         15.3|       null|               null|            null|      1.1|       0.44|        null|          null|              null|          null|          null|          null|          null|           null|           null|           null|           null|           null|        null|            null|       null|                 null|       null|            null|          null|         null|        null|           null|     null|          null|     null|       null|          null|         null|         null|         null|           null|       null|         null|        null|   null|                       null|                             null|                                null|                                                 null|                            null|      null|           null|                 null|                                   null|                   null|                   null|               null|               null|        null|              null|            null|         null|          null|\n",
            "|  000000000004128579|http://world-en.o...|       kiliweb|1649449251|2022-04-08T20:20:51Z|     1649449920|  2022-04-08T20:32:00Z|   Burger Meat Pollo|                    null|        null|    null|     null|          null|        null|          null|         null|         null|                null|                null|                null|   null|        null|      null|                null|                     null|         null|            null|            null|     null|          null|                    null|  null|       null|           null|         null|           en:es|        en:spain|        Spain|                null|                null|                     null|      null|        null|  null|       null|     null|        null|            null|         null|       null|     null|                null|                null|            null|            null|      null|             unknown|             unknown|                null|                null|                null|en:to-be-complete...|en:to-be-complete...|To be completed,N...|       null|          null|       unknown|                null|            null| null|                    null|          null|                null|       0.375|  1649449255|2022-04-08T20:20:55Z|                null|                null|https://images.op...|https://images.op...|                 null|                       null|https://images.op...|     https://images.op...|          null|             194|        812|                null|      11|               3.9|              null|              null|               null|             null|             null|               null|               null|              null|                null|              null|                 null|              null|               null|               null|                    null|                    null|            null|                      null|                       null|                      null|            null|               null|                  null|                      null|                             null|            null|            null|              null|              null|           null|             null|               null|          null|            null|               5.7|       0.05|         null|         null|          null|         null|         null|               null|       null|        null|      null|              null|                null|           18|       null|               null|            null|     null|       null|        null|          null|              null|          null|          null|          null|          null|           null|           null|           null|           null|           null|        null|            null|       null|                 null|       null|            null|          null|         null|        null|           null|     null|          null|     null|       null|          null|         null|         null|         null|           null|       null|         null|        null|   null|                       null|                             null|                                null|                                                 null|                            null|      null|           null|                 null|                                   null|                   null|                   null|               null|               null|        null|              null|            null|         null|          null|\n",
            "|  000000000004622327|http://world-en.o...|       kiliweb|1619501895|2021-04-27T05:38:15Z|     1619501897|  2021-04-27T05:38:17Z|Hamburguesas de t...|                    null|        null|    null|     null|          null|        null|          null|         null|         null|                null|                null|                null|   null|        null|      null|                null|                     null|         null|            null|            null|     null|          null|                    null|  null|       null|           null|         null|           en:es|        en:spain|        Spain|                null|                null|                     null|      null|        null|  null|       null|     null|        null|            null|         null|       null|     null|                null|                null|            null|            null|      null|             unknown|             unknown|                null|                null|                null|en:to-be-complete...|en:to-be-complete...|To be completed,N...|       null|          null|       unknown|                null|            null| null|                    null|          null|                null|       0.275|  1619501896|2021-04-27T05:38:16Z|                null|                null|https://images.op...|https://images.op...|                 null|                       null|https://images.op...|     https://images.op...|          null|           874.9|       3661|                null|    15.1|               6.1|              null|              null|               null|             null|             null|               null|               null|              null|                null|              null|                 null|              null|               null|               null|                    null|                    null|            null|                      null|                       null|                      null|            null|               null|                  null|                      null|                             null|            null|            null|              null|              null|           null|             null|               null|          null|            null|               2.6|          1|         null|         null|          null|         null|         null|               null|       null|        null|      null|              null|                null|         15.7|       null|               null|            null|      2.1|       0.84|        null|          null|              null|          null|          null|          null|          null|           null|           null|           null|           null|           null|        null|            null|       null|                 null|       null|            null|          null|         null|        null|           null|     null|          null|     null|       null|          null|         null|         null|         null|           null|       null|         null|        null|   null|                       null|                             null|                                null|                                                 null|                            null|      null|           null|                 null|                                   null|                   null|                   null|               null|               null|        null|              null|            null|         null|          null|\n",
            "|         00000000001|http://world-en.o...|           inf|1634745456|2021-10-20T15:57:36Z|     1634745530|  2021-10-20T15:58:50Z|           hyde icon|                    null|        null|    null|     null|          null|        null|          null|         null|         null|                null|                null|                null|   null|        null|      null|                null|                     null|         null|            null|            null|     null|          null|                    null|  null|       null|           null|         null|en:United States|en:united-states|United States|beta alanine, cre...|en:beta-alanine,e...|     en:palm-oil-conte...|      null|        null|  null|       null|     null|        null|            null|         null|          5|     null|en:e296,en:e330,e...|E296 - Malic acid...|            null|            null|         4|             unknown|             unknown|                null|                null|                null|en:to-be-complete...|en:to-be-complete...|To be completed,N...|       null|          null|       unknown|                null|            null| null|                    null|          null|                null|         0.3|        null|                null|                null|                null|                null|                null|                 null|                       null|                null|                     null|          null|            null|       null|                null|    null|              null|              null|              null|               null|             null|             null|               null|               null|              null|                null|              null|                 null|              null|               null|               null|                    null|                    null|            null|                      null|                       null|                      null|            null|               null|                  null|                      null|                             null|            null|            null|              null|              null|           null|             null|               null|          null|            null|              null|       null|         null|         null|          null|         null|         null|               null|       null|        null|      null|              null|                null|         null|       null|               null|            null|     null|       null|        null|          null|              null|          null|          null|          null|          null|           null|           null|           null|           null|           null|        null|            null|       null|                 null|       null|            null|          null|         null|        null|           null|     null|          null|     null|       null|          null|         null|         null|         null|           null|       null|         null|        null|   null|                       null|                             null|                                null|                                                    0|                            null|      null|           null|                 null|                                   null|                   null|                   null|               null|               null|        null|              null|            null|         null|          null|\n",
            "|       0000000000100|http://world-en.o...|         del51|1444572561|2015-10-11T14:09:21Z|     1444659212|  2015-10-12T14:13:32Z| moutarde au moût...|                    null|        null|    100g|     null|          null|        null|          null|courte paille|courte-paille|Epicerie, Condime...|en:groceries,en:c...|Groceries,Condime...|   null|        null|      null|                null|                     null|Delois france|fr:delois-france|fr:delois-france|     null|          null|                    null|  null|       null|           null|courte paille|          France|       en:france|       France|eau graines de té...|fr:eau-graines-de...|     en:palm-oil-conte...|en:mustard|        null|  null|       null|     null|        null|            null|         null|          0|     null|                null|                null|              18|               d|      null|      Fat and sauces|Dressings and sauces|en:dressings-and-...|en:fats-and-sauce...|Fats and sauces,D...|en:to-be-complete...|en:to-be-complete...|To be completed,N...|       null|            55|             c|en:fat-in-moderat...|             100| null|                    null|          null|                null|      0.7625|  1444572697|2015-10-11T14:11:37Z|         en:mustards|            Mustards|https://images.op...|https://images.op...|                 null|                       null|                null|                     null|           936|            null|        936|                null|     8.2|               2.2|              null|              null|               null|             null|             null|               null|               null|              null|                null|              null|                 null|              null|               null|               null|                    null|                    null|            null|                      null|                       null|                      null|            null|               null|                  null|                      null|                             null|            null|            null|              null|              null|           null|             null|               null|          null|            null|                29|         22|         null|         null|          null|         null|         null|               null|       null|        null|         0|              null|                null|          5.1|       null|               null|            null|      4.6|       1.84|        null|          null|              null|          null|          null|          null|          null|           null|           null|           null|           null|           null|        null|            null|       null|                 null|       null|            null|          null|         null|        null|           null|     null|          null|     null|       null|          null|         null|         null|         null|           null|       null|         null|        null|   null|                       null|                             null|                                null|                                                    0|                            null|      null|           null|                 null|                                   null|                     18|                   null|               null|               null|        null|              null|            null|         null|          null|\n",
            "|       0000000000123|http://world-en.o...|       kiliweb|1535737982|2018-08-31T17:53:02Z|     1535737986|  2018-08-31T17:53:06Z|Sauce Sweety chil...|                    null|        null|    null|     null|          null|        null|          null|         null|         null|                null|                null|                null|   null|        null|      null|                null|                     null|         null|            null|            null|     null|          null|                    null|  null|       null|           null|         null|          France|       en:france|       France|                null|                null|                     null|      null|        null|  null|       null|     null|        null|            null|         null|       null|     null|                null|                null|            null|            null|      null|             unknown|             unknown|                null|                null|                null|en:to-be-complete...|en:to-be-complete...|To be completed,N...|       null|          null|       unknown|                null|            null| null|                    null|          null|                null|       0.275|  1535737985|2018-08-31T17:53:05Z|                null|                null|https://images.op...|https://images.op...| https://images.op...|       https://images.op...|                null|                     null|          null|              21|         88|                null|       0|                 0|              null|              null|               null|             null|             null|               null|               null|              null|                null|              null|                 null|              null|               null|               null|                    null|                    null|            null|                      null|                       null|                      null|            null|               null|                  null|                      null|                             null|            null|            null|              null|              null|           null|             null|               null|          null|            null|               4.8|        0.4|         null|         null|          null|         null|         null|               null|       null|        null|      null|              null|                null|          0.2|       null|               null|            null|     2.04|      0.816|        null|          null|              null|          null|          null|          null|          null|           null|           null|           null|           null|           null|        null|            null|       null|                 null|       null|            null|          null|         null|        null|           null|     null|          null|     null|       null|          null|         null|         null|         null|           null|       null|         null|        null|   null|                       null|                             null|                                null|                                                 null|                            null|      null|           null|                 null|                                   null|                   null|                   null|               null|               null|        null|              null|            null|         null|          null|\n",
            "|       0000000000178|http://world-en.o...|       kiliweb|1542456332|2018-11-17T12:05:32Z|     1542456333|  2018-11-17T12:05:33Z|           Mini coco|                    null|        null|    null|     null|          null|        null|          null|         null|         null|                null|                null|                null|   null|        null|      null|                null|                     null|         null|            null|            null|     null|          null|                    null|  null|       null|           null|         null|          France|       en:france|       France|                null|                null|                     null|      null|        null|  null|       null|     null|        null|            null|         null|       null|     null|                null|                null|            null|            null|      null|             unknown|             unknown|                null|                null|                null|en:to-be-complete...|en:to-be-complete...|To be completed,N...|       null|          null|       unknown|                null|            null| null|                    null|             1|bottom-25-percent...|       0.275|  1542456333|2018-11-17T12:05:33Z|                null|                null|https://images.op...|https://images.op...| https://images.op...|       https://images.op...|                null|                     null|          null|              60|        251|                null|       3|                 1|              null|              null|               null|             null|             null|               null|               null|              null|                null|              null|                 null|              null|               null|               null|                    null|                    null|            null|                      null|                       null|                      null|            null|               null|                  null|                      null|                             null|            null|            null|              null|              null|           null|             null|               null|          null|            null|                10|          3|         null|         null|          null|         null|         null|               null|       null|        null|      null|              null|                null|            2|       null|               null|            null|     1.15|       0.46|        null|          null|              null|          null|          null|          null|          null|           null|           null|           null|           null|           null|        null|            null|       null|                 null|       null|            null|          null|         null|        null|           null|     null|          null|     null|       null|          null|         null|         null|         null|           null|       null|         null|        null|   null|                       null|                             null|                                null|                                                 null|                            null|      null|           null|                 null|                                   null|                   null|                   null|               null|               null|        null|              null|            null|         null|          null|\n",
            "|       0000000000208|http://world-en.o...|       kiliweb|1544207680|2018-12-07T18:34:40Z|     1544207683|  2018-12-07T18:34:43Z|Pistou d'ail des ...|                    null|        null|    null|     null|          null|        null|          null|         null|         null|                null|                null|                null|   null|        null|      null|                null|                     null|         null|            null|            null|     null|          null|                    null|  null|       null|           null|         null|          France|       en:france|       France|                null|                null|                     null|      null|        null|  null|       null|     null|        null|            null|         null|       null|     null|                null|                null|            null|            null|      null|             unknown|             unknown|                null|                null|                null|en:to-be-complete...|en:to-be-complete...|To be completed,N...|       null|          null|       unknown|                null|            null| null|                    null|             1|bottom-25-percent...|       0.175|  1544207682|2018-12-07T18:34:42Z|                null|                null|https://images.op...|https://images.op...| https://images.op...|       https://images.op...|                null|                     null|          null|            null|       null|                null|    null|              null|              null|              null|               null|             null|             null|               null|               null|              null|                null|              null|                 null|              null|               null|               null|                    null|                    null|            null|                      null|                       null|                      null|            null|               null|                  null|                      null|                             null|            null|            null|              null|              null|           null|             null|               null|          null|            null|              null|       null|         null|         null|          null|         null|         null|               null|       null|        null|      null|              null|                null|         null|       null|               null|            null|     null|       null|        null|          null|              null|          null|          null|          null|          null|           null|           null|           null|           null|           null|        null|            null|       null|                 null|       null|            null|          null|         null|        null|           null|     null|          null|     null|       null|          null|         null|         null|         null|           null|       null|         null|        null|   null|                       null|                             null|                                null|                                                 null|                            null|      null|           null|                 null|                                   null|                   null|                   null|               null|               null|        null|              null|            null|         null|          null|\n",
            "|       0000000000284|http://world-en.o...|       kiliweb|1547120245|2019-01-10T11:37:25Z|     1563551052|  2019-07-19T15:44:12Z|           Pain maïs|                    null|        null|    null|     null|          null|        null|          null|         null|         null|                null|                null|                null|   null|        null|      null|                null|                     null|         null|            null|            null|     null|          null|                    null|  null|       null|           null|         null|       en:france|       en:france|       France|                null|                null|                     null|      null|        null|  null|       null|     null|        null|            null|         null|       null|     null|                null|                null|            null|            null|      null|             unknown|             unknown|                null|                null|                null|en:to-be-complete...|en:to-be-complete...|To be completed,N...|       null|          null|       unknown|                null|            null| null|                    null|          null|                null|       0.175|  1547120246|2019-01-10T11:37:26Z|                null|                null|https://images.op...|https://images.op...| https://images.op...|       https://images.op...|                null|                     null|          null|            null|       null|                null|    null|              null|              null|              null|               null|             null|             null|               null|               null|              null|                null|              null|                 null|              null|               null|               null|                    null|                    null|            null|                      null|                       null|                      null|            null|               null|                  null|                      null|                             null|            null|            null|              null|              null|           null|             null|               null|          null|            null|              null|       null|         null|         null|          null|         null|         null|               null|       null|        null|      null|              null|                null|         null|       null|               null|            null|     null|       null|        null|          null|              null|          null|          null|          null|          null|           null|           null|           null|           null|           null|        null|            null|       null|                 null|       null|            null|          null|         null|        null|           null|     null|          null|     null|       null|          null|         null|         null|         null|           null|       null|         null|        null|   null|                       null|                             null|                                null|                                                 null|                            null|      null|           null|                 null|                                   null|                   null|                   null|               null|               null|        null|              null|            null|         null|          null|\n",
            "|       0000000000291|http://world-en.o...|       kiliweb|1534239669|2018-08-14T09:41:09Z|     1534239732|  2018-08-14T09:42:12Z|           Mendiants|                    null|        null|    null|     null|          null|        null|          null|         null|         null|                null|                null|                null|   null|        null|      null|                null|                     null|         null|            null|            null|     null|          null|                    null|  null|       null|           null|         null|          France|       en:france|       France|                null|                null|                     null|      null|        null|  null|       null|     null|        null|            null|         null|       null|     null|                null|                null|            null|            null|      null|             unknown|             unknown|                null|                null|                null|en:to-be-complete...|en:to-be-complete...|To be completed,N...|       null|          null|       unknown|                null|            null| null|                    null|          null|                null|       0.175|  1534239684|2018-08-14T09:41:24Z|                null|                null|https://images.op...|https://images.op...| https://images.op...|       https://images.op...|                null|                     null|          null|            null|       null|                null|    null|              null|              null|              null|               null|             null|             null|               null|               null|              null|                null|              null|                 null|              null|               null|               null|                    null|                    null|            null|                      null|                       null|                      null|            null|               null|                  null|                      null|                             null|            null|            null|              null|              null|           null|             null|               null|          null|            null|              null|       null|         null|         null|          null|         null|         null|               null|       null|        null|      null|              null|                null|         null|       null|               null|            null|     null|       null|        null|          null|              null|          null|          null|          null|          null|           null|           null|           null|           null|           null|        null|            null|       null|                 null|       null|            null|          null|         null|        null|           null|     null|          null|     null|       null|          null|         null|         null|         null|           null|       null|         null|        null|   null|                       null|                             null|                                null|                                                 null|                            null|      null|           null|                 null|                                   null|                   null|                   null|               null|               null|        null|              null|            null|         null|          null|\n",
            "|        000000000054|http://world-en.o...|       kiliweb|1582569031|2020-02-24T18:30:31Z|     1582569032|  2020-02-24T18:30:32Z|Limonade artisana...|                    null|        null|    null|     null|          null|        null|          null|         null|         null|                null|                null|                null|   null|        null|      null|                null|                     null|         null|            null|            null|     null|          null|                    null|  null|       null|           null|         null|           en:fr|       en:france|       France|                null|                null|                     null|      null|        null|  null|       null|     null|        null|            null|         null|       null|     null|                null|                null|            null|            null|      null|             unknown|             unknown|                null|                null|                null|en:to-be-complete...|en:to-be-complete...|To be completed,N...|       null|          null|       unknown|                null|            null| null|                    null|          null|                null|      0.1625|  1582569031|2020-02-24T18:30:31Z|                null|                null|https://images.op...|https://images.op...|                 null|                       null|                null|                     null|          null|            null|       null|                null|    null|              null|              null|              null|               null|             null|             null|               null|               null|              null|                null|              null|                 null|              null|               null|               null|                    null|                    null|            null|                      null|                       null|                      null|            null|               null|                  null|                      null|                             null|            null|            null|              null|              null|           null|             null|               null|          null|            null|              null|       null|         null|         null|          null|         null|         null|               null|       null|        null|      null|              null|                null|         null|       null|               null|            null|     null|       null|        null|          null|              null|          null|          null|          null|          null|           null|           null|           null|           null|           null|        null|            null|       null|                 null|       null|            null|          null|         null|        null|           null|     null|          null|     null|       null|          null|         null|         null|         null|           null|       null|         null|        null|   null|                       null|                             null|                                null|                                                 null|                            null|      null|           null|                 null|                                   null|                   null|                   null|               null|               null|        null|              null|            null|         null|          null|\n",
            "|        000000000075|http://world-en.o...|       kiliweb|1577358367|2019-12-26T11:06:07Z|     1577358368|  2019-12-26T11:06:08Z|     Sachet calisson|                    null|        null|    null|     null|          null|        null|          null|         null|         null|                null|                null|                null|   null|        null|      null|                null|                     null|         null|            null|            null|     null|          null|                    null|  null|       null|           null|         null|           en:fr|       en:france|       France|                null|                null|                     null|      null|        null|  null|       null|     null|        null|            null|         null|       null|     null|                null|                null|            null|            null|      null|             unknown|             unknown|                null|                null|                null|en:to-be-complete...|en:to-be-complete...|To be completed,N...|       null|          null|       unknown|                null|            null| null|                    null|          null|                null|      0.2625|  1577358368|2019-12-26T11:06:08Z|                null|                null|https://images.op...|https://images.op...|                 null|                       null|                null|                     null|          null|            null|       null|                null|    null|              null|              null|              null|               null|             null|             null|               null|               null|              null|                null|              null|                 null|              null|               null|               null|                    null|                    null|            null|                      null|                       null|                      null|            null|               null|                  null|                      null|                             null|            null|            null|              null|              null|           null|             null|               null|          null|            null|              null|       null|         null|         null|          null|         null|         null|               null|       null|        null|      null|              null|                null|         null|       null|               null|            null|        0|          0|        null|          null|              null|          null|          null|          null|          null|           null|           null|           null|           null|           null|        null|            null|       null|                 null|       null|            null|          null|         null|        null|           null|     null|          null|     null|       null|          null|         null|         null|         null|           null|       null|         null|        null|   null|                       null|                             null|                                null|                                                 null|                            null|      null|           null|                 null|                                   null|                   null|                   null|               null|               null|        null|              null|            null|         null|          null|\n",
            "|        000000000080|http://world-en.o...|       kiliweb|1612447663|2021-02-04T14:07:43Z|     1663692490|  2022-09-20T16:48:10Z|    Pur jus de pomme|                    null|        null|    null|     null|          null|        null|          null|         null|         null|en:squeezed-apple...|en:plant-based-fo...|Plant-based foods...|   null|        null|      null|                null|                     null|         null|            null|            null|     null|          null|                    null|  null|       null|           null|         null|           en:fr|       en:france|       France|                null|                null|                     null|      null|        null|  null|       null|     null|        null|            null|         null|       null|     null|                null|                null|               9|               d|      null|           Beverages|        Fruit juices|     en:fruit-juices|en:beverages,en:f...|Beverages,Fruit j...|en:to-be-complete...|en:to-be-complete...|To be completed,N...|       null|            50|             c|en:fat-in-low-qua...|            null| null|                    null|             1|bottom-25-percent...|       0.375|  1612447667|2021-02-04T14:07:47Z|en:squeezed-apple...|Squeezed apple ju...|https://images.op...|https://images.op...|                 null|                       null|https://images.op...|     https://images.op...|          null|              63|        264|                null|       0|                 0|              null|              null|               null|             null|             null|               null|               null|              null|                null|              null|                 null|              null|               null|               null|                    null|                    null|            null|                      null|                       null|                      null|            null|               null|                  null|                      null|                             null|            null|            null|              null|              null|           null|             null|               null|          null|            null|              15.5|       15.5|         null|         null|          null|         null|         null|               null|       null|        null|      null|              null|                null|          0.2|       null|               null|            null|        0|          0|        null|          null|              null|          null|          null|          null|          null|           null|           null|           null|           null|           null|        null|            null|       null|                 null|       null|            null|          null|         null|        null|           null|     null|          null|     null|       null|          null|         null|         null|         null|           null|       null|         null|        null|   null|                       null|                             null|                                null|                                                 null|                            null|      null|           null|                 null|                                   null|                      9|                   null|               null|               null|        null|              null|            null|         null|          null|\n",
            "|        000000000088|http://world-en.o...|       kiliweb|1577358222|2019-12-26T11:03:42Z|     1632673428|  2021-09-26T16:23:48Z|       Pate d'amande|                    null|        null|    null|     null|          null|        null|          null|         null|         null|      Pâtes d'amande|en:marzipan,en:al...|Marzipan,Almond p...|   null|        null|      null|                null|                     null|         null|            null|            null|     null|          null|                    null|  null|       null|           null|         null|          France|       en:france|       France|                null|                null|                     null|      null|        null|  null|       null|     null|        null|            null|         null|       null|     null|                null|                null|            null|            null|      null|             unknown|             unknown|                null|                null|                null|en:to-be-complete...|en:to-be-complete...|To be completed,N...|       null|             5|             e|en:salt-in-low-qu...|            null| null|                    null|          null|                null|       0.375|  1577358223|2019-12-26T11:03:43Z|     en:almond-paste|        Almond paste|https://images.op...|https://images.op...|                 null|                       null|https://images.op...|     https://images.op...|          null|            null|       null|                null|    null|              null|              null|              null|               null|             null|             null|               null|               null|              null|                null|              null|                 null|              null|               null|               null|                    null|                    null|            null|                      null|                       null|                      null|            null|               null|                  null|                      null|                             null|            null|            null|              null|              null|           null|             null|               null|          null|            null|              null|       null|         null|         null|          null|         null|         null|               null|       null|        null|      null|              null|                null|         null|       null|               null|            null|        0|          0|        null|          null|              null|          null|          null|          null|          null|           null|           null|           null|           null|           null|        null|            null|       null|                 null|       null|            null|          null|         null|        null|           null|     null|          null|     null|       null|          null|         null|         null|         null|           null|       null|         null|        null|   null|                       null|                             null|                                null|                                                 null|                            null|      null|           null|                 null|                                   null|                   null|                   null|               null|               null|        null|              null|            null|         null|          null|\n",
            "+--------------------+--------------------+--------------+----------+--------------------+---------------+----------------------+--------------------+------------------------+------------+--------+---------+--------------+------------+--------------+-------------+-------------+--------------------+--------------------+--------------------+-------+------------+----------+--------------------+-------------------------+-------------+----------------+----------------+---------+--------------+------------------------+------+-----------+---------------+-------------+----------------+----------------+-------------+--------------------+--------------------+-------------------------+----------+------------+------+-----------+---------+------------+----------------+-------------+-----------+---------+--------------------+--------------------+----------------+----------------+----------+--------------------+--------------------+--------------------+--------------------+--------------------+--------------------+--------------------+--------------------+-----------+--------------+--------------+--------------------+----------------+-----+------------------------+--------------+--------------------+------------+------------+--------------------+--------------------+--------------------+--------------------+--------------------+---------------------+---------------------------+--------------------+-------------------------+--------------+----------------+-----------+--------------------+--------+------------------+------------------+------------------+-------------------+-----------------+-----------------+-------------------+-------------------+------------------+--------------------+------------------+---------------------+------------------+-------------------+-------------------+------------------------+------------------------+----------------+--------------------------+---------------------------+--------------------------+----------------+-------------------+----------------------+--------------------------+---------------------------------+----------------+----------------+------------------+------------------+---------------+-----------------+-------------------+--------------+----------------+------------------+-----------+-------------+-------------+--------------+-------------+-------------+-------------------+-----------+------------+----------+------------------+--------------------+-------------+-----------+-------------------+----------------+---------+-----------+------------+--------------+------------------+--------------+--------------+--------------+--------------+---------------+---------------+---------------+---------------+---------------+------------+----------------+-----------+---------------------+-----------+----------------+--------------+-------------+------------+---------------+---------+--------------+---------+-----------+--------------+-------------+-------------+-------------+---------------+-----------+-------------+------------+-------+---------------------------+---------------------------------+------------------------------------+-----------------------------------------------------+--------------------------------+----------+---------------+---------------------+---------------------------------------+-----------------------+-----------------------+-------------------+-------------------+------------+------------------+----------------+-------------+--------------+\n",
            "only showing top 20 rows\n",
            "\n"
          ]
        },
        {
          "data": {
            "text/plain": [
              "2615635"
            ]
          },
          "execution_count": 5,
          "metadata": {},
          "output_type": "execute_result"
        }
      ],
      "source": [
        "# Load data from Google Drive\n",
        "\n",
        "# path = \"/content/drive/MyDrive/2022 Fall CIS 545/CIS5450_project/data/partitions/p0.csv\"\n",
        "# path = \"/content/drive/MyDrive/2022 Fall CIS 545/CIS5450_project/data/100k.csv\"\n",
        "# path = \"/content/drive/MyDrive/2022 Fall CIS 545/CIS5450_project/data/en.openfoodfacts.org.products.csv\"\n",
        "path = \"drive/My Drive/545_project/data/en.openfoodfacts.org.products.csv\" # wesley\n",
        "\n",
        "df = spark.read.option(\"encoding\", \"UTF-8\").option(\"delimiter\", \"\\t\").option(\"header\", \"True\").csv(path)\n",
        "df.show()\n",
        "df.count()\n",
        "# len(df.columns)"
      ]
    },
    {
      "cell_type": "markdown",
      "metadata": {
        "id": "ylIuiZIn_lUF"
      },
      "source": [
        "To cleaning the rows, since we used the 'product_name' column as the key coulmn, we dropped any rows without a product name. We kept all the other 2547006 rows for now.\n",
        "\n",
        "\n",
        "\n"
      ]
    },
    {
      "cell_type": "code",
      "execution_count": null,
      "metadata": {
        "colab": {
          "base_uri": "https://localhost:8080/"
        },
        "id": "uYwYiqDcx2YW",
        "outputId": "f762ee49-ec7c-4f36-c878-6f431ece5901"
      },
      "outputs": [
        {
          "name": "stdout",
          "output_type": "stream",
          "text": [
            "+--------------------+--------------------+--------------+----------+--------------------+---------------+----------------------+--------------------+------------------------+------------+--------+---------+--------------+------------+--------------+-------------+-------------+--------------------+--------------------+--------------------+-------+------------+----------+--------------------+-------------------------+-------------+----------------+----------------+---------+--------------+------------------------+------+-----------+---------------+-------------+----------------+----------------+-------------+--------------------+--------------------+-------------------------+----------+------------+------+-----------+---------+------------+----------------+-------------+-----------+---------+--------------------+--------------------+----------------+----------------+----------+--------------------+--------------------+--------------------+--------------------+--------------------+--------------------+--------------------+--------------------+-----------+--------------+--------------+--------------------+----------------+-----+------------------------+--------------+--------------------+------------+------------+--------------------+--------------------+--------------------+--------------------+--------------------+---------------------+---------------------------+--------------------+-------------------------+--------------+----------------+-----------+--------------------+--------+------------------+------------------+------------------+-------------------+-----------------+-----------------+-------------------+-------------------+------------------+--------------------+------------------+---------------------+------------------+-------------------+-------------------+------------------------+------------------------+----------------+--------------------------+---------------------------+--------------------------+----------------+-------------------+----------------------+--------------------------+---------------------------------+----------------+----------------+------------------+------------------+---------------+-----------------+-------------------+--------------+----------------+------------------+-----------+-------------+-------------+--------------+-------------+-------------+-------------------+-----------+------------+----------+------------------+--------------------+-------------+-----------+-------------------+----------------+---------+-----------+------------+--------------+------------------+--------------+--------------+--------------+--------------+---------------+---------------+---------------+---------------+---------------+------------+----------------+-----------+---------------------+-----------+----------------+--------------+-------------+------------+---------------+---------+--------------+---------+-----------+--------------+-------------+-------------+-------------+---------------+-----------+-------------+------------+-------+---------------------------+---------------------------------+------------------------------------+-----------------------------------------------------+--------------------------------+----------+---------------+---------------------+---------------------------------------+-----------------------+-----------------------+-------------------+-------------------+------------+------------------+----------------+-------------+--------------+\n",
            "|                code|                 url|       creator| created_t|    created_datetime|last_modified_t|last_modified_datetime|        product_name|abbreviated_product_name|generic_name|quantity|packaging|packaging_tags|packaging_en|packaging_text|       brands|  brands_tags|          categories|     categories_tags|       categories_en|origins|origins_tags|origins_en|manufacturing_places|manufacturing_places_tags|       labels|     labels_tags|       labels_en|emb_codes|emb_codes_tags|first_packaging_code_geo|cities|cities_tags|purchase_places|       stores|       countries|  countries_tags| countries_en|    ingredients_text|    ingredients_tags|ingredients_analysis_tags| allergens|allergens_en|traces|traces_tags|traces_en|serving_size|serving_quantity|no_nutriments|additives_n|additives|      additives_tags|        additives_en|nutriscore_score|nutriscore_grade|nova_group|       pnns_groups_1|       pnns_groups_2|         food_groups|    food_groups_tags|      food_groups_en|              states|         states_tags|           states_en|brand_owner|ecoscore_score|ecoscore_grade|nutrient_levels_tags|product_quantity|owner|data_quality_errors_tags|unique_scans_n|     popularity_tags|completeness|last_image_t| last_image_datetime|       main_category|    main_category_en|           image_url|     image_small_url|image_ingredients_url|image_ingredients_small_url| image_nutrition_url|image_nutrition_small_url|energy-kj_100g|energy-kcal_100g|energy_100g|energy-from-fat_100g|fat_100g|saturated-fat_100g|-butyric-acid_100g|-caproic-acid_100g|-caprylic-acid_100g|-capric-acid_100g|-lauric-acid_100g|-myristic-acid_100g|-palmitic-acid_100g|-stearic-acid_100g|-arachidic-acid_100g|-behenic-acid_100g|-lignoceric-acid_100g|-cerotic-acid_100g|-montanic-acid_100g|-melissic-acid_100g|monounsaturated-fat_100g|polyunsaturated-fat_100g|omega-3-fat_100g|-alpha-linolenic-acid_100g|-eicosapentaenoic-acid_100g|-docosahexaenoic-acid_100g|omega-6-fat_100g|-linoleic-acid_100g|-arachidonic-acid_100g|-gamma-linolenic-acid_100g|-dihomo-gamma-linolenic-acid_100g|omega-9-fat_100g|-oleic-acid_100g|-elaidic-acid_100g|-gondoic-acid_100g|-mead-acid_100g|-erucic-acid_100g|-nervonic-acid_100g|trans-fat_100g|cholesterol_100g|carbohydrates_100g|sugars_100g|-sucrose_100g|-glucose_100g|-fructose_100g|-lactose_100g|-maltose_100g|-maltodextrins_100g|starch_100g|polyols_100g|fiber_100g|soluble-fiber_100g|insoluble-fiber_100g|proteins_100g|casein_100g|serum-proteins_100g|nucleotides_100g|salt_100g|sodium_100g|alcohol_100g|vitamin-a_100g|beta-carotene_100g|vitamin-d_100g|vitamin-e_100g|vitamin-k_100g|vitamin-c_100g|vitamin-b1_100g|vitamin-b2_100g|vitamin-pp_100g|vitamin-b6_100g|vitamin-b9_100g|folates_100g|vitamin-b12_100g|biotin_100g|pantothenic-acid_100g|silica_100g|bicarbonate_100g|potassium_100g|chloride_100g|calcium_100g|phosphorus_100g|iron_100g|magnesium_100g|zinc_100g|copper_100g|manganese_100g|fluoride_100g|selenium_100g|chromium_100g|molybdenum_100g|iodine_100g|caffeine_100g|taurine_100g|ph_100g|fruits-vegetables-nuts_100g|fruits-vegetables-nuts-dried_100g|fruits-vegetables-nuts-estimate_100g|fruits-vegetables-nuts-estimate-from-ingredients_100g|collagen-meat-protein-ratio_100g|cocoa_100g|chlorophyl_100g|carbon-footprint_100g|carbon-footprint-from-meat-or-fish_100g|nutrition-score-fr_100g|nutrition-score-uk_100g|glycemic-index_100g|water-hardness_100g|choline_100g|phylloquinone_100g|beta-glucan_100g|inositol_100g|carnitine_100g|\n",
            "+--------------------+--------------------+--------------+----------+--------------------+---------------+----------------------+--------------------+------------------------+------------+--------+---------+--------------+------------+--------------+-------------+-------------+--------------------+--------------------+--------------------+-------+------------+----------+--------------------+-------------------------+-------------+----------------+----------------+---------+--------------+------------------------+------+-----------+---------------+-------------+----------------+----------------+-------------+--------------------+--------------------+-------------------------+----------+------------+------+-----------+---------+------------+----------------+-------------+-----------+---------+--------------------+--------------------+----------------+----------------+----------+--------------------+--------------------+--------------------+--------------------+--------------------+--------------------+--------------------+--------------------+-----------+--------------+--------------+--------------------+----------------+-----+------------------------+--------------+--------------------+------------+------------+--------------------+--------------------+--------------------+--------------------+--------------------+---------------------+---------------------------+--------------------+-------------------------+--------------+----------------+-----------+--------------------+--------+------------------+------------------+------------------+-------------------+-----------------+-----------------+-------------------+-------------------+------------------+--------------------+------------------+---------------------+------------------+-------------------+-------------------+------------------------+------------------------+----------------+--------------------------+---------------------------+--------------------------+----------------+-------------------+----------------------+--------------------------+---------------------------------+----------------+----------------+------------------+------------------+---------------+-----------------+-------------------+--------------+----------------+------------------+-----------+-------------+-------------+--------------+-------------+-------------+-------------------+-----------+------------+----------+------------------+--------------------+-------------+-----------+-------------------+----------------+---------+-----------+------------+--------------+------------------+--------------+--------------+--------------+--------------+---------------+---------------+---------------+---------------+---------------+------------+----------------+-----------+---------------------+-----------+----------------+--------------+-------------+------------+---------------+---------+--------------+---------+-----------+--------------+-------------+-------------+-------------+---------------+-----------+-------------+------------+-------+---------------------------+---------------------------------+------------------------------------+-----------------------------------------------------+--------------------------------+----------+---------------+---------------------+---------------------------------------+-----------------------+-----------------------+-------------------+-------------------+------------+------------------+----------------+-------------+--------------+\n",
            "|   00000000000000225|http://world-en.o...|nutrinet-sante|1623855208|2021-06-16T14:53:28Z|     1623855209|  2021-06-16T14:53:29Z|      jeunes pousses|                    null|        null|    null|     null|          null|        null|          null|      endives|      endives|                null|                null|                null|   null|        null|      null|                null|                     null|         null|            null|            null|     null|          null|                    null|  null|       null|           null|         null|       en:france|       en:france|       France|                null|                null|                     null|      null|        null|  null|       null|     null|        null|            null|         null|       null|     null|                null|                null|            null|            null|      null|             unknown|             unknown|                null|                null|                null|en:to-be-complete...|en:to-be-complete...|To be completed,N...|       null|          null|       unknown|                null|            null| null|                    null|          null|                null|         0.2|        null|                null|                null|                null|                null|                null|                 null|                       null|                null|                     null|          null|            null|       null|                null|    null|              null|              null|              null|               null|             null|             null|               null|               null|              null|                null|              null|                 null|              null|               null|               null|                    null|                    null|            null|                      null|                       null|                      null|            null|               null|                  null|                      null|                             null|            null|            null|              null|              null|           null|             null|               null|          null|            null|              null|       null|         null|         null|          null|         null|         null|               null|       null|        null|      null|              null|                null|         null|       null|               null|            null|     null|       null|        null|          null|              null|          null|          null|          null|          null|           null|           null|           null|           null|           null|        null|            null|       null|                 null|       null|            null|          null|         null|        null|           null|     null|          null|     null|       null|          null|         null|         null|         null|           null|       null|         null|        null|   null|                       null|                             null|                                null|                                                 null|                            null|      null|           null|                 null|                                   null|                   null|                   null|               null|               null|        null|              null|            null|         null|          null|\n",
            "|00000000000002070...|http://world-en.o...|       kiliweb|1656948610|2022-07-04T15:30:10Z|     1656948613|  2022-07-04T15:30:13Z|               Andrè|                    null|        null|    null|     null|          null|        null|          null|         null|         null|                null|                null|                null|   null|        null|      null|                null|                     null|         null|            null|            null|     null|          null|                    null|  null|       null|           null|         null|           en:de|      en:germany|      Germany|                null|                null|                     null|      null|        null|  null|       null|     null|        null|            null|         null|       null|     null|                null|                null|            null|            null|      null|             unknown|             unknown|                null|                null|                null|en:to-be-complete...|en:to-be-complete...|To be completed,N...|       null|          null|       unknown|                null|            null| null|                    null|          null|                null|      0.2625|  1656948613|2022-07-04T15:30:13Z|                null|                null|                null|                null|                 null|                       null|https://images.op...|     https://images.op...|          null|             165|        690|                null|       2|                 2|              null|              null|               null|             null|             null|               null|               null|              null|                null|              null|                 null|              null|               null|               null|                    null|                    null|            null|                      null|                       null|                      null|            null|               null|                  null|                      null|                             null|            null|            null|              null|              null|           null|             null|               null|          null|            null|                65|       12.6|         null|         null|          null|         null|         null|               null|       null|        null|         3|              null|                null|          1.5|       null|               null|            null|     null|       null|        null|          null|              null|          null|          null|          null|          null|           null|           null|           null|           null|           null|        null|            null|       null|                 null|       null|            null|          null|         null|        null|           null|     null|          null|     null|       null|          null|         null|         null|         null|           null|       null|         null|        null|   null|                       null|                             null|                                null|                                                 null|                            null|      null|           null|                 null|                                   null|                   null|                   null|               null|               null|        null|              null|            null|         null|          null|\n",
            "|00000000000003429145|http://world-en.o...|       kiliweb|1630483911|2021-09-01T08:11:51Z|     1656488106|  2022-06-29T07:35:06Z|             L.casei|                    null|        null|    null|     null|          null|        null|          null|         null|         null|                null|                null|                null|  Spain|    en:spain|     Spain|                null|                     null|         null|            null|            null|     null|          null|                    null|  null|       null|           null|         null|           Spain|        en:spain|        Spain|Leche semidesnata...|en:semi-skimmed-m...|     en:palm-oil-free,...|      null|        null|  null|       null|     null|        null|            null|         null|          0|     null|                null|                null|            null|            null|      null|             unknown|             unknown|                null|                null|                null|en:to-be-complete...|en:to-be-complete...|To be completed,N...|       null|          null|       unknown|                null|            null| null|                    null|          null|                null|      0.4875|  1630483912|2021-09-01T08:11:52Z|                null|                null|https://images.op...|https://images.op...| https://images.op...|       https://images.op...|https://images.op...|     https://images.op...|          null|            null|       null|                null|     1.4|               0.9|              null|              null|               null|             null|             null|               null|               null|              null|                null|              null|                 null|              null|               null|               null|                    null|                    null|            null|                      null|                       null|                      null|            null|               null|                  null|                      null|                             null|            null|            null|              null|              null|           null|             null|               null|          null|            null|               9.8|        9.8|         null|         null|          null|         null|         null|               null|       null|        null|      null|              null|                null|          2.7|       null|               null|            null|      0.1|       0.04|        null|          null|              null|          null|          null|          null|          null|           null|           null|           null|           null|           null|        null|            null|       null|                 null|       null|            null|          null|         null|        null|           null|     null|          null|     null|       null|          null|         null|         null|         null|           null|       null|         null|        null|   null|                       null|                             null|                                null|                                                    0|                            null|      null|           null|                 null|                                   null|                   null|                   null|               null|               null|        null|              null|            null|         null|          null|\n",
            "|00000000000026772226|http://world-en.o...|       kiliweb|1654250311|2022-06-03T09:58:31Z|     1654270474|  2022-06-03T15:34:34Z|                Skyr|                    null|        null|   480 g|     null|          null|        null|          null|       Danone|       danone|Produits laitiers...|en:dairies,en:des...|Dairies,Desserts,...|   null|        null|      null|                null|                     null|         null|            null|            null|     null|          null|                    null|  null|       null|           null|         null|          France|       en:france|       France|                null|                null|                     null|      null|        null|  null|       null|     null|        null|            null|         null|       null|     null|                null|                null|              -5|               a|      null|Milk and dairy pr...|      Dairy desserts|   en:dairy-desserts|en:milk-and-dairy...|Milk and dairy pr...|en:to-be-complete...|en:to-be-complete...|To be completed,N...|       null|            34|             d|en:fat-in-low-qua...|             480| null|                    null|          null|                null|       0.575|  1654250314|2022-06-03T09:58:34Z|             en:skyr|                Skyr|https://images.op...|https://images.op...|                 null|                       null|https://images.op...|     https://images.op...|          null|              57|        238|                null|     0.2|               0.1|              null|              null|               null|             null|             null|               null|               null|              null|                null|              null|                 null|              null|               null|               null|                    null|                    null|            null|                      null|                       null|                      null|            null|               null|                  null|                      null|                             null|            null|            null|              null|              null|           null|             null|               null|          null|            null|               3.9|        3.9|         null|         null|          null|         null|         null|               null|       null|        null|      null|              null|                null|           10|       null|               null|            null|     0.09|      0.036|        null|          null|              null|          null|          null|          null|          null|           null|           null|           null|           null|           null|        null|            null|       null|                 null|       null|            null|          null|         null|        null|           null|     null|          null|     null|       null|          null|         null|         null|         null|           null|       null|         null|        null|   null|                       null|                             null|                                null|                                                 null|                            null|      null|           null|                 null|                                   null|                     -5|                   null|               null|               null|        null|              null|            null|         null|          null|\n",
            "|       0000000000017|http://world-en.o...|       kiliweb|1529059080|2018-06-15T10:38:00Z|     1561463718|  2019-06-25T11:55:18Z|    Vitória crackers|                    null|        null|    null|     null|          null|        null|          null|         null|         null|                null|                null|                null|   null|        null|      null|                null|                     null|         null|            null|            null|     null|          null|                    null|  null|       null|           null|         null|          France|       en:france|       France|                null|                null|                     null|      null|        null|  null|       null|     null|        null|            null|         null|       null|     null|                null|                null|            null|            null|      null|             unknown|             unknown|                null|                null|                null|en:to-be-complete...|en:to-be-complete...|To be completed,N...|       null|          null|       unknown|                null|            null| null|                    null|          null|                null|       0.275|  1529059087|2018-06-15T10:38:07Z|                null|                null|https://images.op...|https://images.op...| https://images.op...|       https://images.op...|                null|                     null|          null|             375|       1569|                null|       7|              3.08|              null|              null|               null|             null|             null|               null|               null|              null|                null|              null|                 null|              null|               null|               null|                    null|                    null|            null|                      null|                       null|                      null|            null|               null|                  null|                      null|                             null|            null|            null|              null|              null|           null|             null|               null|          null|            null|              70.1|         15|         null|         null|          null|         null|         null|               null|       null|        null|      null|              null|                null|          7.8|       null|               null|            null|      1.4|       0.56|        null|          null|              null|          null|          null|          null|          null|           null|           null|           null|           null|           null|        null|            null|       null|                 null|       null|            null|          null|         null|        null|           null|     null|          null|     null|       null|          null|         null|         null|         null|           null|       null|         null|        null|   null|                       null|                             null|                                null|                                                 null|                            null|      null|           null|                 null|                                   null|                   null|                   null|               null|               null|        null|              null|            null|         null|          null|\n",
            "|       0000000000031|http://world-en.o...|      isagoofy|1539464774|2018-10-13T21:06:14Z|     1539464817|  2018-10-13T21:06:57Z|               Cacao|                    null|        null|   130 g|     null|          null|        null|          null|         null|         null|                null|                null|                null|   null|        null|      null|                null|                     null|         null|            null|            null|     null|          null|                    null|  null|       null|           null|         null|          France|       en:france|       France|                null|                null|                     null|      null|        null|  null|       null|     null|        null|            null|         null|       null|     null|                null|                null|            null|            null|      null|             unknown|             unknown|                null|                null|                null|en:to-be-complete...|en:to-be-complete...|To be completed,N...|       null|          null|       unknown|                null|             130| null|                    null|          null|                null|      0.2625|  1539464775|2018-10-13T21:06:15Z|                null|                null|https://images.op...|https://images.op...|                 null|                       null|                null|                     null|          null|            null|       null|                null|    null|              null|              null|              null|               null|             null|             null|               null|               null|              null|                null|              null|                 null|              null|               null|               null|                    null|                    null|            null|                      null|                       null|                      null|            null|               null|                  null|                      null|                             null|            null|            null|              null|              null|           null|             null|               null|          null|            null|              null|       null|         null|         null|          null|         null|         null|               null|       null|        null|      null|              null|                null|         null|       null|               null|            null|     null|       null|        null|          null|              null|          null|          null|          null|          null|           null|           null|           null|           null|           null|        null|            null|       null|                 null|       null|            null|          null|         null|        null|           null|     null|          null|     null|       null|          null|         null|         null|         null|           null|       null|         null|        null|   null|                       null|                             null|                                null|                                                 null|                            null|      null|           null|                 null|                                   null|                   null|                   null|               null|               null|        null|              null|            null|         null|          null|\n",
            "|  000000000003327986|http://world-en.o...|       kiliweb|1574175736|2019-11-19T15:02:16Z|     1624390765|  2021-06-22T19:39:25Z|Filetes de pollo ...|                    null|        null|    null|     null|          null|        null|          null|         null|         null|                null|                null|                null|   null|        null|      null|                null|                     null|         null|            null|            null|     null|          null|                    null|  null|       null|           null|         null|         Espagne|        en:spain|        Spain|                null|                null|                     null|      null|        null|  null|       null|     null|        null|            null|         null|       null|     null|                null|                null|            null|            null|      null|             unknown|             unknown|                null|                null|                null|en:to-be-complete...|en:to-be-complete...|To be completed,N...|       null|          null|       unknown|                null|            null| null|                    null|          null|                null|       0.275|  1574175737|2019-11-19T15:02:17Z|                null|                null|https://images.op...|https://images.op...|                 null|                       null|https://images.op...|     https://images.op...|         685.8|           163.9|      685.8|                null|     1.9|                 1|              null|              null|               null|             null|             null|               null|               null|              null|                null|              null|                 null|              null|               null|               null|                    null|                    null|            null|                      null|                       null|                      null|            null|               null|                  null|                      null|                             null|            null|            null|              null|              null|           null|             null|               null|          null|            null|              null|       null|         null|         null|          null|         null|         null|               null|       null|        null|      null|              null|                null|         15.3|       null|               null|            null|      1.1|       0.44|        null|          null|              null|          null|          null|          null|          null|           null|           null|           null|           null|           null|        null|            null|       null|                 null|       null|            null|          null|         null|        null|           null|     null|          null|     null|       null|          null|         null|         null|         null|           null|       null|         null|        null|   null|                       null|                             null|                                null|                                                 null|                            null|      null|           null|                 null|                                   null|                   null|                   null|               null|               null|        null|              null|            null|         null|          null|\n",
            "|  000000000004128579|http://world-en.o...|       kiliweb|1649449251|2022-04-08T20:20:51Z|     1649449920|  2022-04-08T20:32:00Z|   Burger Meat Pollo|                    null|        null|    null|     null|          null|        null|          null|         null|         null|                null|                null|                null|   null|        null|      null|                null|                     null|         null|            null|            null|     null|          null|                    null|  null|       null|           null|         null|           en:es|        en:spain|        Spain|                null|                null|                     null|      null|        null|  null|       null|     null|        null|            null|         null|       null|     null|                null|                null|            null|            null|      null|             unknown|             unknown|                null|                null|                null|en:to-be-complete...|en:to-be-complete...|To be completed,N...|       null|          null|       unknown|                null|            null| null|                    null|          null|                null|       0.375|  1649449255|2022-04-08T20:20:55Z|                null|                null|https://images.op...|https://images.op...|                 null|                       null|https://images.op...|     https://images.op...|          null|             194|        812|                null|      11|               3.9|              null|              null|               null|             null|             null|               null|               null|              null|                null|              null|                 null|              null|               null|               null|                    null|                    null|            null|                      null|                       null|                      null|            null|               null|                  null|                      null|                             null|            null|            null|              null|              null|           null|             null|               null|          null|            null|               5.7|       0.05|         null|         null|          null|         null|         null|               null|       null|        null|      null|              null|                null|           18|       null|               null|            null|     null|       null|        null|          null|              null|          null|          null|          null|          null|           null|           null|           null|           null|           null|        null|            null|       null|                 null|       null|            null|          null|         null|        null|           null|     null|          null|     null|       null|          null|         null|         null|         null|           null|       null|         null|        null|   null|                       null|                             null|                                null|                                                 null|                            null|      null|           null|                 null|                                   null|                   null|                   null|               null|               null|        null|              null|            null|         null|          null|\n",
            "|  000000000004622327|http://world-en.o...|       kiliweb|1619501895|2021-04-27T05:38:15Z|     1619501897|  2021-04-27T05:38:17Z|Hamburguesas de t...|                    null|        null|    null|     null|          null|        null|          null|         null|         null|                null|                null|                null|   null|        null|      null|                null|                     null|         null|            null|            null|     null|          null|                    null|  null|       null|           null|         null|           en:es|        en:spain|        Spain|                null|                null|                     null|      null|        null|  null|       null|     null|        null|            null|         null|       null|     null|                null|                null|            null|            null|      null|             unknown|             unknown|                null|                null|                null|en:to-be-complete...|en:to-be-complete...|To be completed,N...|       null|          null|       unknown|                null|            null| null|                    null|          null|                null|       0.275|  1619501896|2021-04-27T05:38:16Z|                null|                null|https://images.op...|https://images.op...|                 null|                       null|https://images.op...|     https://images.op...|          null|           874.9|       3661|                null|    15.1|               6.1|              null|              null|               null|             null|             null|               null|               null|              null|                null|              null|                 null|              null|               null|               null|                    null|                    null|            null|                      null|                       null|                      null|            null|               null|                  null|                      null|                             null|            null|            null|              null|              null|           null|             null|               null|          null|            null|               2.6|          1|         null|         null|          null|         null|         null|               null|       null|        null|      null|              null|                null|         15.7|       null|               null|            null|      2.1|       0.84|        null|          null|              null|          null|          null|          null|          null|           null|           null|           null|           null|           null|        null|            null|       null|                 null|       null|            null|          null|         null|        null|           null|     null|          null|     null|       null|          null|         null|         null|         null|           null|       null|         null|        null|   null|                       null|                             null|                                null|                                                 null|                            null|      null|           null|                 null|                                   null|                   null|                   null|               null|               null|        null|              null|            null|         null|          null|\n",
            "|         00000000001|http://world-en.o...|           inf|1634745456|2021-10-20T15:57:36Z|     1634745530|  2021-10-20T15:58:50Z|           hyde icon|                    null|        null|    null|     null|          null|        null|          null|         null|         null|                null|                null|                null|   null|        null|      null|                null|                     null|         null|            null|            null|     null|          null|                    null|  null|       null|           null|         null|en:United States|en:united-states|United States|beta alanine, cre...|en:beta-alanine,e...|     en:palm-oil-conte...|      null|        null|  null|       null|     null|        null|            null|         null|          5|     null|en:e296,en:e330,e...|E296 - Malic acid...|            null|            null|         4|             unknown|             unknown|                null|                null|                null|en:to-be-complete...|en:to-be-complete...|To be completed,N...|       null|          null|       unknown|                null|            null| null|                    null|          null|                null|         0.3|        null|                null|                null|                null|                null|                null|                 null|                       null|                null|                     null|          null|            null|       null|                null|    null|              null|              null|              null|               null|             null|             null|               null|               null|              null|                null|              null|                 null|              null|               null|               null|                    null|                    null|            null|                      null|                       null|                      null|            null|               null|                  null|                      null|                             null|            null|            null|              null|              null|           null|             null|               null|          null|            null|              null|       null|         null|         null|          null|         null|         null|               null|       null|        null|      null|              null|                null|         null|       null|               null|            null|     null|       null|        null|          null|              null|          null|          null|          null|          null|           null|           null|           null|           null|           null|        null|            null|       null|                 null|       null|            null|          null|         null|        null|           null|     null|          null|     null|       null|          null|         null|         null|         null|           null|       null|         null|        null|   null|                       null|                             null|                                null|                                                    0|                            null|      null|           null|                 null|                                   null|                   null|                   null|               null|               null|        null|              null|            null|         null|          null|\n",
            "|       0000000000100|http://world-en.o...|         del51|1444572561|2015-10-11T14:09:21Z|     1444659212|  2015-10-12T14:13:32Z| moutarde au moût...|                    null|        null|    100g|     null|          null|        null|          null|courte paille|courte-paille|Epicerie, Condime...|en:groceries,en:c...|Groceries,Condime...|   null|        null|      null|                null|                     null|Delois france|fr:delois-france|fr:delois-france|     null|          null|                    null|  null|       null|           null|courte paille|          France|       en:france|       France|eau graines de té...|fr:eau-graines-de...|     en:palm-oil-conte...|en:mustard|        null|  null|       null|     null|        null|            null|         null|          0|     null|                null|                null|              18|               d|      null|      Fat and sauces|Dressings and sauces|en:dressings-and-...|en:fats-and-sauce...|Fats and sauces,D...|en:to-be-complete...|en:to-be-complete...|To be completed,N...|       null|            55|             c|en:fat-in-moderat...|             100| null|                    null|          null|                null|      0.7625|  1444572697|2015-10-11T14:11:37Z|         en:mustards|            Mustards|https://images.op...|https://images.op...|                 null|                       null|                null|                     null|           936|            null|        936|                null|     8.2|               2.2|              null|              null|               null|             null|             null|               null|               null|              null|                null|              null|                 null|              null|               null|               null|                    null|                    null|            null|                      null|                       null|                      null|            null|               null|                  null|                      null|                             null|            null|            null|              null|              null|           null|             null|               null|          null|            null|                29|         22|         null|         null|          null|         null|         null|               null|       null|        null|         0|              null|                null|          5.1|       null|               null|            null|      4.6|       1.84|        null|          null|              null|          null|          null|          null|          null|           null|           null|           null|           null|           null|        null|            null|       null|                 null|       null|            null|          null|         null|        null|           null|     null|          null|     null|       null|          null|         null|         null|         null|           null|       null|         null|        null|   null|                       null|                             null|                                null|                                                    0|                            null|      null|           null|                 null|                                   null|                     18|                   null|               null|               null|        null|              null|            null|         null|          null|\n",
            "|       0000000000123|http://world-en.o...|       kiliweb|1535737982|2018-08-31T17:53:02Z|     1535737986|  2018-08-31T17:53:06Z|Sauce Sweety chil...|                    null|        null|    null|     null|          null|        null|          null|         null|         null|                null|                null|                null|   null|        null|      null|                null|                     null|         null|            null|            null|     null|          null|                    null|  null|       null|           null|         null|          France|       en:france|       France|                null|                null|                     null|      null|        null|  null|       null|     null|        null|            null|         null|       null|     null|                null|                null|            null|            null|      null|             unknown|             unknown|                null|                null|                null|en:to-be-complete...|en:to-be-complete...|To be completed,N...|       null|          null|       unknown|                null|            null| null|                    null|          null|                null|       0.275|  1535737985|2018-08-31T17:53:05Z|                null|                null|https://images.op...|https://images.op...| https://images.op...|       https://images.op...|                null|                     null|          null|              21|         88|                null|       0|                 0|              null|              null|               null|             null|             null|               null|               null|              null|                null|              null|                 null|              null|               null|               null|                    null|                    null|            null|                      null|                       null|                      null|            null|               null|                  null|                      null|                             null|            null|            null|              null|              null|           null|             null|               null|          null|            null|               4.8|        0.4|         null|         null|          null|         null|         null|               null|       null|        null|      null|              null|                null|          0.2|       null|               null|            null|     2.04|      0.816|        null|          null|              null|          null|          null|          null|          null|           null|           null|           null|           null|           null|        null|            null|       null|                 null|       null|            null|          null|         null|        null|           null|     null|          null|     null|       null|          null|         null|         null|         null|           null|       null|         null|        null|   null|                       null|                             null|                                null|                                                 null|                            null|      null|           null|                 null|                                   null|                   null|                   null|               null|               null|        null|              null|            null|         null|          null|\n",
            "|       0000000000178|http://world-en.o...|       kiliweb|1542456332|2018-11-17T12:05:32Z|     1542456333|  2018-11-17T12:05:33Z|           Mini coco|                    null|        null|    null|     null|          null|        null|          null|         null|         null|                null|                null|                null|   null|        null|      null|                null|                     null|         null|            null|            null|     null|          null|                    null|  null|       null|           null|         null|          France|       en:france|       France|                null|                null|                     null|      null|        null|  null|       null|     null|        null|            null|         null|       null|     null|                null|                null|            null|            null|      null|             unknown|             unknown|                null|                null|                null|en:to-be-complete...|en:to-be-complete...|To be completed,N...|       null|          null|       unknown|                null|            null| null|                    null|             1|bottom-25-percent...|       0.275|  1542456333|2018-11-17T12:05:33Z|                null|                null|https://images.op...|https://images.op...| https://images.op...|       https://images.op...|                null|                     null|          null|              60|        251|                null|       3|                 1|              null|              null|               null|             null|             null|               null|               null|              null|                null|              null|                 null|              null|               null|               null|                    null|                    null|            null|                      null|                       null|                      null|            null|               null|                  null|                      null|                             null|            null|            null|              null|              null|           null|             null|               null|          null|            null|                10|          3|         null|         null|          null|         null|         null|               null|       null|        null|      null|              null|                null|            2|       null|               null|            null|     1.15|       0.46|        null|          null|              null|          null|          null|          null|          null|           null|           null|           null|           null|           null|        null|            null|       null|                 null|       null|            null|          null|         null|        null|           null|     null|          null|     null|       null|          null|         null|         null|         null|           null|       null|         null|        null|   null|                       null|                             null|                                null|                                                 null|                            null|      null|           null|                 null|                                   null|                   null|                   null|               null|               null|        null|              null|            null|         null|          null|\n",
            "|       0000000000208|http://world-en.o...|       kiliweb|1544207680|2018-12-07T18:34:40Z|     1544207683|  2018-12-07T18:34:43Z|Pistou d'ail des ...|                    null|        null|    null|     null|          null|        null|          null|         null|         null|                null|                null|                null|   null|        null|      null|                null|                     null|         null|            null|            null|     null|          null|                    null|  null|       null|           null|         null|          France|       en:france|       France|                null|                null|                     null|      null|        null|  null|       null|     null|        null|            null|         null|       null|     null|                null|                null|            null|            null|      null|             unknown|             unknown|                null|                null|                null|en:to-be-complete...|en:to-be-complete...|To be completed,N...|       null|          null|       unknown|                null|            null| null|                    null|             1|bottom-25-percent...|       0.175|  1544207682|2018-12-07T18:34:42Z|                null|                null|https://images.op...|https://images.op...| https://images.op...|       https://images.op...|                null|                     null|          null|            null|       null|                null|    null|              null|              null|              null|               null|             null|             null|               null|               null|              null|                null|              null|                 null|              null|               null|               null|                    null|                    null|            null|                      null|                       null|                      null|            null|               null|                  null|                      null|                             null|            null|            null|              null|              null|           null|             null|               null|          null|            null|              null|       null|         null|         null|          null|         null|         null|               null|       null|        null|      null|              null|                null|         null|       null|               null|            null|     null|       null|        null|          null|              null|          null|          null|          null|          null|           null|           null|           null|           null|           null|        null|            null|       null|                 null|       null|            null|          null|         null|        null|           null|     null|          null|     null|       null|          null|         null|         null|         null|           null|       null|         null|        null|   null|                       null|                             null|                                null|                                                 null|                            null|      null|           null|                 null|                                   null|                   null|                   null|               null|               null|        null|              null|            null|         null|          null|\n",
            "|       0000000000284|http://world-en.o...|       kiliweb|1547120245|2019-01-10T11:37:25Z|     1563551052|  2019-07-19T15:44:12Z|           Pain maïs|                    null|        null|    null|     null|          null|        null|          null|         null|         null|                null|                null|                null|   null|        null|      null|                null|                     null|         null|            null|            null|     null|          null|                    null|  null|       null|           null|         null|       en:france|       en:france|       France|                null|                null|                     null|      null|        null|  null|       null|     null|        null|            null|         null|       null|     null|                null|                null|            null|            null|      null|             unknown|             unknown|                null|                null|                null|en:to-be-complete...|en:to-be-complete...|To be completed,N...|       null|          null|       unknown|                null|            null| null|                    null|          null|                null|       0.175|  1547120246|2019-01-10T11:37:26Z|                null|                null|https://images.op...|https://images.op...| https://images.op...|       https://images.op...|                null|                     null|          null|            null|       null|                null|    null|              null|              null|              null|               null|             null|             null|               null|               null|              null|                null|              null|                 null|              null|               null|               null|                    null|                    null|            null|                      null|                       null|                      null|            null|               null|                  null|                      null|                             null|            null|            null|              null|              null|           null|             null|               null|          null|            null|              null|       null|         null|         null|          null|         null|         null|               null|       null|        null|      null|              null|                null|         null|       null|               null|            null|     null|       null|        null|          null|              null|          null|          null|          null|          null|           null|           null|           null|           null|           null|        null|            null|       null|                 null|       null|            null|          null|         null|        null|           null|     null|          null|     null|       null|          null|         null|         null|         null|           null|       null|         null|        null|   null|                       null|                             null|                                null|                                                 null|                            null|      null|           null|                 null|                                   null|                   null|                   null|               null|               null|        null|              null|            null|         null|          null|\n",
            "|       0000000000291|http://world-en.o...|       kiliweb|1534239669|2018-08-14T09:41:09Z|     1534239732|  2018-08-14T09:42:12Z|           Mendiants|                    null|        null|    null|     null|          null|        null|          null|         null|         null|                null|                null|                null|   null|        null|      null|                null|                     null|         null|            null|            null|     null|          null|                    null|  null|       null|           null|         null|          France|       en:france|       France|                null|                null|                     null|      null|        null|  null|       null|     null|        null|            null|         null|       null|     null|                null|                null|            null|            null|      null|             unknown|             unknown|                null|                null|                null|en:to-be-complete...|en:to-be-complete...|To be completed,N...|       null|          null|       unknown|                null|            null| null|                    null|          null|                null|       0.175|  1534239684|2018-08-14T09:41:24Z|                null|                null|https://images.op...|https://images.op...| https://images.op...|       https://images.op...|                null|                     null|          null|            null|       null|                null|    null|              null|              null|              null|               null|             null|             null|               null|               null|              null|                null|              null|                 null|              null|               null|               null|                    null|                    null|            null|                      null|                       null|                      null|            null|               null|                  null|                      null|                             null|            null|            null|              null|              null|           null|             null|               null|          null|            null|              null|       null|         null|         null|          null|         null|         null|               null|       null|        null|      null|              null|                null|         null|       null|               null|            null|     null|       null|        null|          null|              null|          null|          null|          null|          null|           null|           null|           null|           null|           null|        null|            null|       null|                 null|       null|            null|          null|         null|        null|           null|     null|          null|     null|       null|          null|         null|         null|         null|           null|       null|         null|        null|   null|                       null|                             null|                                null|                                                 null|                            null|      null|           null|                 null|                                   null|                   null|                   null|               null|               null|        null|              null|            null|         null|          null|\n",
            "|        000000000054|http://world-en.o...|       kiliweb|1582569031|2020-02-24T18:30:31Z|     1582569032|  2020-02-24T18:30:32Z|Limonade artisana...|                    null|        null|    null|     null|          null|        null|          null|         null|         null|                null|                null|                null|   null|        null|      null|                null|                     null|         null|            null|            null|     null|          null|                    null|  null|       null|           null|         null|           en:fr|       en:france|       France|                null|                null|                     null|      null|        null|  null|       null|     null|        null|            null|         null|       null|     null|                null|                null|            null|            null|      null|             unknown|             unknown|                null|                null|                null|en:to-be-complete...|en:to-be-complete...|To be completed,N...|       null|          null|       unknown|                null|            null| null|                    null|          null|                null|      0.1625|  1582569031|2020-02-24T18:30:31Z|                null|                null|https://images.op...|https://images.op...|                 null|                       null|                null|                     null|          null|            null|       null|                null|    null|              null|              null|              null|               null|             null|             null|               null|               null|              null|                null|              null|                 null|              null|               null|               null|                    null|                    null|            null|                      null|                       null|                      null|            null|               null|                  null|                      null|                             null|            null|            null|              null|              null|           null|             null|               null|          null|            null|              null|       null|         null|         null|          null|         null|         null|               null|       null|        null|      null|              null|                null|         null|       null|               null|            null|     null|       null|        null|          null|              null|          null|          null|          null|          null|           null|           null|           null|           null|           null|        null|            null|       null|                 null|       null|            null|          null|         null|        null|           null|     null|          null|     null|       null|          null|         null|         null|         null|           null|       null|         null|        null|   null|                       null|                             null|                                null|                                                 null|                            null|      null|           null|                 null|                                   null|                   null|                   null|               null|               null|        null|              null|            null|         null|          null|\n",
            "|        000000000075|http://world-en.o...|       kiliweb|1577358367|2019-12-26T11:06:07Z|     1577358368|  2019-12-26T11:06:08Z|     Sachet calisson|                    null|        null|    null|     null|          null|        null|          null|         null|         null|                null|                null|                null|   null|        null|      null|                null|                     null|         null|            null|            null|     null|          null|                    null|  null|       null|           null|         null|           en:fr|       en:france|       France|                null|                null|                     null|      null|        null|  null|       null|     null|        null|            null|         null|       null|     null|                null|                null|            null|            null|      null|             unknown|             unknown|                null|                null|                null|en:to-be-complete...|en:to-be-complete...|To be completed,N...|       null|          null|       unknown|                null|            null| null|                    null|          null|                null|      0.2625|  1577358368|2019-12-26T11:06:08Z|                null|                null|https://images.op...|https://images.op...|                 null|                       null|                null|                     null|          null|            null|       null|                null|    null|              null|              null|              null|               null|             null|             null|               null|               null|              null|                null|              null|                 null|              null|               null|               null|                    null|                    null|            null|                      null|                       null|                      null|            null|               null|                  null|                      null|                             null|            null|            null|              null|              null|           null|             null|               null|          null|            null|              null|       null|         null|         null|          null|         null|         null|               null|       null|        null|      null|              null|                null|         null|       null|               null|            null|        0|          0|        null|          null|              null|          null|          null|          null|          null|           null|           null|           null|           null|           null|        null|            null|       null|                 null|       null|            null|          null|         null|        null|           null|     null|          null|     null|       null|          null|         null|         null|         null|           null|       null|         null|        null|   null|                       null|                             null|                                null|                                                 null|                            null|      null|           null|                 null|                                   null|                   null|                   null|               null|               null|        null|              null|            null|         null|          null|\n",
            "|        000000000080|http://world-en.o...|       kiliweb|1612447663|2021-02-04T14:07:43Z|     1663692490|  2022-09-20T16:48:10Z|    Pur jus de pomme|                    null|        null|    null|     null|          null|        null|          null|         null|         null|en:squeezed-apple...|en:plant-based-fo...|Plant-based foods...|   null|        null|      null|                null|                     null|         null|            null|            null|     null|          null|                    null|  null|       null|           null|         null|           en:fr|       en:france|       France|                null|                null|                     null|      null|        null|  null|       null|     null|        null|            null|         null|       null|     null|                null|                null|               9|               d|      null|           Beverages|        Fruit juices|     en:fruit-juices|en:beverages,en:f...|Beverages,Fruit j...|en:to-be-complete...|en:to-be-complete...|To be completed,N...|       null|            50|             c|en:fat-in-low-qua...|            null| null|                    null|             1|bottom-25-percent...|       0.375|  1612447667|2021-02-04T14:07:47Z|en:squeezed-apple...|Squeezed apple ju...|https://images.op...|https://images.op...|                 null|                       null|https://images.op...|     https://images.op...|          null|              63|        264|                null|       0|                 0|              null|              null|               null|             null|             null|               null|               null|              null|                null|              null|                 null|              null|               null|               null|                    null|                    null|            null|                      null|                       null|                      null|            null|               null|                  null|                      null|                             null|            null|            null|              null|              null|           null|             null|               null|          null|            null|              15.5|       15.5|         null|         null|          null|         null|         null|               null|       null|        null|      null|              null|                null|          0.2|       null|               null|            null|        0|          0|        null|          null|              null|          null|          null|          null|          null|           null|           null|           null|           null|           null|        null|            null|       null|                 null|       null|            null|          null|         null|        null|           null|     null|          null|     null|       null|          null|         null|         null|         null|           null|       null|         null|        null|   null|                       null|                             null|                                null|                                                 null|                            null|      null|           null|                 null|                                   null|                      9|                   null|               null|               null|        null|              null|            null|         null|          null|\n",
            "|        000000000088|http://world-en.o...|       kiliweb|1577358222|2019-12-26T11:03:42Z|     1632673428|  2021-09-26T16:23:48Z|       Pate d'amande|                    null|        null|    null|     null|          null|        null|          null|         null|         null|      Pâtes d'amande|en:marzipan,en:al...|Marzipan,Almond p...|   null|        null|      null|                null|                     null|         null|            null|            null|     null|          null|                    null|  null|       null|           null|         null|          France|       en:france|       France|                null|                null|                     null|      null|        null|  null|       null|     null|        null|            null|         null|       null|     null|                null|                null|            null|            null|      null|             unknown|             unknown|                null|                null|                null|en:to-be-complete...|en:to-be-complete...|To be completed,N...|       null|             5|             e|en:salt-in-low-qu...|            null| null|                    null|          null|                null|       0.375|  1577358223|2019-12-26T11:03:43Z|     en:almond-paste|        Almond paste|https://images.op...|https://images.op...|                 null|                       null|https://images.op...|     https://images.op...|          null|            null|       null|                null|    null|              null|              null|              null|               null|             null|             null|               null|               null|              null|                null|              null|                 null|              null|               null|               null|                    null|                    null|            null|                      null|                       null|                      null|            null|               null|                  null|                      null|                             null|            null|            null|              null|              null|           null|             null|               null|          null|            null|              null|       null|         null|         null|          null|         null|         null|               null|       null|        null|      null|              null|                null|         null|       null|               null|            null|        0|          0|        null|          null|              null|          null|          null|          null|          null|           null|           null|           null|           null|           null|        null|            null|       null|                 null|       null|            null|          null|         null|        null|           null|     null|          null|     null|       null|          null|         null|         null|         null|           null|       null|         null|        null|   null|                       null|                             null|                                null|                                                 null|                            null|      null|           null|                 null|                                   null|                   null|                   null|               null|               null|        null|              null|            null|         null|          null|\n",
            "+--------------------+--------------------+--------------+----------+--------------------+---------------+----------------------+--------------------+------------------------+------------+--------+---------+--------------+------------+--------------+-------------+-------------+--------------------+--------------------+--------------------+-------+------------+----------+--------------------+-------------------------+-------------+----------------+----------------+---------+--------------+------------------------+------+-----------+---------------+-------------+----------------+----------------+-------------+--------------------+--------------------+-------------------------+----------+------------+------+-----------+---------+------------+----------------+-------------+-----------+---------+--------------------+--------------------+----------------+----------------+----------+--------------------+--------------------+--------------------+--------------------+--------------------+--------------------+--------------------+--------------------+-----------+--------------+--------------+--------------------+----------------+-----+------------------------+--------------+--------------------+------------+------------+--------------------+--------------------+--------------------+--------------------+--------------------+---------------------+---------------------------+--------------------+-------------------------+--------------+----------------+-----------+--------------------+--------+------------------+------------------+------------------+-------------------+-----------------+-----------------+-------------------+-------------------+------------------+--------------------+------------------+---------------------+------------------+-------------------+-------------------+------------------------+------------------------+----------------+--------------------------+---------------------------+--------------------------+----------------+-------------------+----------------------+--------------------------+---------------------------------+----------------+----------------+------------------+------------------+---------------+-----------------+-------------------+--------------+----------------+------------------+-----------+-------------+-------------+--------------+-------------+-------------+-------------------+-----------+------------+----------+------------------+--------------------+-------------+-----------+-------------------+----------------+---------+-----------+------------+--------------+------------------+--------------+--------------+--------------+--------------+---------------+---------------+---------------+---------------+---------------+------------+----------------+-----------+---------------------+-----------+----------------+--------------+-------------+------------+---------------+---------+--------------+---------+-----------+--------------+-------------+-------------+-------------+---------------+-----------+-------------+------------+-------+---------------------------+---------------------------------+------------------------------------+-----------------------------------------------------+--------------------------------+----------+---------------+---------------------+---------------------------------------+-----------------------+-----------------------+-------------------+-------------------+------------+------------------+----------------+-------------+--------------+\n",
            "only showing top 20 rows\n",
            "\n"
          ]
        },
        {
          "data": {
            "text/plain": [
              "2522649"
            ]
          },
          "execution_count": 6,
          "metadata": {},
          "output_type": "execute_result"
        }
      ],
      "source": [
        "# Drop rows with NaN in 'product_name' column and keep all the other rows for now. \n",
        "\n",
        "df = df.na.drop(subset=[\"product_name\"])\n",
        "df.show()\n",
        "df.count()\n"
      ]
    },
    {
      "cell_type": "markdown",
      "metadata": {
        "id": "CqPc8Nu_CXrE"
      },
      "source": [
        "To clean the columns, since the dataset contains a large number of NaN values, we set a threshold as 5% and dropped any columns with less than 5% coverage. We kept all the other 89 columns for now. Saved the new dataset into new_df."
      ]
    },
    {
      "cell_type": "code",
      "execution_count": null,
      "metadata": {
        "colab": {
          "base_uri": "https://localhost:8080/"
        },
        "id": "2PIkaEYbTpiV",
        "outputId": "1c732097-36f3-4460-b2f4-9cceac8a1f1c"
      },
      "outputs": [
        {
          "name": "stdout",
          "output_type": "stream",
          "text": [
            "+-------+-------+-------+---------+----------------+---------------+----------------------+------------+------------------------+------------+--------+---------+--------------+------------+--------------+-------+-----------+----------+---------------+-------------+-------+------------+----------+--------------------+-------------------------+------+-----------+---------+---------+--------------+------------------------+------+-----------+---------------+------+---------+--------------+------------+----------------+----------------+-------------------------+---------+------------+------+-----------+---------+------------+----------------+-------------+-----------+---------+--------------+------------+----------------+----------------+----------+-------------+-------------+-----------+----------------+--------------+-------+-----------+---------+-----------+--------------+--------------+--------------------+----------------+-----+------------------------+--------------+---------------+------------+------------+-------------------+-------------+----------------+---------+---------------+---------------------+---------------------------+-------------------+-------------------------+--------------+----------------+-----------+--------------------+--------+------------------+------------------+------------------+-------------------+-----------------+-----------------+-------------------+-------------------+------------------+--------------------+------------------+---------------------+------------------+-------------------+-------------------+------------------------+------------------------+----------------+--------------------------+---------------------------+--------------------------+----------------+-------------------+----------------------+--------------------------+---------------------------------+----------------+----------------+------------------+------------------+---------------+-----------------+-------------------+--------------+----------------+------------------+-----------+-------------+-------------+--------------+-------------+-------------+-------------------+-----------+------------+----------+------------------+--------------------+-------------+-----------+-------------------+----------------+---------+-----------+------------+--------------+------------------+--------------+--------------+--------------+--------------+---------------+---------------+---------------+---------------+---------------+------------+----------------+-----------+---------------------+-----------+----------------+--------------+-------------+------------+---------------+---------+--------------+---------+-----------+--------------+-------------+-------------+-------------+---------------+-----------+-------------+------------+-------+---------------------------+---------------------------------+------------------------------------+-----------------------------------------------------+--------------------------------+----------+---------------+---------------------+---------------------------------------+-----------------------+-----------------------+-------------------+-------------------+------------+------------------+----------------+-------------+--------------+\n",
            "|   code|    url|creator|created_t|created_datetime|last_modified_t|last_modified_datetime|product_name|abbreviated_product_name|generic_name|quantity|packaging|packaging_tags|packaging_en|packaging_text| brands|brands_tags|categories|categories_tags|categories_en|origins|origins_tags|origins_en|manufacturing_places|manufacturing_places_tags|labels|labels_tags|labels_en|emb_codes|emb_codes_tags|first_packaging_code_geo|cities|cities_tags|purchase_places|stores|countries|countries_tags|countries_en|ingredients_text|ingredients_tags|ingredients_analysis_tags|allergens|allergens_en|traces|traces_tags|traces_en|serving_size|serving_quantity|no_nutriments|additives_n|additives|additives_tags|additives_en|nutriscore_score|nutriscore_grade|nova_group|pnns_groups_1|pnns_groups_2|food_groups|food_groups_tags|food_groups_en| states|states_tags|states_en|brand_owner|ecoscore_score|ecoscore_grade|nutrient_levels_tags|product_quantity|owner|data_quality_errors_tags|unique_scans_n|popularity_tags|completeness|last_image_t|last_image_datetime|main_category|main_category_en|image_url|image_small_url|image_ingredients_url|image_ingredients_small_url|image_nutrition_url|image_nutrition_small_url|energy-kj_100g|energy-kcal_100g|energy_100g|energy-from-fat_100g|fat_100g|saturated-fat_100g|-butyric-acid_100g|-caproic-acid_100g|-caprylic-acid_100g|-capric-acid_100g|-lauric-acid_100g|-myristic-acid_100g|-palmitic-acid_100g|-stearic-acid_100g|-arachidic-acid_100g|-behenic-acid_100g|-lignoceric-acid_100g|-cerotic-acid_100g|-montanic-acid_100g|-melissic-acid_100g|monounsaturated-fat_100g|polyunsaturated-fat_100g|omega-3-fat_100g|-alpha-linolenic-acid_100g|-eicosapentaenoic-acid_100g|-docosahexaenoic-acid_100g|omega-6-fat_100g|-linoleic-acid_100g|-arachidonic-acid_100g|-gamma-linolenic-acid_100g|-dihomo-gamma-linolenic-acid_100g|omega-9-fat_100g|-oleic-acid_100g|-elaidic-acid_100g|-gondoic-acid_100g|-mead-acid_100g|-erucic-acid_100g|-nervonic-acid_100g|trans-fat_100g|cholesterol_100g|carbohydrates_100g|sugars_100g|-sucrose_100g|-glucose_100g|-fructose_100g|-lactose_100g|-maltose_100g|-maltodextrins_100g|starch_100g|polyols_100g|fiber_100g|soluble-fiber_100g|insoluble-fiber_100g|proteins_100g|casein_100g|serum-proteins_100g|nucleotides_100g|salt_100g|sodium_100g|alcohol_100g|vitamin-a_100g|beta-carotene_100g|vitamin-d_100g|vitamin-e_100g|vitamin-k_100g|vitamin-c_100g|vitamin-b1_100g|vitamin-b2_100g|vitamin-pp_100g|vitamin-b6_100g|vitamin-b9_100g|folates_100g|vitamin-b12_100g|biotin_100g|pantothenic-acid_100g|silica_100g|bicarbonate_100g|potassium_100g|chloride_100g|calcium_100g|phosphorus_100g|iron_100g|magnesium_100g|zinc_100g|copper_100g|manganese_100g|fluoride_100g|selenium_100g|chromium_100g|molybdenum_100g|iodine_100g|caffeine_100g|taurine_100g|ph_100g|fruits-vegetables-nuts_100g|fruits-vegetables-nuts-dried_100g|fruits-vegetables-nuts-estimate_100g|fruits-vegetables-nuts-estimate-from-ingredients_100g|collagen-meat-protein-ratio_100g|cocoa_100g|chlorophyl_100g|carbon-footprint_100g|carbon-footprint-from-meat-or-fish_100g|nutrition-score-fr_100g|nutrition-score-uk_100g|glycemic-index_100g|water-hardness_100g|choline_100g|phylloquinone_100g|beta-glucan_100g|inositol_100g|carnitine_100g|\n",
            "+-------+-------+-------+---------+----------------+---------------+----------------------+------------+------------------------+------------+--------+---------+--------------+------------+--------------+-------+-----------+----------+---------------+-------------+-------+------------+----------+--------------------+-------------------------+------+-----------+---------+---------+--------------+------------------------+------+-----------+---------------+------+---------+--------------+------------+----------------+----------------+-------------------------+---------+------------+------+-----------+---------+------------+----------------+-------------+-----------+---------+--------------+------------+----------------+----------------+----------+-------------+-------------+-----------+----------------+--------------+-------+-----------+---------+-----------+--------------+--------------+--------------------+----------------+-----+------------------------+--------------+---------------+------------+------------+-------------------+-------------+----------------+---------+---------------+---------------------+---------------------------+-------------------+-------------------------+--------------+----------------+-----------+--------------------+--------+------------------+------------------+------------------+-------------------+-----------------+-----------------+-------------------+-------------------+------------------+--------------------+------------------+---------------------+------------------+-------------------+-------------------+------------------------+------------------------+----------------+--------------------------+---------------------------+--------------------------+----------------+-------------------+----------------------+--------------------------+---------------------------------+----------------+----------------+------------------+------------------+---------------+-----------------+-------------------+--------------+----------------+------------------+-----------+-------------+-------------+--------------+-------------+-------------+-------------------+-----------+------------+----------+------------------+--------------------+-------------+-----------+-------------------+----------------+---------+-----------+------------+--------------+------------------+--------------+--------------+--------------+--------------+---------------+---------------+---------------+---------------+---------------+------------+----------------+-----------+---------------------+-----------+----------------+--------------+-------------+------------+---------------+---------+--------------+---------+-----------+--------------+-------------+-------------+-------------+---------------+-----------+-------------+------------+-------+---------------------------+---------------------------------+------------------------------------+-----------------------------------------------------+--------------------------------+----------+---------------+---------------------+---------------------------------------+-----------------------+-----------------------+-------------------+-------------------+------------+------------------+----------------+-------------+--------------+\n",
            "|2522649|2522649|2522645|  2522649|         2522649|        2522649|               2522649|     2522649|                    8446|      133265|  657071|   357228|        357215|      357215|         18139|1253625|    1253523|   1074381|        1074357|      1074357| 103978|      103831|    103831|              144913|                   144851|590062|     590016|   590016|   135884|        135819|                   77511|     0|      83557|         175586|347912|  2517485|       2517482|     2517482|          788600|          786974|                   831151|   209065|           0|117191|     144533|   144533|      567612|          560288|            0|     788600|        0|        451960|      451960|          825869|          825869|    713794|      2522646|      2522648|     869800|          869800|        869800|2522649|    2522649|  2522649|     292784|        552953|       2522349|              922826|          615064|45033|                   29123|        717339|         710381|     2522649|     2127485|            2127485|      1074357|         1074357|  2047817|        2047817|               752998|                     752998|            1482952|                  1482952|        182799|         2020946|    2067160|                 978| 2054800|           2014211|                 0|                 0|                  0|                0|                0|                  0|                  0|                 0|                   0|                 0|                    0|                 0|                  0|                  0|                   48844|                   48800|            2369|                         0|                          0|                         0|             646|                  0|                     0|                         0|                                0|             142|               0|                 0|                 0|              0|                0|                  0|        266244|          270672|           2054787|    2039473|            0|            0|             0|            0|            0|                  0|        582|        3878|    857456|              3621|                3346|      2056758|         70|                 98|              58|  1849936|    1849934|       26663|        213719|                83|         11078|          4164|          1347|        221290|          24745|          23880|          24350|          16775|          10764|        8514|           13787|       1402|                 6573|        239|             781|         93757|         1188|      274172|          14457|   267340|         15443|    10704|       4440|          4251|          533|         2702|          261|            399|       2642|          668|         281|    542|                      12769|                              961|                               12041|                                               787467|                             319|      6915|              5|                  476|                                  12608|                 825870|                      2|                  5|                  2|          88|              1711|              49|           79|            45|\n",
            "+-------+-------+-------+---------+----------------+---------------+----------------------+------------+------------------------+------------+--------+---------+--------------+------------+--------------+-------+-----------+----------+---------------+-------------+-------+------------+----------+--------------------+-------------------------+------+-----------+---------+---------+--------------+------------------------+------+-----------+---------------+------+---------+--------------+------------+----------------+----------------+-------------------------+---------+------------+------+-----------+---------+------------+----------------+-------------+-----------+---------+--------------+------------+----------------+----------------+----------+-------------+-------------+-----------+----------------+--------------+-------+-----------+---------+-----------+--------------+--------------+--------------------+----------------+-----+------------------------+--------------+---------------+------------+------------+-------------------+-------------+----------------+---------+---------------+---------------------+---------------------------+-------------------+-------------------------+--------------+----------------+-----------+--------------------+--------+------------------+------------------+------------------+-------------------+-----------------+-----------------+-------------------+-------------------+------------------+--------------------+------------------+---------------------+------------------+-------------------+-------------------+------------------------+------------------------+----------------+--------------------------+---------------------------+--------------------------+----------------+-------------------+----------------------+--------------------------+---------------------------------+----------------+----------------+------------------+------------------+---------------+-----------------+-------------------+--------------+----------------+------------------+-----------+-------------+-------------+--------------+-------------+-------------+-------------------+-----------+------------+----------+------------------+--------------------+-------------+-----------+-------------------+----------------+---------+-----------+------------+--------------+------------------+--------------+--------------+--------------+--------------+---------------+---------------+---------------+---------------+---------------+------------+----------------+-----------+---------------------+-----------+----------------+--------------+-------------+------------+---------------+---------+--------------+---------+-----------+--------------+-------------+-------------+-------------+---------------+-----------+-------------+------------+-------+---------------------------+---------------------------------+------------------------------------+-----------------------------------------------------+--------------------------------+----------+---------------+---------------------+---------------------------------------+-----------------------+-----------------------+-------------------+-------------------+------------+------------------+----------------+-------------+--------------+\n",
            "\n",
            "+----+---+------------------+---------+----------------+---------------+----------------------+------------+------------------------+------------------+------------------+------------------+-------------------+-------------------+--------------------+------------------+-------------------+-----------------+------------------+------------------+--------------------+------------------+------------------+--------------------+-------------------------+-------------------+------------------+------------------+--------------------+-------------------+------------------------+------+--------------------+-------------------+------------------+------------------+------------------+------------------+-------------------+-------------------+-------------------------+-------------------+------------+--------------------+-------------------+-------------------+------------------+-------------------+-------------+-------------------+---------+-------------------+-------------------+------------------+------------------+-------------------+------------------+------------------+-------------------+-------------------+-------------------+------+-----------+---------+-------------------+-------------------+------------------+--------------------+-------------------+--------------------+------------------------+-------------------+-------------------+------------+------------------+-------------------+------------------+------------------+------------------+------------------+---------------------+---------------------------+-------------------+-------------------------+-------------------+------------------+------------------+--------------------+------------------+------------------+------------------+------------------+-------------------+-----------------+-----------------+-------------------+-------------------+------------------+--------------------+------------------+---------------------+------------------+-------------------+-------------------+------------------------+------------------------+--------------------+--------------------------+---------------------------+--------------------------+--------------------+-------------------+----------------------+--------------------------+---------------------------------+-------------------+----------------+------------------+------------------+---------------+-----------------+-------------------+------------------+-------------------+------------------+------------------+-------------+-------------+--------------+-------------+-------------+-------------------+--------------------+--------------------+-------------------+--------------------+--------------------+------------------+--------------------+--------------------+--------------------+------------------+------------------+--------------------+-------------------+--------------------+--------------------+--------------------+--------------------+-------------------+--------------------+--------------------+--------------------+--------------------+--------------------+--------------------+--------------------+--------------------+---------------------+--------------------+--------------------+-------------------+--------------------+-------------------+--------------------+-------------------+--------------------+-------------------+--------------------+--------------------+--------------------+--------------------+--------------------+--------------------+--------------------+--------------------+--------------------+--------------------+---------------------------+---------------------------------+------------------------------------+-----------------------------------------------------+--------------------------------+--------------------+--------------------+---------------------+---------------------------------------+-----------------------+-----------------------+--------------------+--------------------+--------------------+--------------------+--------------------+--------------------+--------------------+\n",
            "|code|url|           creator|created_t|created_datetime|last_modified_t|last_modified_datetime|product_name|abbreviated_product_name|      generic_name|          quantity|         packaging|     packaging_tags|       packaging_en|      packaging_text|            brands|        brands_tags|       categories|   categories_tags|     categories_en|             origins|      origins_tags|        origins_en|manufacturing_places|manufacturing_places_tags|             labels|       labels_tags|         labels_en|           emb_codes|     emb_codes_tags|first_packaging_code_geo|cities|         cities_tags|    purchase_places|            stores|         countries|    countries_tags|      countries_en|   ingredients_text|   ingredients_tags|ingredients_analysis_tags|          allergens|allergens_en|              traces|        traces_tags|          traces_en|      serving_size|   serving_quantity|no_nutriments|        additives_n|additives|     additives_tags|       additives_en|  nutriscore_score|  nutriscore_grade|         nova_group|     pnns_groups_1|     pnns_groups_2|        food_groups|   food_groups_tags|     food_groups_en|states|states_tags|states_en|        brand_owner|     ecoscore_score|    ecoscore_grade|nutrient_levels_tags|   product_quantity|               owner|data_quality_errors_tags|     unique_scans_n|    popularity_tags|completeness|      last_image_t|last_image_datetime|     main_category|  main_category_en|         image_url|   image_small_url|image_ingredients_url|image_ingredients_small_url|image_nutrition_url|image_nutrition_small_url|     energy-kj_100g|  energy-kcal_100g|       energy_100g|energy-from-fat_100g|          fat_100g|saturated-fat_100g|-butyric-acid_100g|-caproic-acid_100g|-caprylic-acid_100g|-capric-acid_100g|-lauric-acid_100g|-myristic-acid_100g|-palmitic-acid_100g|-stearic-acid_100g|-arachidic-acid_100g|-behenic-acid_100g|-lignoceric-acid_100g|-cerotic-acid_100g|-montanic-acid_100g|-melissic-acid_100g|monounsaturated-fat_100g|polyunsaturated-fat_100g|    omega-3-fat_100g|-alpha-linolenic-acid_100g|-eicosapentaenoic-acid_100g|-docosahexaenoic-acid_100g|    omega-6-fat_100g|-linoleic-acid_100g|-arachidonic-acid_100g|-gamma-linolenic-acid_100g|-dihomo-gamma-linolenic-acid_100g|   omega-9-fat_100g|-oleic-acid_100g|-elaidic-acid_100g|-gondoic-acid_100g|-mead-acid_100g|-erucic-acid_100g|-nervonic-acid_100g|    trans-fat_100g|   cholesterol_100g|carbohydrates_100g|       sugars_100g|-sucrose_100g|-glucose_100g|-fructose_100g|-lactose_100g|-maltose_100g|-maltodextrins_100g|         starch_100g|        polyols_100g|         fiber_100g|  soluble-fiber_100g|insoluble-fiber_100g|     proteins_100g|         casein_100g| serum-proteins_100g|    nucleotides_100g|         salt_100g|       sodium_100g|        alcohol_100g|     vitamin-a_100g|  beta-carotene_100g|      vitamin-d_100g|      vitamin-e_100g|      vitamin-k_100g|     vitamin-c_100g|     vitamin-b1_100g|     vitamin-b2_100g|     vitamin-pp_100g|     vitamin-b6_100g|     vitamin-b9_100g|        folates_100g|    vitamin-b12_100g|         biotin_100g|pantothenic-acid_100g|         silica_100g|    bicarbonate_100g|     potassium_100g|       chloride_100g|       calcium_100g|     phosphorus_100g|          iron_100g|      magnesium_100g|          zinc_100g|         copper_100g|      manganese_100g|       fluoride_100g|       selenium_100g|       chromium_100g|     molybdenum_100g|         iodine_100g|       caffeine_100g|        taurine_100g|             ph_100g|fruits-vegetables-nuts_100g|fruits-vegetables-nuts-dried_100g|fruits-vegetables-nuts-estimate_100g|fruits-vegetables-nuts-estimate-from-ingredients_100g|collagen-meat-protein-ratio_100g|          cocoa_100g|     chlorophyl_100g|carbon-footprint_100g|carbon-footprint-from-meat-or-fish_100g|nutrition-score-fr_100g|nutrition-score-uk_100g| glycemic-index_100g| water-hardness_100g|        choline_100g|  phylloquinone_100g|    beta-glucan_100g|       inositol_100g|      carnitine_100g|\n",
            "+----+---+------------------+---------+----------------+---------------+----------------------+------------+------------------------+------------------+------------------+------------------+-------------------+-------------------+--------------------+------------------+-------------------+-----------------+------------------+------------------+--------------------+------------------+------------------+--------------------+-------------------------+-------------------+------------------+------------------+--------------------+-------------------+------------------------+------+--------------------+-------------------+------------------+------------------+------------------+------------------+-------------------+-------------------+-------------------------+-------------------+------------+--------------------+-------------------+-------------------+------------------+-------------------+-------------+-------------------+---------+-------------------+-------------------+------------------+------------------+-------------------+------------------+------------------+-------------------+-------------------+-------------------+------+-----------+---------+-------------------+-------------------+------------------+--------------------+-------------------+--------------------+------------------------+-------------------+-------------------+------------+------------------+-------------------+------------------+------------------+------------------+------------------+---------------------+---------------------------+-------------------+-------------------------+-------------------+------------------+------------------+--------------------+------------------+------------------+------------------+------------------+-------------------+-----------------+-----------------+-------------------+-------------------+------------------+--------------------+------------------+---------------------+------------------+-------------------+-------------------+------------------------+------------------------+--------------------+--------------------------+---------------------------+--------------------------+--------------------+-------------------+----------------------+--------------------------+---------------------------------+-------------------+----------------+------------------+------------------+---------------+-----------------+-------------------+------------------+-------------------+------------------+------------------+-------------+-------------+--------------+-------------+-------------+-------------------+--------------------+--------------------+-------------------+--------------------+--------------------+------------------+--------------------+--------------------+--------------------+------------------+------------------+--------------------+-------------------+--------------------+--------------------+--------------------+--------------------+-------------------+--------------------+--------------------+--------------------+--------------------+--------------------+--------------------+--------------------+--------------------+---------------------+--------------------+--------------------+-------------------+--------------------+-------------------+--------------------+-------------------+--------------------+-------------------+--------------------+--------------------+--------------------+--------------------+--------------------+--------------------+--------------------+--------------------+--------------------+--------------------+---------------------------+---------------------------------+------------------------------------+-----------------------------------------------------+--------------------------------+--------------------+--------------------+---------------------+---------------------------------------+-----------------------+-----------------------+--------------------+--------------------+--------------------+--------------------+--------------------+--------------------+--------------------+\n",
            "| 1.0|1.0|0.9999984143652169|      1.0|             1.0|            1.0|                   1.0|         1.0|    0.003348067844555465|0.0528274048430836|0.2604686581446725|0.1416082855759957|0.14160313226295057|0.14160313226295057|0.007190457332748234|0.4969478512468441|0.49690741755987455|0.425893970980505|0.4258844571718063|0.4258844571718063|0.041217783369783115|0.0411595112915035|0.0411595112915035| 0.05744477333152571|      0.05742019599238737|0.23390570784916967|0.2338874730491638|0.2338874730491638|0.053865599217330674|0.05383983265210499|     0.03072603441858142|   0.0|0.033122721393265574|0.06960381725717688|0.1379153421661119|0.9979529454949936|0.9979517562689062|0.9979517562689062|0.31260789749188256|0.31196333695254475|       0.3294754839060052|0.08287518398318593|         0.0|0.046455531467120476|0.05729413802712942|0.05729413802712942|0.2250063326289151|0.22210303534102446|          0.0|0.31260789749188256|      0.0|0.17916087414459958|0.17916087414459958|0.3273816531748967|0.3273816531748967|0.28295414859538526|0.9999988107739126|0.9999996035913042|0.34479628358919534|0.34479628358919534|0.34479628358919534|   1.0|        1.0|      1.0|0.11606212358516782|0.21919537755748025|0.9998810773912661|  0.3658162510916104|0.24381671806105407|0.017851472797047865|    0.011544610447192613|0.28435941742192433|0.28160120571668906|         1.0|0.8433535541409051| 0.8433535541409051|0.4258844571718063|0.4258844571718063|0.8117724661655268|0.8117724661655268|   0.2984949551047332|         0.2984949551047332| 0.5878550682239186|       0.5878550682239186|0.07246311317983596|0.8011205681012301|0.8194401995679939|3.876877044725603...|0.8145405880881565|0.7984507555351538|               0.0|               0.0|                0.0|              0.0|              0.0|                0.0|                0.0|               0.0|                 0.0|               0.0|                  0.0|               0.0|                0.0|                0.0|    0.019362186336664356|    0.019344744354050047|9.390922003021427E-4|                       0.0|                        0.0|                       0.0|2.560800174736953E-4|                0.0|                   0.0|                       0.0|                              0.0|5.62900348007194E-5|             0.0|               0.0|               0.0|            0.0|              0.0|                0.0|0.1055414367991742|0.10729673450408678|0.8145354347751114|0.8084648320079408|          0.0|          0.0|           0.0|          0.0|          0.0|                0.0|2.307098609437936E-4|0.001537272922233...|0.33990301464849054|0.001435395887418...|0.001326383496078...|0.8153167563144932|2.774860870457998...|3.884805218641198E-5|2.299170435522342E-5|0.7333307170359412|0.7333299242185496|0.010569445055574517|0.08472007005334471|3.290192174971627E-5|0.004391415531847673|0.001650645809226...|5.339625132152749E-4|0.08772128028909293|0.009809133177069026|0.009466239655219573|0.009652551742236039|0.006649755871704704|0.004266943201372...|0.003375023635868486|0.005465286688714918|5.557649914831592E-4| 0.002605594357360061|9.474167829135167E-5|3.095951914039567E-4|0.03716609009021866|4.709335305863003...|0.10868416493931578|0.005730880514887327|0.10597590072974877|0.006121739488926125|0.00424315867962606|0.001760054609261...|0.001685133365759...|2.112858348505876E-4|0.001071096295996...|1.034626695985053...|1.581670696161059...|0.001047311774250...|2.648010087808490...|1.113908435140996...|2.148535131126050...|        0.00506174263641117|             3.809487566443052...|                0.004773157105883537|                                  0.31215876643956414|            1.264543739537288E-4|0.002741166131316723|1.982043478898570...| 1.886905391911439...|                   0.004997920836390635|    0.32738204958359246|   7.928173915594282E-7|1.982043478898570...|7.928173915594282E-7|3.488396522861484E-5|6.782552784790908E-4|1.942402609320599E-5|3.131628696659741E-5|1.783839131008713...|\n",
            "+----+---+------------------+---------+----------------+---------------+----------------------+------------+------------------------+------------------+------------------+------------------+-------------------+-------------------+--------------------+------------------+-------------------+-----------------+------------------+------------------+--------------------+------------------+------------------+--------------------+-------------------------+-------------------+------------------+------------------+--------------------+-------------------+------------------------+------+--------------------+-------------------+------------------+------------------+------------------+------------------+-------------------+-------------------+-------------------------+-------------------+------------+--------------------+-------------------+-------------------+------------------+-------------------+-------------+-------------------+---------+-------------------+-------------------+------------------+------------------+-------------------+------------------+------------------+-------------------+-------------------+-------------------+------+-----------+---------+-------------------+-------------------+------------------+--------------------+-------------------+--------------------+------------------------+-------------------+-------------------+------------+------------------+-------------------+------------------+------------------+------------------+------------------+---------------------+---------------------------+-------------------+-------------------------+-------------------+------------------+------------------+--------------------+------------------+------------------+------------------+------------------+-------------------+-----------------+-----------------+-------------------+-------------------+------------------+--------------------+------------------+---------------------+------------------+-------------------+-------------------+------------------------+------------------------+--------------------+--------------------------+---------------------------+--------------------------+--------------------+-------------------+----------------------+--------------------------+---------------------------------+-------------------+----------------+------------------+------------------+---------------+-----------------+-------------------+------------------+-------------------+------------------+------------------+-------------+-------------+--------------+-------------+-------------+-------------------+--------------------+--------------------+-------------------+--------------------+--------------------+------------------+--------------------+--------------------+--------------------+------------------+------------------+--------------------+-------------------+--------------------+--------------------+--------------------+--------------------+-------------------+--------------------+--------------------+--------------------+--------------------+--------------------+--------------------+--------------------+--------------------+---------------------+--------------------+--------------------+-------------------+--------------------+-------------------+--------------------+-------------------+--------------------+-------------------+--------------------+--------------------+--------------------+--------------------+--------------------+--------------------+--------------------+--------------------+--------------------+--------------------+---------------------------+---------------------------------+------------------------------------+-----------------------------------------------------+--------------------------------+--------------------+--------------------+---------------------+---------------------------------------+-----------------------+-----------------------+--------------------+--------------------+--------------------+--------------------+--------------------+--------------------+--------------------+\n",
            "\n"
          ]
        }
      ],
      "source": [
        "# Get the ratio of null values in each column\n",
        "from pyspark.sql.functions import col, count, isnan, lit, sum\n",
        "\n",
        "def count_not_null(c, nan_as_null=False):\n",
        "    \"\"\"Use conversion between boolean and integer\n",
        "    - False -> 0\n",
        "    - True ->  1\n",
        "    \"\"\"\n",
        "    pred = col(c).isNotNull() & (~isnan(c) if nan_as_null else lit(True))\n",
        "    return sum(pred.cast(\"integer\")).alias(c)\n",
        "\n",
        "df.agg(*[count_not_null(c) for c in df.columns]).show()\n",
        "exprs = [(count_not_null(c) / count(\"*\")).alias(c) for c in df.columns]\n",
        "df_null_ratio = df.agg(*exprs)\n",
        "df_null_ratio.show()"
      ]
    },
    {
      "cell_type": "code",
      "execution_count": null,
      "metadata": {
        "id": "OlVanzWwTz1v"
      },
      "outputs": [],
      "source": [
        "# Drop columns with < 5% coverage\n",
        "ratios = df_null_ratio.select(*[c for c in df.columns]).first()\n",
        "cols_to_drop = [c for c in ratios.asDict() if ratios[c] < 0.05]\n",
        "new_df = df.drop(*cols_to_drop)\n",
        "new_df.show()\n",
        "new_df.count()\n",
        "len(new_df.columns)"
      ]
    },
    {
      "cell_type": "markdown",
      "metadata": {
        "id": "B50Qijtwm6j7"
      },
      "source": [
        "## 1.2 Partitioning Open Food Facts Dataset (Wesley)\n"
      ]
    },
    {
      "cell_type": "code",
      "execution_count": null,
      "metadata": {
        "colab": {
          "base_uri": "https://localhost:8080/",
          "height": 276
        },
        "id": "jFOxmmV0n5B8",
        "outputId": "5398eb53-d89d-4270-ebfa-0fc94285e24a"
      },
      "outputs": [
        {
          "name": "stdout",
          "output_type": "stream",
          "text": [
            "working on  0  th partition job\n"
          ]
        },
        {
          "ename": "FileNotFoundError",
          "evalue": "ignored",
          "output_type": "error",
          "traceback": [
            "\u001b[0;31m---------------------------------------------------------------------------\u001b[0m",
            "\u001b[0;31mFileNotFoundError\u001b[0m                         Traceback (most recent call last)",
            "\u001b[0;32m<ipython-input-34-4a5038fe5da4>\u001b[0m in \u001b[0;36m<module>\u001b[0;34m\u001b[0m\n\u001b[1;32m     10\u001b[0m   \u001b[0mi\u001b[0m \u001b[0;34m=\u001b[0m \u001b[0;36m0\u001b[0m\u001b[0;34m\u001b[0m\u001b[0;34m\u001b[0m\u001b[0m\n\u001b[1;32m     11\u001b[0m   \u001b[0mtext\u001b[0m \u001b[0;34m=\u001b[0m \u001b[0;34m\"\"\u001b[0m\u001b[0;34m\u001b[0m\u001b[0;34m\u001b[0m\u001b[0m\n\u001b[0;32m---> 12\u001b[0;31m   \u001b[0;32mwith\u001b[0m \u001b[0mopen\u001b[0m\u001b[0;34m(\u001b[0m\u001b[0minput_dir\u001b[0m\u001b[0;34m,\u001b[0m \u001b[0mencoding\u001b[0m\u001b[0;34m=\u001b[0m\u001b[0;34m'UTF-8'\u001b[0m\u001b[0;34m)\u001b[0m \u001b[0;32mas\u001b[0m \u001b[0mf\u001b[0m\u001b[0;34m:\u001b[0m\u001b[0;34m\u001b[0m\u001b[0;34m\u001b[0m\u001b[0m\n\u001b[0m\u001b[1;32m     13\u001b[0m     \u001b[0mheader\u001b[0m \u001b[0;34m=\u001b[0m \u001b[0mf\u001b[0m\u001b[0;34m.\u001b[0m\u001b[0mreadline\u001b[0m\u001b[0;34m(\u001b[0m\u001b[0;34m)\u001b[0m\u001b[0;34m\u001b[0m\u001b[0;34m\u001b[0m\u001b[0m\n\u001b[1;32m     14\u001b[0m     \u001b[0mtext\u001b[0m \u001b[0;34m+=\u001b[0m \u001b[0mheader\u001b[0m\u001b[0;34m\u001b[0m\u001b[0;34m\u001b[0m\u001b[0m\n",
            "\u001b[0;31mFileNotFoundError\u001b[0m: [Errno 2] No such file or directory: 'drive/My Drive/545_project/data/en.openfoodfacts.org.products.csv'"
          ]
        }
      ],
      "source": [
        "# Row Partitioning\n",
        "# Notes: please update the input_dir & output_dir before running\n",
        "input_dir = \"drive/My Drive/545_project/data/en.openfoodfacts.org.products.csv\" # \"/content/drive/MyDrive/2022 Fall CIS 545/CIS5450_project/data/en.openfoodfacts.org.products.csv\"\n",
        "output_dir = \"drive/My Drive/545_project/data/partitions/\"\n",
        "\n",
        "num_partitions = 10\n",
        "\n",
        "for r in range(num_partitions):\n",
        "  print(\"working on \",r,\" th partition job\")\n",
        "  i = 0\n",
        "  text = \"\"\n",
        "  with open(input_dir, encoding='UTF-8') as f:\n",
        "    header = f.readline()\n",
        "    text += header\n",
        "\n",
        "    while True:\n",
        "      line = f.readline()\n",
        "      if not line:\n",
        "          break\n",
        "\n",
        "      # The remainder (row index divide by num_partitions) would decide which partition file go to\n",
        "      if i % num_partitions == r:\n",
        "        text += line\n",
        "      i += 1\n",
        "\n",
        "  output_filename = output_dir + \"p\"+ str(r) +\".csv\"\n",
        "  with open(output_filename, 'w', encoding='UTF8') as f:\n",
        "    f.write(text)"
      ]
    },
    {
      "cell_type": "markdown",
      "metadata": {
        "id": "ieqP-IwtpdX1"
      },
      "source": [
        "## 1.3 Dataset 2: Dietary Reference Intake from Wiki (Wesley)\n",
        "https://en.wikipedia.org/wiki/Dietary_Reference_Intake\n",
        "\n",
        "DRI provides several different types of reference values:\n",
        "\n",
        "**Estimated Average Requirements (EAR)**, expected to satisfy the needs of 50% of the people in that age group based on a review of the scientific literature.\n",
        "\n",
        "**Recommended Dietary Allowances (RDA)**, the daily dietary intake level of a nutrient considered sufficient by the Food and Nutrition Board of the Institute of Medicine to meet the requirements of 97.5% of healthy individuals in each life-stage and sex group. The definition implies that the intake level would cause a harmful nutrient deficiency in just 2.5%.\n",
        "\n",
        "**Adequate Intake (AI)**, where no RDA has been established, but the amount established is somewhat less firmly believed to be adequate for everyone in the demographic group.\n",
        "\n",
        "**Tolerable upper intake levels (UL)**, to caution against excessive intake of nutrients (like vitamin A) that can be harmful in large amounts. This is the highest level of sustained daily nutrient consumption that is considered to be safe for, and cause no side effects in, 97.5% of healthy individuals in each life-stage and sex group. \n",
        "\n",
        "**Acceptable Macronutrient Distribution Ranges (AMDR)**, a range of intake specified as a percentage of total energy intake. Used for sources of energy, such as fats and carbohydrates.\n"
      ]
    },
    {
      "cell_type": "markdown",
      "metadata": {
        "id": "UoQEAt6Ys7mq"
      },
      "source": []
    },
    {
      "cell_type": "code",
      "execution_count": null,
      "metadata": {
        "id": "fGrr8jSjp0_k"
      },
      "outputs": [],
      "source": [
        "table_DRI = pd.read_html('https://en.wikipedia.org/wiki/Dietary_Reference_Intake')\n",
        "print(f'Total tables: {len(table_DRI)}')"
      ]
    },
    {
      "cell_type": "code",
      "execution_count": null,
      "metadata": {
        "id": "sUVOotyZqAPr"
      },
      "outputs": [],
      "source": [
        "# There are 5 tables for this wiki page\n",
        "# merge the first 2 table into nutrients_df\n",
        "Vitamins_choline_df = table_DRI[0]\n",
        "cols = ['Nutrient','Highest_EAR','Males_RDA','Females_RDA','UL','Unit','Top_common_sources']\n",
        "Vitamins_choline_df.set_axis(cols, axis=1,inplace=True)\n",
        "Vitamins_choline_df['Nutrient_type'] = 'vitamins_choline'\n",
        "print(Vitamins_choline_df.shape)\n",
        "# Vitamins_choline_df.head()\n",
        "\n",
        "Minerals_df = table_DRI[1]\n",
        "cols = ['Nutrient','Highest_EAR','Males_RDA','Females_RDA','UL','Unit','Top_common_sources']\n",
        "Minerals_df.set_axis(cols, axis=1,inplace=True)\n",
        "Minerals_df['Nutrient_type'] = 'minerals'\n",
        "print(Minerals_df.shape)\n",
        "# Minerals_df.head()\n",
        "\n",
        "nutrients_df = pd.concat([Vitamins_choline_df, Minerals_df])\n",
        "print(nutrients_df.shape)\n",
        "nutrients_df.head()"
      ]
    },
    {
      "cell_type": "code",
      "execution_count": null,
      "metadata": {
        "id": "s3VjCfSVqyZr"
      },
      "outputs": [],
      "source": [
        "nutrients_df.info()\n",
        "nutrients_df['Unit'].unique()"
      ]
    },
    {
      "cell_type": "code",
      "execution_count": null,
      "metadata": {
        "id": "XiASRt-Lq7Wo"
      },
      "outputs": [],
      "source": [
        "# cleaning nutrients_df\n",
        "\n",
        "# remove () [] \n",
        "for i in range(nutrients_df.shape[0]):\n",
        "  if '[' in nutrients_df.iloc[i,3]: \n",
        "    nutrients_df.iloc[i,3] = nutrients_df.iloc[i,3][:nutrients_df.iloc[i,3].index('[')]\n",
        "  if '[' in nutrients_df.iloc[i,4]: \n",
        "    nutrients_df.iloc[i,4] = nutrients_df.iloc[i,4][:nutrients_df.iloc[i,4].index('[')]\n",
        "\n",
        "# remove 'ND' from col 'UL'\n",
        "for i in range(nutrients_df.shape[0]):\n",
        "  if 'ND' in nutrients_df.iloc[i,4]: \n",
        "    nutrients_df.iloc[i,4] = None # '0'\n",
        "  if 'NE' in nutrients_df.iloc[i,1]: \n",
        "    nutrients_df.iloc[i,1] = None # '0'\n",
        "\n",
        "# update column \"Nutrient\"\n",
        "nutrients_df['Nutrient'] = nutrients_df['Nutrient'].apply(lambda x:  x.lower().replace(\" \", \"-\" ))\n",
        "\n",
        "# change datatype of columns\n",
        "nutrients_df['Highest_EAR'] = pd.to_numeric(nutrients_df['Highest_EAR'])\n",
        "nutrients_df['Males_RDA'] = pd.to_numeric(nutrients_df['Males_RDA'])\n",
        "nutrients_df['Females_RDA'] = pd.to_numeric(nutrients_df['Females_RDA'])\n",
        "nutrients_df['UL'] = pd.to_numeric(nutrients_df['UL'])\n",
        "\n",
        "# change the unit to gram\n",
        "for i in range(nutrients_df.shape[0]):\n",
        "\n",
        "  if(nutrients_df.iloc[i,5]) == 'µg':\n",
        "    nutrients_df.iloc[i,1] = nutrients_df.iloc[i,1] * 0.000001\n",
        "    nutrients_df.iloc[i,2] = nutrients_df.iloc[i,2] * 0.000001\n",
        "    nutrients_df.iloc[i,3] = nutrients_df.iloc[i,3] * 0.000001\n",
        "    nutrients_df.iloc[i,4] = nutrients_df.iloc[i,4] * 0.000001\n",
        "    nutrients_df.iloc[i,5] = 'g'\n",
        "  if(nutrients_df.iloc[i,5]) == 'mg':\n",
        "    nutrients_df.iloc[i,1] = nutrients_df.iloc[i,1] * 0.001\n",
        "    nutrients_df.iloc[i,2] = nutrients_df.iloc[i,2] * 0.001\n",
        "    nutrients_df.iloc[i,3] = nutrients_df.iloc[i,3] * 0.001\n",
        "    nutrients_df.iloc[i,4] = nutrients_df.iloc[i,4] * 0.001\n",
        "    nutrients_df.iloc[i,5] = 'g'\n",
        "\n",
        "\n",
        "nutrients_df.info()\n",
        "nutrients_df.head()"
      ]
    },
    {
      "cell_type": "markdown",
      "metadata": {
        "id": "bfHp05yLyWBv"
      },
      "source": [
        "# 2 EDA"
      ]
    },
    {
      "cell_type": "markdown",
      "metadata": {
        "id": "fpONuKcJUSnA"
      },
      "source": [
        "## 2.1. Organic food VS. non-organic food (Baojia)"
      ]
    },
    {
      "cell_type": "markdown",
      "metadata": {
        "id": "-1zP-rONNZCy"
      },
      "source": [
        "Organic food is considered to be safer, heathier than non-organic food, and it usually has a higher price. We wanted to study the open food dataset to see if organic food does have a better nutrition score/grade compared to non-organic food. We analized the dataset by answering following three questions to get a better understanding of organic food.\n",
        "\n",
        "\n",
        "1.   Do organic food products have a lower nutrition score (better score) than non-organic food products?\n",
        "2.   Do organic food products have a better nutrition grade ('a' is the best, 'e' is the worst) than non-organic food products?\n",
        "3.   The average values of some common nutrients in organic and non-organinc food.\n",
        "\n"
      ]
    },
    {
      "cell_type": "markdown",
      "metadata": {
        "id": "nGL56gkUIOoc"
      },
      "source": [
        "1.1 Do organic food products have a lower average nutrition score (better score) than non-organic food? \n",
        "\n",
        "Filtered out the rows with both nutrition score and nutrition grade, and calculated the average nutrition scores for organic and non-organic food. "
      ]
    },
    {
      "cell_type": "code",
      "execution_count": null,
      "metadata": {
        "colab": {
          "base_uri": "https://localhost:8080/"
        },
        "id": "hZbGlLAAKYZm",
        "outputId": "ca8627fe-4334-4e58-fe35-d73a2130ec6c"
      },
      "outputs": [
        {
          "name": "stdout",
          "output_type": "stream",
          "text": [
            "+--------------------+--------------------+---------------+----------+--------------------+---------------+----------------------+--------------------+------------+--------+--------------------+------------------+------------+-------------------+-------------------+--------------------+--------------------+--------------------+--------------------+-------------------------+-------------------+----------------+----------------+----------+--------------+---------------+-------------+-------------+----------------+-------------+--------------------+--------------------+-------------------------+-----------------+-----------------+-----------+---------------+----------------+-----------+--------------------+--------------------+----------------+----------------+----------+--------------------+--------------------+--------------------+--------------------+--------------------+--------------------+--------------------+--------------------+-----------+--------------+--------------+--------------------+----------------+--------------+--------------------+------------+------------+--------------------+--------------------+--------------------+--------------------+--------------------+---------------------+---------------------------+--------------------+-------------------------+--------------+----------------+-----------+--------+------------------+--------------+----------------+------------------+-----------+----------+-------------+---------+-----------+--------------+--------------+------------+---------+-----------------------------------------------------+-----------------------+\n",
            "|                code|                 url|        creator| created_t|    created_datetime|last_modified_t|last_modified_datetime|        product_name|generic_name|quantity|           packaging|    packaging_tags|packaging_en|             brands|        brands_tags|          categories|     categories_tags|       categories_en|manufacturing_places|manufacturing_places_tags|             labels|     labels_tags|       labels_en| emb_codes|emb_codes_tags|purchase_places|       stores|    countries|  countries_tags| countries_en|    ingredients_text|    ingredients_tags|ingredients_analysis_tags|        allergens|      traces_tags|  traces_en|   serving_size|serving_quantity|additives_n|      additives_tags|        additives_en|nutriscore_score|nutriscore_grade|nova_group|       pnns_groups_1|       pnns_groups_2|         food_groups|    food_groups_tags|      food_groups_en|              states|         states_tags|           states_en|brand_owner|ecoscore_score|ecoscore_grade|nutrient_levels_tags|product_quantity|unique_scans_n|     popularity_tags|completeness|last_image_t| last_image_datetime|       main_category|    main_category_en|           image_url|     image_small_url|image_ingredients_url|image_ingredients_small_url| image_nutrition_url|image_nutrition_small_url|energy-kj_100g|energy-kcal_100g|energy_100g|fat_100g|saturated-fat_100g|trans-fat_100g|cholesterol_100g|carbohydrates_100g|sugars_100g|fiber_100g|proteins_100g|salt_100g|sodium_100g|vitamin-a_100g|vitamin-c_100g|calcium_100g|iron_100g|fruits-vegetables-nuts-estimate-from-ingredients_100g|nutrition-score-fr_100g|\n",
            "+--------------------+--------------------+---------------+----------+--------------------+---------------+----------------------+--------------------+------------+--------+--------------------+------------------+------------+-------------------+-------------------+--------------------+--------------------+--------------------+--------------------+-------------------------+-------------------+----------------+----------------+----------+--------------+---------------+-------------+-------------+----------------+-------------+--------------------+--------------------+-------------------------+-----------------+-----------------+-----------+---------------+----------------+-----------+--------------------+--------------------+----------------+----------------+----------+--------------------+--------------------+--------------------+--------------------+--------------------+--------------------+--------------------+--------------------+-----------+--------------+--------------+--------------------+----------------+--------------+--------------------+------------+------------+--------------------+--------------------+--------------------+--------------------+--------------------+---------------------+---------------------------+--------------------+-------------------------+--------------+----------------+-----------+--------+------------------+--------------+----------------+------------------+-----------+----------+-------------+---------+-----------+--------------+--------------+------------+---------+-----------------------------------------------------+-----------------------+\n",
            "|00000000000026772226|http://world-en.o...|        kiliweb|1654250311|2022-06-03T09:58:31Z|     1654270474|  2022-06-03T15:34:34Z|                Skyr|        null|   480 g|                null|              null|        null|             Danone|             danone|Produits laitiers...|en:dairies,en:des...|Dairies,Desserts,...|                null|                     null|               null|            null|            null|      null|          null|           null|         null|       France|       en:france|       France|                null|                null|                     null|             null|             null|       null|           null|            null|       null|                null|                null|              -5|               a|      null|Milk and dairy pr...|      Dairy desserts|   en:dairy-desserts|en:milk-and-dairy...|Milk and dairy pr...|en:to-be-complete...|en:to-be-complete...|To be completed,N...|       null|            34|             d|en:fat-in-low-qua...|             480|          null|                null|       0.575|  1654250314|2022-06-03T09:58:34Z|    en:cream-cheeses|       Cream cheeses|https://images.op...|https://images.op...|                 null|                       null|https://images.op...|     https://images.op...|          null|              57|        238|     0.2|               0.1|          null|            null|               3.9|        3.9|      null|           10|     0.09|      0.036|          null|          null|        null|     null|                                                 null|                     -5|\n",
            "|       0000000000100|http://world-en.o...|          del51|1444572561|2015-10-11T14:09:21Z|     1444659212|  2015-10-12T14:13:32Z| moutarde au moût...|        null|    100g|                null|              null|        null|      courte paille|      courte-paille|en:groceries, Con...|en:condiments,en:...|Condiments,Sauces...|                null|                     null|      Delois france|fr:delois-france|fr:delois-france|      null|          null|           null|courte paille|       France|       en:france|       France|eau graines de té...|fr:eau-graines-de...|     en:palm-oil-conte...|       en:mustard|             null|       null|           null|            null|          0|                null|                null|              18|               d|      null|      Fat and sauces|Dressings and sauces|en:dressings-and-...|en:fats-and-sauce...|Fats and sauces,D...|en:to-be-complete...|en:to-be-complete...|To be completed,N...|       null|            55|             c|en:fat-in-moderat...|             100|          null|                null|      0.7625|  1444572697|2015-10-11T14:11:37Z|        en:groceries|           Groceries|https://images.op...|https://images.op...|                 null|                       null|                null|                     null|           936|            null|        936|     8.2|               2.2|          null|            null|                29|         22|         0|          5.1|      4.6|       1.84|          null|          null|        null|     null|                                                    0|                     18|\n",
            "|        000000000080|http://world-en.o...|        kiliweb|1612447663|2021-02-04T14:07:43Z|     1663692490|  2022-09-20T16:48:10Z|    Pur jus de pomme|        null|    null|                null|              null|        null|               null|               null|Aliments et boiss...|en:plant-based-fo...|Plant-based foods...|                null|                     null|               null|            null|            null|      null|          null|           null|         null|        en:fr|       en:france|       France|                null|                null|                     null|             null|             null|       null|           null|            null|       null|                null|                null|               9|               d|      null|           Beverages|        Fruit juices|     en:fruit-juices|en:beverages,en:f...|Beverages,Fruit j...|en:to-be-complete...|en:to-be-complete...|To be completed,N...|       null|            50|             c|en:fat-in-low-qua...|            null|             1|bottom-25-percent...|       0.375|  1612447667|2021-02-04T14:07:47Z|en:squeezed-apple...|Squeezed apple ju...|https://images.op...|https://images.op...|                 null|                       null|https://images.op...|     https://images.op...|          null|              63|        264|       0|                 0|          null|            null|              15.5|       15.5|      null|          0.2|        0|          0|          null|          null|        null|     null|                                                 null|                      9|\n",
            "|       0000000000949|http://world-en.o...|        kiliweb|1523440813|2018-04-11T10:00:13Z|     1565268412|  2019-08-08T12:46:52Z|Salade de carotte...|        null|    null|                null|              null|        null|               null|               null|Plats préparés, L...|en:plant-based-fo...|Plant-based foods...|                null|                     null|               null|            null|            null|      null|          null|           null|         null|       France|       en:france|       France|                null|                null|                     null|             null|             null|       null|           null|            null|       null|                null|                null|               1|               b|      null|     Composite foods|      One-dish meals|   en:one-dish-meals|en:composite-food...|Composite foods,O...|en:to-be-complete...|en:to-be-complete...|To be completed,N...|       null|            78|             b|en:fat-in-low-qua...|            null|          null|                null|       0.375|  1523440823|2018-04-11T10:00:23Z|en:seasoned-grate...|Seasoned grated c...|https://images.op...|https://images.op...| https://images.op...|       https://images.op...|                null|                     null|          null|              32|        134|     0.3|               0.1|          null|            null|               5.3|        3.9|      null|          0.9|     0.42|      0.168|          null|          null|        null|     null|                                                 null|                      1|\n",
            "|       0000000001281|http://world-en.o...|        kiliweb|1517830801|2018-02-05T11:40:01Z|     1644567888|  2022-02-11T08:24:48Z|  Tarte noix de coco|        null|    null|Plastique, Barquette|en:plastic,en:tray|Plastic,Tray| Crous Resto',Crous|  crous-resto,crous|Tartes, Tartes su...|en:sweet-pies,en:...|Sweet pies,Pies,C...|                null|                     null|               null|            null|            null|      null|          null|           null|         null|       France|       en:france|       France|                null|                null|                     null|             null|             null|       null|           null|            null|       null|                null|                null|              14|               d|      null|     Composite foods|Pizza pies and qu...|en:pizza-pies-and...|en:composite-food...|Composite foods,P...|en:to-be-complete...|en:to-be-complete...|To be completed,N...|       null|          null|       unknown|en:fat-in-high-qu...|            null|             1|top-country-fr-sc...|       0.575|  1527070789|2018-05-23T10:19:49Z|     en:coconut-pies|        Coconut pies|https://images.op...|https://images.op...| https://images.op...|       https://images.op...|                null|                     null|          null|             381|       1594|      22|              15.5|          null|            null|              27.3|       21.9|       4.4|          4.6|      0.1|       0.04|          null|          null|        null|     null|                                                 null|                     14|\n",
            "|       0000000001885|http://world-en.o...|        kiliweb|1511180337|2017-11-20T12:18:57Z|     1518126491|  2018-02-08T21:48:11Z|    Compote de poire|        null|    null|                null|              null|        null|              Crous|              crous|Aliments et boiss...|en:plant-based-fo...|Plant-based foods...|                null|                     null|               null|            null|            null|      null|          null|           null|         null|       France|       en:france|       France|                null|                null|                     null|             null|             null|       null|           null|            null|       null|                null|                null|              -2|               a|      null|Fruits and vegeta...|              Fruits|           en:fruits|en:fruits-and-veg...|Fruits and vegeta...|en:to-be-complete...|en:to-be-complete...|To be completed,N...|       null|            76|             b|en:fat-in-low-qua...|            null|             2|top-country-fr-sc...|       0.475|  1511180341|2017-11-20T12:19:01Z|    en:pear-compotes|       Pear compotes|https://images.op...|https://images.op...|                 null|                       null|https://images.op...|     https://images.op...|          null|             157|        657|       0|                 0|          null|            null|                36|         27|       3.6|          0.6|        0|          0|          null|          null|        null|     null|                                                 null|                     -2|\n",
            "|       0000000002257|http://world-en.o...|        kiliweb|1520506122|2018-03-08T10:48:42Z|     1561463749|  2019-06-25T11:55:49Z|Salade de macedoi...|        null|    null|                null|              null|        null|               null|               null|Plats préparés, L...|en:plant-based-fo...|Plant-based foods...|                null|                     null|               null|            null|            null|      null|          null|           null|         null|       France|       en:france|       France|                null|                null|                     null|             null|             null|       null|        serving|            null|       null|                null|                null|               1|               b|      null|     Composite foods|      One-dish meals|   en:one-dish-meals|en:composite-food...|Composite foods,O...|en:to-be-complete...|en:to-be-complete...|To be completed,N...|       null|            69|             b|en:fat-in-moderat...|            null|          null|                null|       0.375|  1520506124|2018-03-08T10:48:44Z|en:vegetables-mac...|Vegetables macedo...|https://images.op...|https://images.op...| https://images.op...|       https://images.op...|                null|                     null|          null|             143|        598|    12.7|                 1|          null|            null|               3.9|          1|      null|          1.9|     0.27|      0.108|          null|          null|        null|     null|                                                 null|                      1|\n",
            "|       0000000005005|http://world-en.o...|        kiliweb|1521663684|2018-03-21T20:21:24Z|     1545934272|  2018-12-27T18:11:12Z|           Abondance|        null|    null|                null|              null|        null|               null|               null|Produits laitiers...|en:dairies,en:fer...|Dairies,Fermented...|                null|                     null|               null|            null|            null|      null|          null|           null|         null|       France|       en:france|       France|                null|                null|                     null|             null|             null|       null|           null|            null|       null|                null|                null|              14|               d|      null|Milk and dairy pr...|              Cheese|           en:cheese|en:milk-and-dairy...|Milk and dairy pr...|en:to-be-complete...|en:to-be-complete...|To be completed,N...|       null|            29|             d|en:fat-in-high-qu...|            null|             1|bottom-25-percent...|       0.375|  1521663690|2018-03-21T20:21:30Z|        en:abondance|           Abondance|https://images.op...|https://images.op...| https://images.op...|       https://images.op...|                null|                     null|          null|             397|       1661|      33|              21.6|          null|            null|               0.1|        0.1|      null|           25|      1.3|       0.52|          null|          null|        null|     null|                                                 null|                     14|\n",
            "|       0000000005166|http://world-en.o...|        kiliweb|1539279826|2018-10-11T17:43:46Z|     1549996692|  2019-02-12T18:38:12Z|cuisse de poulet ...|        null|    null|                null|              null|        null|               null|               null|Viandes, Volaille...|en:meats,en:poult...|Meats,Poultries,C...|                null|                     null|               null|            null|            null|      null|          null|           null|         null|       France|       en:france|       France|                null|                null|                     null|             null|             null|       null|           null|            null|       null|                null|                null|               4|               c|      null|      Fish Meat Eggs|                Meat|          en:poultry|en:fish-meat-eggs...|Fish‚ Meat‚ Eggs,...|en:to-be-complete...|en:to-be-complete...|To be completed,N...|       null|            24|             d|en:fat-in-moderat...|            null|          null|                null|       0.375|  1539279828|2018-10-11T17:43:48Z|   en:chicken-thighs|      Chicken thighs|https://images.op...|https://images.op...| https://images.op...|       https://images.op...|                null|                     null|          null|             197|        824|      13|                 4|          null|            null|                 3|        0.9|      null|           17|      1.1|       0.44|          null|          null|        null|     null|                                                 null|                      4|\n",
            "|       0000000005241|http://world-en.o...|        kiliweb|1540886513|2018-10-30T08:01:53Z|     1544548114|  2018-12-11T17:08:34Z|               Bagel|        null|    null|                null|              null|        null|               null|               null|Aliments et boiss...|en:plant-based-fo...|Plant-based foods...|                null|                     null|               null|            null|            null|      null|          null|           null|         null|       France|       en:france|       France|                null|                null|                     null|             null|             null|       null|           null|            null|       null|                null|                null|               0|               b|      null|Cereals and potatoes|               Bread|            en:bread|en:cereals-and-po...|Cereals and potat...|en:to-be-complete...|en:to-be-complete...|To be completed,N...|       null|            74|             b|en:fat-in-moderat...|            null|          null|                null|       0.375|  1540886515|2018-10-30T08:01:55Z|     en:bagel-breads|        Bagel breads|https://images.op...|https://images.op...| https://images.op...|       https://images.op...|                null|                     null|          null|             197|        824|       5|               1.1|          null|            null|              28.7|          3|      null|          8.4|    0.467|     0.1868|          null|          null|        null|     null|                                                 null|                      0|\n",
            "|       0000000005470|http://world-en.o...|        kiliweb|1511778860|2017-11-27T10:34:20Z|     1550180518|  2019-02-14T21:41:58Z|    BAguette bressan|        null|       1|                null|              null|        null|        Crousresto'|         crousresto|Aliments et boiss...|en:plant-based-fo...|Plant-based foods...|                null|                     null|               null|            null|            null|      null|          null|           null|         null|       France|       en:france|       France|Bâguette Bressan ...|fr:baguette-bress...|     en:palm-oil-conte...|en:eggs,en:gluten|             null|       null|           null|            null|          3|en:e14xx,en:e262,...|E14XX - Modified ...|              -4|               a|         4|Cereals and potatoes|               Bread|            en:bread|en:cereals-and-po...|Cereals and potat...|en:to-be-complete...|en:to-be-complete...|To be completed,N...|       null|            75|             b|en:fat-in-low-qua...|            null|             2|top-country-fr-sc...|       0.675|  1511778863|2017-11-27T10:34:23Z|        en:baguettes|           Baguettes|https://images.op...|https://images.op...| https://images.op...|       https://images.op...|                null|                     null|          null|             160|        669|     2.2|               0.5|          null|            null|              25.2|        0.6|       1.6|          9.5|    0.358|     0.1432|          null|          null|        null|     null|                                                    0|                     -4|\n",
            "|       0000000005661|http://world-en.o...|        kiliweb|1522424158|2018-03-30T15:35:58Z|     1522437072|  2018-03-30T19:11:12Z|Pavé de saumon fu...|        null|    null|                null|              null|        null|               null|               null|Produits de la me...|en:seafood,en:fis...|Seafood,Fishes,Fa...|                null|                     null|               null|            null|            null|      null|          null|           null|         null|       France|       en:france|       France|                null|                null|                     null|             null|             null|       null|           null|            null|       null|                null|                null|              15|               d|      null|      Fish Meat Eggs|    Fish and seafood|       en:fatty-fish|en:fish-meat-eggs...|Fish‚ Meat‚ Eggs,...|en:to-be-complete...|en:to-be-complete...|To be completed,N...|       null|             4|             e|en:fat-in-moderat...|            null|          null|                null|      0.3875|  1522424162|2018-03-30T15:36:02Z|fr:paves-de-saumo...|fr:paves-de-saumo...|https://images.op...|https://images.op...| https://images.op...|       https://images.op...|https://images.op...|     https://images.op...|          null|             253|       1059|      17|               2.6|          null|            null|               0.5|        0.5|      null|           23|      2.5|          1|          null|          null|        null|     null|                                                 null|                     15|\n",
            "|       0000000007160|http://world-en.o...|        kiliweb|1534051982|2018-08-12T05:33:02Z|     1544612148|  2018-12-12T10:55:48Z|         CORNED BEEF|        null|    null|                null|              null|        null|               null|               null|Conserves, Viande...|en:canned-foods,e...|Canned foods,Meat...|                null|                     null|               null|            null|            null|      null|          null|           null|         null|       France|       en:france|       France|                null|                null|                     null|             null|             null|       null|           null|            null|       null|                null|                null|              17|               d|      null|     Composite foods|      One-dish meals|   en:one-dish-meals|en:composite-food...|Composite foods,O...|en:to-be-complete...|en:to-be-complete...|To be completed,N...|       null|          null|       unknown|en:fat-in-moderat...|            null|          null|                null|       0.375|  1534051990|2018-08-12T05:33:10Z|      en:corned-beef|         Corned-beef|https://images.op...|https://images.op...| https://images.op...|       https://images.op...|                null|                     null|          null|             235|        983|      15|               7.5|          null|            null|                 1|          1|      null|           24|        2|        0.8|          null|          null|        null|     null|                                                 null|                     17|\n",
            "|       0000000012249|http://world-en.o...|        kiliweb|1543251702|2018-11-26T17:01:42Z|     1545383399|  2018-12-21T09:09:59Z|      Salade Grecque|        null|    null|                null|              null|        null|               null|               null|Plats préparés, e...|en:meals,en:prepa...|Meals,Prepared sa...|                null|                     null|               null|            null|            null|      null|          null|           null|         null|       France|       en:france|       France|                null|                null|                     null|             null|             null|       null|           null|            null|       null|                null|                null|               1|               b|      null|     Composite foods|      One-dish meals|   en:one-dish-meals|en:composite-food...|Composite foods,O...|en:to-be-complete...|en:to-be-complete...|To be completed,N...|       null|          null|       unknown|en:fat-in-low-qua...|            null|          null|                null|       0.375|  1543251704|2018-11-26T17:01:44Z|           en:salads|              Salads|https://images.op...|https://images.op...| https://images.op...|       https://images.op...|                null|                     null|          null|              64|        268|     2.3|               2.3|          null|            null|               1.8|        1.4|      null|          3.7|      0.4|       0.16|          null|          null|        null|     null|                                                 null|                      1|\n",
            "|        000000001231|http://world-en.o...|        kiliweb|1570875118|2019-10-12T10:11:58Z|     1588002772|  2020-04-27T15:52:52Z|Rillettes de sang...|        null|    null|                null|              null|        null|      Le Bois Jumel|      le-bois-jumel|Viandes, Produits...|en:meats,en:sprea...|Meats,Spreads,Pre...|                null|                     null|               null|            null|            null|      null|          null|           null|         null|        en:fr|       en:france|       France|                null|                null|                     null|             null|             null|       null|           null|            null|       null|                null|                null|              21|               e|      null|        Salty snacks|Salty and fatty p...|en:salty-and-fatt...|en:salty-snacks,e...|Salty snacks,Salt...|en:to-be-complete...|en:to-be-complete...|To be completed,N...|       null|          null|       unknown|en:fat-in-high-qu...|            null|          null|                null|       0.475|  1570875123|2019-10-12T10:12:03Z|en:wild-boar-rill...| Wild boar rillettes|https://images.op...|https://images.op...|                 null|                       null|https://images.op...|     https://images.op...|          null|             325|       1360|      29|                11|          null|            null|                 0|          0|      null|           16|      1.6|       0.64|          null|          null|        null|     null|                                                 null|                     21|\n",
            "|        000000001576|http://world-en.o...|        kiliweb|1564989546|2019-08-05T07:19:06Z|     1588841340|  2020-05-07T08:49:00Z|    Pur jus de pomme|        null|    null|                null|              null|        null|Les Jardins de Gaïa|les-jardins-de-gaia|Aliments et boiss...|en:plant-based-fo...|Plant-based foods...|                null|                     null|               null|            null|            null|EMB 13089C|    emb-13089c|           null|         null|        en:fr|       en:france|       France|                null|                null|                     null|             null|             null|       null|           null|            null|       null|                null|                null|               0|               b|      null|           Beverages|        Fruit juices|     en:fruit-juices|en:beverages,en:f...|Beverages,Fruit j...|en:to-be-complete...|en:to-be-complete...|To be completed,N...|       null|            50|             c|en:fat-in-low-qua...|            null|          null|                null|       0.575|  1564989547|2019-08-05T07:19:07Z|en:squeezed-apple...|Squeezed apple ju...|https://images.op...|https://images.op...|                 null|                       null|https://images.op...|     https://images.op...|          null|             221|        925|     0.5|               0.1|          null|            null|              0.01|       0.01|      null|          0.5|     0.01|      0.004|          null|          null|        null|     null|                                                 null|                      0|\n",
            "|        000000002218|http://world-en.o...|        kiliweb|1612377236|2021-02-03T18:33:56Z|     1621846155|  2021-05-24T08:49:15Z|Rillettes de cana...|        null|    null|                null|              null|        null|               null|               null|Viandes, Produits...|en:meats,en:sprea...|Meats,Spreads,Pre...|                null|                     null|               null|            null|            null|      null|          null|           null|         null|        en:fr|       en:france|       France|                null|                null|                     null|             null|             null|       null|           null|            null|       null|                null|                null|              14|               d|      null|        Salty snacks|Salty and fatty p...|en:salty-and-fatt...|en:salty-snacks,e...|Salty snacks,Salt...|en:to-be-complete...|en:to-be-complete...|To be completed,N...|       null|            19|             e|en:fat-in-high-qu...|            null|          null|                null|       0.375|  1612377242|2021-02-03T18:34:02Z|   en:duck-rillettes|      Duck rillettes|https://images.op...|https://images.op...|                 null|                       null|https://images.op...|     https://images.op...|          null|              25|        105|   42.75|            17.275|          null|            null|             0.475|      0.075|      null|        13.05|      1.1|       0.44|          null|          null|        null|     null|                                                 null|                     14|\n",
            "|        000000002946|http://world-en.o...|        kiliweb|1580642678|2020-02-02T11:24:38Z|     1646068266|  2022-02-28T17:11:06Z|     Pâte a tartiner|        null|   100 g|                null|              null|        null|        La pata yan|        la-pata-yan|Produits à tartin...|en:breakfasts,en:...|Breakfasts,Spread...|                null|                     null|Sans huile de palme|  en:no-palm-oil|     No palm oil|      null|          null|           null|         null|       France|       en:france|       France|50% noisettes loc...|fr:noisettes-loca...|     en:palm-oil-conte...|             null|en:gluten,en:nuts|Gluten,Nuts|           null|            null|          1|    en:e322,en:e322i|E322 - Lecithins,...|               2|               b|         4|       Sugary snacks|              Sweets|           en:sweets|en:sugary-snacks,...|Sugary snacks,Sweets|en:to-be-complete...|en:to-be-complete...|To be completed,N...|       null|            20|             d|en:fat-in-high-qu...|             100|          null|                null|      0.7875|  1580642679|2020-02-02T11:24:39Z| en:hazelnut-spreads|    Hazelnut spreads|https://images.op...|https://images.op...| https://images.op...|       https://images.op...|https://images.op...|     https://images.op...|          null|               5|         21|    39.6|               5.8|          null|            null|              42.8|       12.8|      null|          8.7|      0.2|       0.08|          null|          null|        null|     null|                                                    0|                      2|\n",
            "|       0000000043595|http://world-en.o...|usda-ndb-import|1489050424|2017-03-09T09:07:04Z|     1545734812|  2018-12-25T10:46:52Z|         Cranberries|        null|    null|                null|              null|        null|     Torn & Glasser|       torn-glasser|Plant-based foods...|en:plant-based-fo...|Plant-based foods...|                null|                     null|               null|            null|            null|      null|          null|           null|         null|United States|en:united-states|United States|Cranberries, suga...|en:cranberry,en:f...|     en:palm-oil-free,...|             null|             null|       null|30 g (0.25 cup)|              30|          0|                null|                null|               8|               c|         3|Fruits and vegeta...|              Fruits|           en:fruits|en:fruits-and-veg...|Fruits and vegeta...|en:to-be-complete...|en:to-be-complete...|To be completed,N...|       null|            32|             d|en:fat-in-low-qua...|            null|          null|                null|         0.5|        null|                null|      en:cranberries|         Cranberries|                null|                null|                 null|                       null|                null|                     null|          null|             300|       1255|       0|                 0|             0|               0|             83.33|      66.67|        10|            0|        0|          0|             0|             0|           0|        0|                                     33.3333333333333|                      8|\n",
            "|       0000000125512|http://world-en.o...|        kiliweb|1540975131|2018-10-31T08:38:51Z|     1540977660|  2018-10-31T09:21:00Z|  Stylo glaçage gris|        null|    null|                null|              null|        null|               null|               null|Décorations alime...| en:food-decorations|    Food decorations|                null|                     null|               null|            null|            null|      null|          null|           null|         null|       France|       en:france|       France|                null|                null|                     null|             null|             null|       null|           null|            null|       null|                null|                null|              29|               e|      null|             unknown|             unknown|                null|                null|                null|en:to-be-complete...|en:to-be-complete...|To be completed,N...|       null|          null|       unknown|en:fat-in-high-qu...|            null|          null|                null|       0.375|  1540975133|2018-10-31T08:38:53Z| en:food-decorations|    Food decorations|https://images.op...|https://images.op...| https://images.op...|       https://images.op...|                null|                     null|          null|             580|       2427|      38|                36|          null|            null|                58|         58|      null|            3|      0.5|        0.2|          null|          null|        null|     null|                                                 null|                     29|\n",
            "+--------------------+--------------------+---------------+----------+--------------------+---------------+----------------------+--------------------+------------+--------+--------------------+------------------+------------+-------------------+-------------------+--------------------+--------------------+--------------------+--------------------+-------------------------+-------------------+----------------+----------------+----------+--------------+---------------+-------------+-------------+----------------+-------------+--------------------+--------------------+-------------------------+-----------------+-----------------+-----------+---------------+----------------+-----------+--------------------+--------------------+----------------+----------------+----------+--------------------+--------------------+--------------------+--------------------+--------------------+--------------------+--------------------+--------------------+-----------+--------------+--------------+--------------------+----------------+--------------+--------------------+------------+------------+--------------------+--------------------+--------------------+--------------------+--------------------+---------------------+---------------------------+--------------------+-------------------------+--------------+----------------+-----------+--------+------------------+--------------+----------------+------------------+-----------+----------+-------------+---------+-----------+--------------+--------------+------------+---------+-----------------------------------------------------+-----------------------+\n",
            "only showing top 20 rows\n",
            "\n"
          ]
        }
      ],
      "source": [
        "# drop rows with null nutrition score or nutrition grade, save the new df into df_2\n",
        "df_2 = new_df.filter((new_df.nutriscore_grade.isNotNull()) & (new_df.nutriscore_score.isNotNull()))\n",
        "df_2.show()"
      ]
    },
    {
      "cell_type": "code",
      "execution_count": null,
      "metadata": {
        "colab": {
          "base_uri": "https://localhost:8080/"
        },
        "id": "_OYbSfwaITkm",
        "outputId": "2cf710c6-4ffc-4f60-812d-13b5b1f5c044"
      },
      "outputs": [
        {
          "name": "stdout",
          "output_type": "stream",
          "text": [
            "+---------------------+\n",
            "|organic_average_score|\n",
            "+---------------------+\n",
            "|    6.026360620460863|\n",
            "+---------------------+\n",
            "\n"
          ]
        }
      ],
      "source": [
        "# Organic food\n",
        "df_2.createOrReplaceTempView(\"df_2\")\n",
        "sdf = spark.sql('''\n",
        "SELECT AVG(nutriscore_score) AS organic_average_score \n",
        "FROM df_2 \n",
        "WHERE labels_en = \"Organic\"\n",
        "''')\n",
        "sdf.show()"
      ]
    },
    {
      "cell_type": "code",
      "execution_count": null,
      "metadata": {
        "colab": {
          "background_save": true,
          "base_uri": "https://localhost:8080/"
        },
        "id": "qhokODflUsk_",
        "outputId": "626c9bfc-7ebe-4bba-b21d-8eec89e5271e"
      },
      "outputs": [
        {
          "name": "stdout",
          "output_type": "stream",
          "text": [
            "+-------------------------+\n",
            "|non_organic_average_score|\n",
            "+-------------------------+\n",
            "|        8.423870063664433|\n",
            "+-------------------------+\n",
            "\n"
          ]
        }
      ],
      "source": [
        "# Non-organic food\n",
        "sdf = spark.sql('''\n",
        "SELECT AVG(nutriscore_score) AS non_organic_average_score \n",
        "FROM df_2 \n",
        "WHERE labels_en <> \"Organic\"\n",
        "''')\n",
        "sdf.show()"
      ]
    },
    {
      "cell_type": "code",
      "execution_count": null,
      "metadata": {
        "id": "IrFtWlnFReZx"
      },
      "outputs": [],
      "source": [
        "# stat test(non_org, org) -> p_value -> ? sigincantly diff\n",
        "\n",
        "\n"
      ]
    },
    {
      "cell_type": "markdown",
      "metadata": {
        "id": "Wg_8y_lfU21p"
      },
      "source": [
        "From the results above we know organic food do have a better nutrition score than non-organic food products."
      ]
    },
    {
      "cell_type": "markdown",
      "metadata": {
        "id": "nSkqCzhLU7ix"
      },
      "source": [
        "1.2 Do organic food products have a higher nutrition grade (better grade) than non-organic food? Visualize the distribution of nutrition grades."
      ]
    },
    {
      "cell_type": "code",
      "execution_count": null,
      "metadata": {
        "colab": {
          "base_uri": "https://localhost:8080/"
        },
        "id": "R986WMn5VsPe",
        "outputId": "dbe22774-c905-41f7-b99d-460535a0bc06"
      },
      "outputs": [
        {
          "name": "stdout",
          "output_type": "stream",
          "text": [
            "+----------------+----+\n",
            "|nutriscore_grade| cnt|\n",
            "+----------------+----+\n",
            "|               a|5341|\n",
            "|               b|3868|\n",
            "|               c|5142|\n",
            "|               d|5358|\n",
            "|               e|2597|\n",
            "+----------------+----+\n",
            "\n"
          ]
        }
      ],
      "source": [
        "# Organic\n",
        "sdf = spark.sql('''\n",
        "SELECT nutriscore_grade, COUNT(*) AS cnt\n",
        "FROM df_2\n",
        "WHERE labels_en = \"Organic\"\n",
        "GROUP BY 1\n",
        "ORDER BY 1\n",
        "''')\n",
        "sdf.show()\n",
        "pdf = sdf.select('*').toPandas()"
      ]
    },
    {
      "cell_type": "code",
      "execution_count": null,
      "metadata": {
        "colab": {
          "base_uri": "https://localhost:8080/",
          "height": 313
        },
        "id": "Odaqn9zdV_bY",
        "outputId": "198f4b4b-4840-498c-ef3f-4c0cb6039885"
      },
      "outputs": [
        {
          "name": "stdout",
          "output_type": "stream",
          "text": [
            "sum 22306\n"
          ]
        },
        {
          "data": {
            "image/png": "[encoded data removed]",
            "text/plain": [
              "<Figure size 432x288 with 1 Axes>"
            ]
          },
          "metadata": {},
          "output_type": "display_data"
        }
      ],
      "source": [
        "import seaborn as sns\n",
        "import matplotlib.pyplot as plt\n",
        "s = pdf['cnt'].sum()\n",
        "print('sum', s)\n",
        "pdf['ratio'] = pdf['cnt'] / s\n",
        "plt.figure()\n",
        "ax = sns.barplot(data=pdf, x='nutriscore_grade', y='ratio')\n",
        "plt.title(\"Organic food nutrition grade distriution\")\n",
        "plt.show()"
      ]
    },
    {
      "cell_type": "code",
      "execution_count": null,
      "metadata": {
        "colab": {
          "base_uri": "https://localhost:8080/"
        },
        "id": "qzh-whpPWOGD",
        "outputId": "b4b93abf-422d-469e-f99b-30c5076f9b4e"
      },
      "outputs": [
        {
          "name": "stdout",
          "output_type": "stream",
          "text": [
            "+----------------+-----+\n",
            "|nutriscore_grade|  cnt|\n",
            "+----------------+-----+\n",
            "|               a|42840|\n",
            "|               b|39924|\n",
            "|               c|57491|\n",
            "|               d|74856|\n",
            "|               e|45693|\n",
            "+----------------+-----+\n",
            "\n"
          ]
        }
      ],
      "source": [
        "# non-organic\n",
        "sdf = spark.sql('''\n",
        "SELECT nutriscore_grade, COUNT(*) AS cnt\n",
        "FROM df_2\n",
        "WHERE labels_en <> \"Organic\"\n",
        "GROUP BY 1\n",
        "ORDER BY 1\n",
        "''')\n",
        "sdf.show()\n",
        "pdf = sdf.select('*').toPandas()"
      ]
    },
    {
      "cell_type": "code",
      "execution_count": null,
      "metadata": {
        "colab": {
          "base_uri": "https://localhost:8080/",
          "height": 313
        },
        "id": "LEATZEbXWSuC",
        "outputId": "5cd23d21-f225-43c2-c642-0a17f2f967e8"
      },
      "outputs": [
        {
          "name": "stdout",
          "output_type": "stream",
          "text": [
            "sum 260804\n"
          ]
        },
        {
          "data": {
            "image/png": "[encoded data removed]",
            "text/plain": [
              "<Figure size 432x288 with 1 Axes>"
            ]
          },
          "metadata": {},
          "output_type": "display_data"
        }
      ],
      "source": [
        "s = pdf['cnt'].sum()\n",
        "print('sum', s)\n",
        "pdf['ratio'] = pdf['cnt'] / s\n",
        "pdf\n",
        "plt.figure()\n",
        "ax = sns.barplot(data=pdf, x='nutriscore_grade', y='ratio')\n",
        "plt.title(\"Non-organic food nutrition grade distriution\")\n",
        "plt.show()"
      ]
    },
    {
      "cell_type": "markdown",
      "metadata": {
        "id": "AC6zS0o8XGTg"
      },
      "source": [
        "Known from the results above, more than 40% of the the organic food products are in a or b, while there are around 30% of non-organic food products are in a or b grade. The difference of the ratio was not as much as we expected, but it is still the fact we got from the dataset that organic food is more likely to be in better nutrition grades in genreal.\n"
      ]
    },
    {
      "cell_type": "markdown",
      "metadata": {
        "id": "c6xV0WDxYSKK"
      },
      "source": [
        "1.3 Organic food common nutriants average value vs. non-organic food."
      ]
    },
    {
      "cell_type": "code",
      "execution_count": null,
      "metadata": {
        "colab": {
          "base_uri": "https://localhost:8080/",
          "height": 211
        },
        "id": "XsWXKAO_XK5G",
        "outputId": "10072462-aad2-4d61-97a1-9e2f5c513776"
      },
      "outputs": [
        {
          "data": {
            "text/html": [
              "\n",
              "  <div id=\"df-1ae48a3b-638f-4081-a691-0877891fb2ef\">\n",
              "    <div class=\"colab-df-container\">\n",
              "      <div>\n",
              "<style scoped>\n",
              "    .dataframe tbody tr th:only-of-type {\n",
              "        vertical-align: middle;\n",
              "    }\n",
              "\n",
              "    .dataframe tbody tr th {\n",
              "        vertical-align: top;\n",
              "    }\n",
              "\n",
              "    .dataframe thead th {\n",
              "        text-align: right;\n",
              "    }\n",
              "</style>\n",
              "<table border=\"1\" class=\"dataframe\">\n",
              "  <thead>\n",
              "    <tr style=\"text-align: right;\">\n",
              "      <th></th>\n",
              "      <th>type_of_food</th>\n",
              "      <th>Avg_energy_100g</th>\n",
              "      <th>Avg_fat_100g</th>\n",
              "      <th>Avg_saturated-fat_100g</th>\n",
              "      <th>Avg_trans-fat_100g</th>\n",
              "      <th>Avg_cholesterol_100g</th>\n",
              "      <th>Avg_carbohydrates_100g</th>\n",
              "      <th>Avg_sugars_100g</th>\n",
              "      <th>Avg_fiber_100g</th>\n",
              "      <th>Avg_proteins_100g</th>\n",
              "      <th>Avg_salt_100g</th>\n",
              "      <th>Avg_sodium_100g</th>\n",
              "      <th>Avg_vitamin-a_100g</th>\n",
              "      <th>Avg_vitamin-c_100g</th>\n",
              "      <th>Avg_alcium_100g</th>\n",
              "      <th>Avg_iron_100g</th>\n",
              "      <th>Avg_fruits-vegetables-nuts_100g</th>\n",
              "    </tr>\n",
              "  </thead>\n",
              "  <tbody>\n",
              "    <tr>\n",
              "      <th>0</th>\n",
              "      <td>Organic</td>\n",
              "      <td>1084.076363</td>\n",
              "      <td>13.197672</td>\n",
              "      <td>4.412415</td>\n",
              "      <td>0.003700</td>\n",
              "      <td>0.014565</td>\n",
              "      <td>27.920614</td>\n",
              "      <td>12.026638</td>\n",
              "      <td>4.051447</td>\n",
              "      <td>6.970236</td>\n",
              "      <td>0.994548</td>\n",
              "      <td>0.397828</td>\n",
              "      <td>0.110052</td>\n",
              "      <td>0.012105</td>\n",
              "      <td>1.003091e-01</td>\n",
              "      <td>0.004508</td>\n",
              "      <td>13.760239</td>\n",
              "    </tr>\n",
              "    <tr>\n",
              "      <th>1</th>\n",
              "      <td>Non-organic</td>\n",
              "      <td>106443.520490</td>\n",
              "      <td>100174.469824</td>\n",
              "      <td>100170.093762</td>\n",
              "      <td>0.070199</td>\n",
              "      <td>42515.550483</td>\n",
              "      <td>101165.731397</td>\n",
              "      <td>101125.766442</td>\n",
              "      <td>183068.587388</td>\n",
              "      <td>100182.634189</td>\n",
              "      <td>100098.592237</td>\n",
              "      <td>40039.436907</td>\n",
              "      <td>0.538259</td>\n",
              "      <td>41.473933</td>\n",
              "      <td>5.222850e+08</td>\n",
              "      <td>0.014250</td>\n",
              "      <td>9.054198</td>\n",
              "    </tr>\n",
              "  </tbody>\n",
              "</table>\n",
              "</div>\n",
              "      <button class=\"colab-df-convert\" onclick=\"convertToInteractive('df-1ae48a3b-638f-4081-a691-0877891fb2ef')\"\n",
              "              title=\"Convert this dataframe to an interactive table.\"\n",
              "              style=\"display:none;\">\n",
              "        \n",
              "  <svg xmlns=\"http://www.w3.org/2000/svg\" height=\"24px\"viewBox=\"0 0 24 24\"\n",
              "       width=\"24px\">\n",
              "    <path d=\"M0 0h24v24H0V0z\" fill=\"none\"/>\n",
              "    <path d=\"M18.56 5.44l.94 2.06.94-2.06 2.06-.94-2.06-.94-.94-2.06-.94 2.06-2.06.94zm-11 1L8.5 8.5l.94-2.06 2.06-.94-2.06-.94L8.5 2.5l-.94 2.06-2.06.94zm10 10l.94 2.06.94-2.06 2.06-.94-2.06-.94-.94-2.06-.94 2.06-2.06.94z\"/><path d=\"M17.41 7.96l-1.37-1.37c-.4-.4-.92-.59-1.43-.59-.52 0-1.04.2-1.43.59L10.3 9.45l-7.72 7.72c-.78.78-.78 2.05 0 2.83L4 21.41c.39.39.9.59 1.41.59.51 0 1.02-.2 1.41-.59l7.78-7.78 2.81-2.81c.8-.78.8-2.07 0-2.86zM5.41 20L4 18.59l7.72-7.72 1.47 1.35L5.41 20z\"/>\n",
              "  </svg>\n",
              "      </button>\n",
              "      \n",
              "  <style>\n",
              "    .colab-df-container {\n",
              "      display:flex;\n",
              "      flex-wrap:wrap;\n",
              "      gap: 12px;\n",
              "    }\n",
              "\n",
              "    .colab-df-convert {\n",
              "      background-color: #E8F0FE;\n",
              "      border: none;\n",
              "      border-radius: 50%;\n",
              "      cursor: pointer;\n",
              "      display: none;\n",
              "      fill: #1967D2;\n",
              "      height: 32px;\n",
              "      padding: 0 0 0 0;\n",
              "      width: 32px;\n",
              "    }\n",
              "\n",
              "    .colab-df-convert:hover {\n",
              "      background-color: #E2EBFA;\n",
              "      box-shadow: 0px 1px 2px rgba(60, 64, 67, 0.3), 0px 1px 3px 1px rgba(60, 64, 67, 0.15);\n",
              "      fill: #174EA6;\n",
              "    }\n",
              "\n",
              "    [theme=dark] .colab-df-convert {\n",
              "      background-color: #3B4455;\n",
              "      fill: #D2E3FC;\n",
              "    }\n",
              "\n",
              "    [theme=dark] .colab-df-convert:hover {\n",
              "      background-color: #434B5C;\n",
              "      box-shadow: 0px 1px 3px 1px rgba(0, 0, 0, 0.15);\n",
              "      filter: drop-shadow(0px 1px 2px rgba(0, 0, 0, 0.3));\n",
              "      fill: #FFFFFF;\n",
              "    }\n",
              "  </style>\n",
              "\n",
              "      <script>\n",
              "        const buttonEl =\n",
              "          document.querySelector('#df-1ae48a3b-638f-4081-a691-0877891fb2ef button.colab-df-convert');\n",
              "        buttonEl.style.display =\n",
              "          google.colab.kernel.accessAllowed ? 'block' : 'none';\n",
              "\n",
              "        async function convertToInteractive(key) {\n",
              "          const element = document.querySelector('#df-1ae48a3b-638f-4081-a691-0877891fb2ef');\n",
              "          const dataTable =\n",
              "            await google.colab.kernel.invokeFunction('convertToInteractive',\n",
              "                                                     [key], {});\n",
              "          if (!dataTable) return;\n",
              "\n",
              "          const docLinkHtml = 'Like what you see? Visit the ' +\n",
              "            '<a target=\"_blank\" href=https://colab.research.google.com/notebooks/data_table.ipynb>data table notebook</a>'\n",
              "            + ' to learn more about interactive tables.';\n",
              "          element.innerHTML = '';\n",
              "          dataTable['output_type'] = 'display_data';\n",
              "          await google.colab.output.renderOutput(dataTable, element);\n",
              "          const docLink = document.createElement('div');\n",
              "          docLink.innerHTML = docLinkHtml;\n",
              "          element.appendChild(docLink);\n",
              "        }\n",
              "      </script>\n",
              "    </div>\n",
              "  </div>\n",
              "  "
            ],
            "text/plain": [
              "  type_of_food  Avg_energy_100g   Avg_fat_100g  Avg_saturated-fat_100g  \\\n",
              "0      Organic      1084.076363      13.197672                4.412415   \n",
              "1  Non-organic    106443.520490  100174.469824           100170.093762   \n",
              "\n",
              "   Avg_trans-fat_100g  Avg_cholesterol_100g  Avg_carbohydrates_100g  \\\n",
              "0            0.003700              0.014565               27.920614   \n",
              "1            0.070199          42515.550483           101165.731397   \n",
              "\n",
              "   Avg_sugars_100g  Avg_fiber_100g  Avg_proteins_100g  Avg_salt_100g  \\\n",
              "0        12.026638        4.051447           6.970236       0.994548   \n",
              "1    101125.766442   183068.587388      100182.634189  100098.592237   \n",
              "\n",
              "   Avg_sodium_100g  Avg_vitamin-a_100g  Avg_vitamin-c_100g  Avg_alcium_100g  \\\n",
              "0         0.397828            0.110052            0.012105     1.003091e-01   \n",
              "1     40039.436907            0.538259           41.473933     5.222850e+08   \n",
              "\n",
              "   Avg_iron_100g  Avg_fruits-vegetables-nuts_100g  \n",
              "0       0.004508                        13.760239  \n",
              "1       0.014250                         9.054198  "
            ]
          },
          "execution_count": 66,
          "metadata": {},
          "output_type": "execute_result"
        }
      ],
      "source": [
        "# calculate the average value for each nutrient in orgnic food and non-organic food respectively\n",
        "sdf = spark.sql('''\n",
        "SELECT\n",
        "    CASE\n",
        "        WHEN labels_en = \"Organic\" THEN \"Organic\"\n",
        "        ELSE \"Non-organic\"\n",
        "    END AS type_of_food,\n",
        "    AVG(`energy_100g`) AS `Avg_energy_100g`,\n",
        "    AVG(`fat_100g`) AS `Avg_fat_100g`,\n",
        "    AVG(`saturated-fat_100g`) AS `Avg_saturated-fat_100g`,\n",
        "    AVG(`trans-fat_100g`) As `Avg_trans-fat_100g`,\n",
        "    AVG(`cholesterol_100g`) AS `Avg_cholesterol_100g`,\n",
        "    AVG(`carbohydrates_100g`) AS `Avg_carbohydrates_100g`,\n",
        "    AVG(`sugars_100g`) AS `Avg_sugars_100g`,\n",
        "    AVG(`fiber_100g`) AS `Avg_fiber_100g`,\n",
        "    AVG(`proteins_100g`) AS `Avg_proteins_100g`,\n",
        "    AVG(`salt_100g`) AS `Avg_salt_100g`,\n",
        "    AVG(`sodium_100g`) AS `Avg_sodium_100g`,\n",
        "    AVG(`vitamin-a_100g`) AS `Avg_vitamin-a_100g`,\n",
        "    AVG(`vitamin-c_100g`) AS `Avg_vitamin-c_100g`,\n",
        "    AVG(`calcium_100g`) AS `Avg_alcium_100g`,\n",
        "    AVG(`iron_100g`) AS `Avg_iron_100g`,\n",
        "    AVG(`fruits-vegetables-nuts-estimate-from-ingredients_100g`) AS `Avg_fruits-vegetables-nuts_100g`\n",
        "FROM df_2\n",
        "GROUP BY 1 \n",
        "''')\n",
        "pdf = sdf.select('*').toPandas()\n",
        "pdf"
      ]
    },
    {
      "cell_type": "code",
      "execution_count": null,
      "metadata": {
        "id": "BJAvsBcjXiHH"
      },
      "outputs": [],
      "source": [
        "# caculate and compare the ratio of nutrition grades for organic and non-organic food \n",
        "nutritions = []\n",
        "types = []\n",
        "amounts = []\n",
        "for i, c in enumerate(pdf.columns):\n",
        "    if i == 0:\n",
        "        continue\n",
        "    row = pdf[c]\n",
        "    nutritions.append(c)\n",
        "    max_value = max(row[0], row[1])\n",
        "    types.append('Organic')\n",
        "    amounts.append(1.0 * row[0] / max_value)\n",
        "    amounts.append(1.0 * row[0] / max_value)\n",
        "    nutritions.append(c)\n",
        "    types.append('Non organic')\n",
        "    amounts.append(1.0 * row[1] / max_value)"
      ]
    },
    {
      "cell_type": "code",
      "execution_count": null,
      "metadata": {
        "id": "aiG_iAf0Xnx1"
      },
      "outputs": [],
      "source": [
        "import pandas as pd\n",
        "graph_df = pd.DataFrame({\"Nutrition\": nutritions, \"Type\": types, 'Amount': amounts})"
      ]
    },
    {
      "cell_type": "code",
      "execution_count": null,
      "metadata": {
        "colab": {
          "base_uri": "https://localhost:8080/",
          "height": 443
        },
        "id": "IdDZub1oXqfH",
        "outputId": "fef0d476-ca2b-4b82-ad4d-b7d1fc899c82"
      },
      "outputs": [
        {
          "data": {
            "image/png": "[encoded data removed]",
            "text/plain": [
              "<Figure size 1800x288 with 1 Axes>"
            ]
          },
          "metadata": {},
          "output_type": "display_data"
        }
      ],
      "source": [
        "# Visualize the comparison of organic and non-organic food for the average amount of each nutrient\n",
        "plt.figure(figsize=(25,4))\n",
        "ax = sns.barplot(data=graph_df, x='Nutrition', y='Amount', hue='Type')\n",
        "ax.set_xlabel('Nutrition', fontsize=3)\n",
        "plt.xticks(rotation=90)\n",
        "plt.title('Average nutrition score of each nutrient')\n",
        "plt.show()"
      ]
    },
    {
      "cell_type": "markdown",
      "metadata": {
        "id": "4AHgg_vtutTN"
      },
      "source": [
        "(The numbers above look weird... need to check)"
      ]
    },
    {
      "cell_type": "markdown",
      "metadata": {
        "id": "Z9--WHTsXJ6E"
      },
      "source": [
        "## 2.2 Additives and nutrition score/grade (Baojia & Wesley)"
      ]
    },
    {
      "cell_type": "markdown",
      "metadata": {
        "id": "cWpWyF40gd_G"
      },
      "source": [
        "Many people care about if a food product contains additives since in commen sense, the more addtives the less heathy the food is. We studied the dataset to see if there is a correlation between the number of additives in a food product and its nutrition score/grade."
      ]
    },
    {
      "cell_type": "code",
      "execution_count": null,
      "metadata": {
        "colab": {
          "base_uri": "https://localhost:8080/",
          "height": 1000
        },
        "id": "VdD9HHFaYcsz",
        "outputId": "f70841c9-a2ac-4156-ab35-467b34ff028c"
      },
      "outputs": [
        {
          "data": {
            "text/html": [
              "\n",
              "  <div id=\"df-9198fb6b-426f-4d58-b2f7-f8975048c519\">\n",
              "    <div class=\"colab-df-container\">\n",
              "      <div>\n",
              "<style scoped>\n",
              "    .dataframe tbody tr th:only-of-type {\n",
              "        vertical-align: middle;\n",
              "    }\n",
              "\n",
              "    .dataframe tbody tr th {\n",
              "        vertical-align: top;\n",
              "    }\n",
              "\n",
              "    .dataframe thead th {\n",
              "        text-align: right;\n",
              "    }\n",
              "</style>\n",
              "<table border=\"1\" class=\"dataframe\">\n",
              "  <thead>\n",
              "    <tr style=\"text-align: right;\">\n",
              "      <th></th>\n",
              "      <th>num_additives</th>\n",
              "      <th>score</th>\n",
              "    </tr>\n",
              "  </thead>\n",
              "  <tbody>\n",
              "    <tr>\n",
              "      <th>0</th>\n",
              "      <td>NaN</td>\n",
              "      <td>9.134879</td>\n",
              "    </tr>\n",
              "    <tr>\n",
              "      <th>1</th>\n",
              "      <td>0.0</td>\n",
              "      <td>5.249982</td>\n",
              "    </tr>\n",
              "    <tr>\n",
              "      <th>2</th>\n",
              "      <td>1.0</td>\n",
              "      <td>9.715077</td>\n",
              "    </tr>\n",
              "    <tr>\n",
              "      <th>3</th>\n",
              "      <td>2.0</td>\n",
              "      <td>11.656294</td>\n",
              "    </tr>\n",
              "    <tr>\n",
              "      <th>4</th>\n",
              "      <td>3.0</td>\n",
              "      <td>11.456494</td>\n",
              "    </tr>\n",
              "    <tr>\n",
              "      <th>5</th>\n",
              "      <td>4.0</td>\n",
              "      <td>12.639004</td>\n",
              "    </tr>\n",
              "    <tr>\n",
              "      <th>6</th>\n",
              "      <td>5.0</td>\n",
              "      <td>12.304157</td>\n",
              "    </tr>\n",
              "    <tr>\n",
              "      <th>7</th>\n",
              "      <td>6.0</td>\n",
              "      <td>12.518868</td>\n",
              "    </tr>\n",
              "    <tr>\n",
              "      <th>8</th>\n",
              "      <td>7.0</td>\n",
              "      <td>12.087952</td>\n",
              "    </tr>\n",
              "    <tr>\n",
              "      <th>9</th>\n",
              "      <td>8.0</td>\n",
              "      <td>12.708567</td>\n",
              "    </tr>\n",
              "    <tr>\n",
              "      <th>10</th>\n",
              "      <td>9.0</td>\n",
              "      <td>12.745489</td>\n",
              "    </tr>\n",
              "    <tr>\n",
              "      <th>11</th>\n",
              "      <td>10.0</td>\n",
              "      <td>13.537333</td>\n",
              "    </tr>\n",
              "    <tr>\n",
              "      <th>12</th>\n",
              "      <td>11.0</td>\n",
              "      <td>12.398773</td>\n",
              "    </tr>\n",
              "    <tr>\n",
              "      <th>13</th>\n",
              "      <td>12.0</td>\n",
              "      <td>13.894737</td>\n",
              "    </tr>\n",
              "    <tr>\n",
              "      <th>14</th>\n",
              "      <td>13.0</td>\n",
              "      <td>13.644689</td>\n",
              "    </tr>\n",
              "    <tr>\n",
              "      <th>15</th>\n",
              "      <td>14.0</td>\n",
              "      <td>14.516746</td>\n",
              "    </tr>\n",
              "    <tr>\n",
              "      <th>16</th>\n",
              "      <td>15.0</td>\n",
              "      <td>14.217391</td>\n",
              "    </tr>\n",
              "    <tr>\n",
              "      <th>17</th>\n",
              "      <td>16.0</td>\n",
              "      <td>15.925373</td>\n",
              "    </tr>\n",
              "    <tr>\n",
              "      <th>18</th>\n",
              "      <td>17.0</td>\n",
              "      <td>16.270000</td>\n",
              "    </tr>\n",
              "    <tr>\n",
              "      <th>19</th>\n",
              "      <td>18.0</td>\n",
              "      <td>15.770492</td>\n",
              "    </tr>\n",
              "    <tr>\n",
              "      <th>20</th>\n",
              "      <td>19.0</td>\n",
              "      <td>16.971014</td>\n",
              "    </tr>\n",
              "    <tr>\n",
              "      <th>21</th>\n",
              "      <td>20.0</td>\n",
              "      <td>18.065574</td>\n",
              "    </tr>\n",
              "    <tr>\n",
              "      <th>22</th>\n",
              "      <td>21.0</td>\n",
              "      <td>18.375000</td>\n",
              "    </tr>\n",
              "    <tr>\n",
              "      <th>23</th>\n",
              "      <td>22.0</td>\n",
              "      <td>19.294118</td>\n",
              "    </tr>\n",
              "    <tr>\n",
              "      <th>24</th>\n",
              "      <td>23.0</td>\n",
              "      <td>19.488372</td>\n",
              "    </tr>\n",
              "    <tr>\n",
              "      <th>25</th>\n",
              "      <td>24.0</td>\n",
              "      <td>20.517241</td>\n",
              "    </tr>\n",
              "    <tr>\n",
              "      <th>26</th>\n",
              "      <td>25.0</td>\n",
              "      <td>19.920000</td>\n",
              "    </tr>\n",
              "    <tr>\n",
              "      <th>27</th>\n",
              "      <td>26.0</td>\n",
              "      <td>21.750000</td>\n",
              "    </tr>\n",
              "    <tr>\n",
              "      <th>28</th>\n",
              "      <td>27.0</td>\n",
              "      <td>21.409091</td>\n",
              "    </tr>\n",
              "    <tr>\n",
              "      <th>29</th>\n",
              "      <td>28.0</td>\n",
              "      <td>23.428571</td>\n",
              "    </tr>\n",
              "    <tr>\n",
              "      <th>30</th>\n",
              "      <td>29.0</td>\n",
              "      <td>23.000000</td>\n",
              "    </tr>\n",
              "    <tr>\n",
              "      <th>31</th>\n",
              "      <td>30.0</td>\n",
              "      <td>27.000000</td>\n",
              "    </tr>\n",
              "    <tr>\n",
              "      <th>32</th>\n",
              "      <td>33.0</td>\n",
              "      <td>23.000000</td>\n",
              "    </tr>\n",
              "  </tbody>\n",
              "</table>\n",
              "</div>\n",
              "      <button class=\"colab-df-convert\" onclick=\"convertToInteractive('df-9198fb6b-426f-4d58-b2f7-f8975048c519')\"\n",
              "              title=\"Convert this dataframe to an interactive table.\"\n",
              "              style=\"display:none;\">\n",
              "        \n",
              "  <svg xmlns=\"http://www.w3.org/2000/svg\" height=\"24px\"viewBox=\"0 0 24 24\"\n",
              "       width=\"24px\">\n",
              "    <path d=\"M0 0h24v24H0V0z\" fill=\"none\"/>\n",
              "    <path d=\"M18.56 5.44l.94 2.06.94-2.06 2.06-.94-2.06-.94-.94-2.06-.94 2.06-2.06.94zm-11 1L8.5 8.5l.94-2.06 2.06-.94-2.06-.94L8.5 2.5l-.94 2.06-2.06.94zm10 10l.94 2.06.94-2.06 2.06-.94-2.06-.94-.94-2.06-.94 2.06-2.06.94z\"/><path d=\"M17.41 7.96l-1.37-1.37c-.4-.4-.92-.59-1.43-.59-.52 0-1.04.2-1.43.59L10.3 9.45l-7.72 7.72c-.78.78-.78 2.05 0 2.83L4 21.41c.39.39.9.59 1.41.59.51 0 1.02-.2 1.41-.59l7.78-7.78 2.81-2.81c.8-.78.8-2.07 0-2.86zM5.41 20L4 18.59l7.72-7.72 1.47 1.35L5.41 20z\"/>\n",
              "  </svg>\n",
              "      </button>\n",
              "      \n",
              "  <style>\n",
              "    .colab-df-container {\n",
              "      display:flex;\n",
              "      flex-wrap:wrap;\n",
              "      gap: 12px;\n",
              "    }\n",
              "\n",
              "    .colab-df-convert {\n",
              "      background-color: #E8F0FE;\n",
              "      border: none;\n",
              "      border-radius: 50%;\n",
              "      cursor: pointer;\n",
              "      display: none;\n",
              "      fill: #1967D2;\n",
              "      height: 32px;\n",
              "      padding: 0 0 0 0;\n",
              "      width: 32px;\n",
              "    }\n",
              "\n",
              "    .colab-df-convert:hover {\n",
              "      background-color: #E2EBFA;\n",
              "      box-shadow: 0px 1px 2px rgba(60, 64, 67, 0.3), 0px 1px 3px 1px rgba(60, 64, 67, 0.15);\n",
              "      fill: #174EA6;\n",
              "    }\n",
              "\n",
              "    [theme=dark] .colab-df-convert {\n",
              "      background-color: #3B4455;\n",
              "      fill: #D2E3FC;\n",
              "    }\n",
              "\n",
              "    [theme=dark] .colab-df-convert:hover {\n",
              "      background-color: #434B5C;\n",
              "      box-shadow: 0px 1px 3px 1px rgba(0, 0, 0, 0.15);\n",
              "      filter: drop-shadow(0px 1px 2px rgba(0, 0, 0, 0.3));\n",
              "      fill: #FFFFFF;\n",
              "    }\n",
              "  </style>\n",
              "\n",
              "      <script>\n",
              "        const buttonEl =\n",
              "          document.querySelector('#df-9198fb6b-426f-4d58-b2f7-f8975048c519 button.colab-df-convert');\n",
              "        buttonEl.style.display =\n",
              "          google.colab.kernel.accessAllowed ? 'block' : 'none';\n",
              "\n",
              "        async function convertToInteractive(key) {\n",
              "          const element = document.querySelector('#df-9198fb6b-426f-4d58-b2f7-f8975048c519');\n",
              "          const dataTable =\n",
              "            await google.colab.kernel.invokeFunction('convertToInteractive',\n",
              "                                                     [key], {});\n",
              "          if (!dataTable) return;\n",
              "\n",
              "          const docLinkHtml = 'Like what you see? Visit the ' +\n",
              "            '<a target=\"_blank\" href=https://colab.research.google.com/notebooks/data_table.ipynb>data table notebook</a>'\n",
              "            + ' to learn more about interactive tables.';\n",
              "          element.innerHTML = '';\n",
              "          dataTable['output_type'] = 'display_data';\n",
              "          await google.colab.output.renderOutput(dataTable, element);\n",
              "          const docLink = document.createElement('div');\n",
              "          docLink.innerHTML = docLinkHtml;\n",
              "          element.appendChild(docLink);\n",
              "        }\n",
              "      </script>\n",
              "    </div>\n",
              "  </div>\n",
              "  "
            ],
            "text/plain": [
              "    num_additives      score\n",
              "0             NaN   9.134879\n",
              "1             0.0   5.249982\n",
              "2             1.0   9.715077\n",
              "3             2.0  11.656294\n",
              "4             3.0  11.456494\n",
              "5             4.0  12.639004\n",
              "6             5.0  12.304157\n",
              "7             6.0  12.518868\n",
              "8             7.0  12.087952\n",
              "9             8.0  12.708567\n",
              "10            9.0  12.745489\n",
              "11           10.0  13.537333\n",
              "12           11.0  12.398773\n",
              "13           12.0  13.894737\n",
              "14           13.0  13.644689\n",
              "15           14.0  14.516746\n",
              "16           15.0  14.217391\n",
              "17           16.0  15.925373\n",
              "18           17.0  16.270000\n",
              "19           18.0  15.770492\n",
              "20           19.0  16.971014\n",
              "21           20.0  18.065574\n",
              "22           21.0  18.375000\n",
              "23           22.0  19.294118\n",
              "24           23.0  19.488372\n",
              "25           24.0  20.517241\n",
              "26           25.0  19.920000\n",
              "27           26.0  21.750000\n",
              "28           27.0  21.409091\n",
              "29           28.0  23.428571\n",
              "30           29.0  23.000000\n",
              "31           30.0  27.000000\n",
              "32           33.0  23.000000"
            ]
          },
          "execution_count": 30,
          "metadata": {},
          "output_type": "execute_result"
        }
      ],
      "source": [
        "sdf = spark.sql('''\n",
        "SELECT CAST(additives_n AS INT) AS num_additives, AVG(nutriscore_score) AS score FROM data\n",
        "GROUP BY 1\n",
        "ORDER BY 1 ASC\n",
        "''')\n",
        "pdf = sdf.select('*').toPandas()\n",
        "pdf"
      ]
    },
    {
      "cell_type": "code",
      "execution_count": null,
      "metadata": {
        "colab": {
          "base_uri": "https://localhost:8080/",
          "height": 280
        },
        "id": "NfmZY5swYgit",
        "outputId": "bfe14f00-15c2-4cee-e44f-d773eb9bcf9c"
      },
      "outputs": [
        {
          "data": {
            "image/png": "[encoded data removed]",
            "text/plain": [
              "<Figure size 432x288 with 1 Axes>"
            ]
          },
          "metadata": {},
          "output_type": "display_data"
        }
      ],
      "source": [
        "plt.figure()\n",
        "ax = sns.scatterplot(data=pdf, x='num_additives', y='score')\n",
        "plt.show()"
      ]
    },
    {
      "cell_type": "markdown",
      "metadata": {
        "id": "W1Ybeu6kYlbH"
      },
      "source": [
        "The results above shown a trend that the more number of additives are found in the food product the higher score (lower grade) the food has."
      ]
    },
    {
      "cell_type": "markdown",
      "metadata": {
        "id": "037fNIo-YmcW"
      },
      "source": [
        "## 2.3 Source of nutritions (Baojia)"
      ]
    },
    {
      "cell_type": "markdown",
      "metadata": {
        "id": "0aZ4IsUNYr4c"
      },
      "source": [
        "We wanted to know which food categories can certain provide specific nutrients, then we can live a heathier life by making smart choices on food selection based on our needs."
      ]
    },
    {
      "cell_type": "code",
      "execution_count": null,
      "metadata": {
        "colab": {
          "base_uri": "https://localhost:8080/"
        },
        "id": "yA32L67nYwVV",
        "outputId": "30805ac3-5cae-4706-9eef-9765bdd2dec0"
      },
      "outputs": [
        {
          "name": "stdout",
          "output_type": "stream",
          "text": [
            "root\n",
            " |-- code: string (nullable = true)\n",
            " |-- url: string (nullable = true)\n",
            " |-- creator: string (nullable = true)\n",
            " |-- created_t: string (nullable = true)\n",
            " |-- created_datetime: string (nullable = true)\n",
            " |-- last_modified_t: string (nullable = true)\n",
            " |-- last_modified_datetime: string (nullable = true)\n",
            " |-- product_name: string (nullable = true)\n",
            " |-- generic_name: string (nullable = true)\n",
            " |-- quantity: string (nullable = true)\n",
            " |-- packaging: string (nullable = true)\n",
            " |-- packaging_tags: string (nullable = true)\n",
            " |-- packaging_en: string (nullable = true)\n",
            " |-- brands: string (nullable = true)\n",
            " |-- brands_tags: string (nullable = true)\n",
            " |-- categories: string (nullable = true)\n",
            " |-- categories_tags: string (nullable = true)\n",
            " |-- categories_en: string (nullable = true)\n",
            " |-- manufacturing_places: string (nullable = true)\n",
            " |-- manufacturing_places_tags: string (nullable = true)\n",
            " |-- labels: string (nullable = true)\n",
            " |-- labels_tags: string (nullable = true)\n",
            " |-- labels_en: string (nullable = true)\n",
            " |-- emb_codes: string (nullable = true)\n",
            " |-- emb_codes_tags: string (nullable = true)\n",
            " |-- purchase_places: string (nullable = true)\n",
            " |-- stores: string (nullable = true)\n",
            " |-- countries: string (nullable = true)\n",
            " |-- countries_tags: string (nullable = true)\n",
            " |-- countries_en: string (nullable = true)\n",
            " |-- ingredients_text: string (nullable = true)\n",
            " |-- ingredients_tags: string (nullable = true)\n",
            " |-- ingredients_analysis_tags: string (nullable = true)\n",
            " |-- allergens: string (nullable = true)\n",
            " |-- traces_tags: string (nullable = true)\n",
            " |-- traces_en: string (nullable = true)\n",
            " |-- serving_size: string (nullable = true)\n",
            " |-- serving_quantity: string (nullable = true)\n",
            " |-- additives_n: string (nullable = true)\n",
            " |-- additives_tags: string (nullable = true)\n",
            " |-- additives_en: string (nullable = true)\n",
            " |-- nutriscore_score: string (nullable = true)\n",
            " |-- nutriscore_grade: string (nullable = true)\n",
            " |-- nova_group: string (nullable = true)\n",
            " |-- pnns_groups_1: string (nullable = true)\n",
            " |-- pnns_groups_2: string (nullable = true)\n",
            " |-- food_groups: string (nullable = true)\n",
            " |-- food_groups_tags: string (nullable = true)\n",
            " |-- food_groups_en: string (nullable = true)\n",
            " |-- states: string (nullable = true)\n",
            " |-- states_tags: string (nullable = true)\n",
            " |-- states_en: string (nullable = true)\n",
            " |-- brand_owner: string (nullable = true)\n",
            " |-- ecoscore_score: string (nullable = true)\n",
            " |-- ecoscore_grade: string (nullable = true)\n",
            " |-- nutrient_levels_tags: string (nullable = true)\n",
            " |-- product_quantity: string (nullable = true)\n",
            " |-- unique_scans_n: string (nullable = true)\n",
            " |-- popularity_tags: string (nullable = true)\n",
            " |-- completeness: string (nullable = true)\n",
            " |-- last_image_t: string (nullable = true)\n",
            " |-- last_image_datetime: string (nullable = true)\n",
            " |-- main_category: string (nullable = true)\n",
            " |-- main_category_en: string (nullable = true)\n",
            " |-- image_url: string (nullable = true)\n",
            " |-- image_small_url: string (nullable = true)\n",
            " |-- image_ingredients_url: string (nullable = true)\n",
            " |-- image_ingredients_small_url: string (nullable = true)\n",
            " |-- image_nutrition_url: string (nullable = true)\n",
            " |-- image_nutrition_small_url: string (nullable = true)\n",
            " |-- energy-kj_100g: string (nullable = true)\n",
            " |-- energy-kcal_100g: string (nullable = true)\n",
            " |-- energy_100g: string (nullable = true)\n",
            " |-- fat_100g: string (nullable = true)\n",
            " |-- saturated-fat_100g: string (nullable = true)\n",
            " |-- trans-fat_100g: string (nullable = true)\n",
            " |-- cholesterol_100g: string (nullable = true)\n",
            " |-- carbohydrates_100g: string (nullable = true)\n",
            " |-- sugars_100g: string (nullable = true)\n",
            " |-- fiber_100g: string (nullable = true)\n",
            " |-- proteins_100g: string (nullable = true)\n",
            " |-- salt_100g: string (nullable = true)\n",
            " |-- sodium_100g: string (nullable = true)\n",
            " |-- vitamin-a_100g: string (nullable = true)\n",
            " |-- vitamin-c_100g: string (nullable = true)\n",
            " |-- calcium_100g: string (nullable = true)\n",
            " |-- iron_100g: string (nullable = true)\n",
            " |-- fruits-vegetables-nuts-estimate-from-ingredients_100g: string (nullable = true)\n",
            " |-- nutrition-score-fr_100g: string (nullable = true)\n",
            " |-- food_groups_array: array (nullable = true)\n",
            " |    |-- element: string (containsNull = false)\n",
            "\n",
            "+--------------------+--------------------+--------------+----------+--------------------+---------------+----------------------+--------------------+------------+--------+---------+--------------+------------+-------------+-------------+--------------------+--------------------+--------------------+--------------------+-------------------------+-------------+----------------+----------------+---------+--------------+---------------+-------------+----------------+----------------+-------------+--------------------+--------------------+-------------------------+----------+-----------+---------+------------+----------------+-----------+--------------------+--------------------+----------------+----------------+----------+--------------------+--------------------+--------------------+--------------------+--------------------+--------------------+--------------------+--------------------+-----------+--------------+--------------+--------------------+----------------+--------------+--------------------+------------+------------+--------------------+--------------------+--------------------+--------------------+--------------------+---------------------+---------------------------+--------------------+-------------------------+--------------+----------------+-----------+--------+------------------+--------------+----------------+------------------+-----------+----------+-------------+---------+-----------+--------------+--------------+------------+---------+-----------------------------------------------------+-----------------------+--------------------+\n",
            "|                code|                 url|       creator| created_t|    created_datetime|last_modified_t|last_modified_datetime|        product_name|generic_name|quantity|packaging|packaging_tags|packaging_en|       brands|  brands_tags|          categories|     categories_tags|       categories_en|manufacturing_places|manufacturing_places_tags|       labels|     labels_tags|       labels_en|emb_codes|emb_codes_tags|purchase_places|       stores|       countries|  countries_tags| countries_en|    ingredients_text|    ingredients_tags|ingredients_analysis_tags| allergens|traces_tags|traces_en|serving_size|serving_quantity|additives_n|      additives_tags|        additives_en|nutriscore_score|nutriscore_grade|nova_group|       pnns_groups_1|       pnns_groups_2|         food_groups|    food_groups_tags|      food_groups_en|              states|         states_tags|           states_en|brand_owner|ecoscore_score|ecoscore_grade|nutrient_levels_tags|product_quantity|unique_scans_n|     popularity_tags|completeness|last_image_t| last_image_datetime|       main_category|    main_category_en|           image_url|     image_small_url|image_ingredients_url|image_ingredients_small_url| image_nutrition_url|image_nutrition_small_url|energy-kj_100g|energy-kcal_100g|energy_100g|fat_100g|saturated-fat_100g|trans-fat_100g|cholesterol_100g|carbohydrates_100g|sugars_100g|fiber_100g|proteins_100g|salt_100g|sodium_100g|vitamin-a_100g|vitamin-c_100g|calcium_100g|iron_100g|fruits-vegetables-nuts-estimate-from-ingredients_100g|nutrition-score-fr_100g|   food_groups_array|\n",
            "+--------------------+--------------------+--------------+----------+--------------------+---------------+----------------------+--------------------+------------+--------+---------+--------------+------------+-------------+-------------+--------------------+--------------------+--------------------+--------------------+-------------------------+-------------+----------------+----------------+---------+--------------+---------------+-------------+----------------+----------------+-------------+--------------------+--------------------+-------------------------+----------+-----------+---------+------------+----------------+-----------+--------------------+--------------------+----------------+----------------+----------+--------------------+--------------------+--------------------+--------------------+--------------------+--------------------+--------------------+--------------------+-----------+--------------+--------------+--------------------+----------------+--------------+--------------------+------------+------------+--------------------+--------------------+--------------------+--------------------+--------------------+---------------------+---------------------------+--------------------+-------------------------+--------------+----------------+-----------+--------+------------------+--------------+----------------+------------------+-----------+----------+-------------+---------+-----------+--------------+--------------+------------+---------+-----------------------------------------------------+-----------------------+--------------------+\n",
            "|   00000000000000225|http://world-en.o...|nutrinet-sante|1623855208|2021-06-16T14:53:28Z|     1623855209|  2021-06-16T14:53:29Z|      jeunes pousses|        null|    null|     null|          null|        null|      endives|      endives|                null|                null|                null|                null|                     null|         null|            null|            null|     null|          null|           null|         null|       en:france|       en:france|       France|                null|                null|                     null|      null|       null|     null|        null|            null|       null|                null|                null|            null|            null|      null|             unknown|             unknown|                null|                null|                null|en:to-be-complete...|en:to-be-complete...|To be completed,N...|       null|          null|       unknown|                null|            null|          null|                null|         0.2|        null|                null|                null|                null|                null|                null|                 null|                       null|                null|                     null|          null|            null|       null|    null|              null|          null|            null|              null|       null|      null|         null|     null|       null|          null|          null|        null|     null|                                                 null|                   null|                null|\n",
            "|00000000000002070...|http://world-en.o...|       kiliweb|1656948610|2022-07-04T15:30:10Z|     1656948613|  2022-07-04T15:30:13Z|               Andrè|        null|    null|     null|          null|        null|         null|         null|                null|                null|                null|                null|                     null|         null|            null|            null|     null|          null|           null|         null|           en:de|      en:germany|      Germany|                null|                null|                     null|      null|       null|     null|        null|            null|       null|                null|                null|            null|            null|      null|             unknown|             unknown|                null|                null|                null|en:to-be-complete...|en:to-be-complete...|To be completed,N...|       null|          null|       unknown|                null|            null|          null|                null|      0.2625|  1656948613|2022-07-04T15:30:13Z|                null|                null|                null|                null|                 null|                       null|https://images.op...|     https://images.op...|          null|             165|        690|       2|                 2|          null|            null|                65|       12.6|         3|          1.5|     null|       null|          null|          null|        null|     null|                                                 null|                   null|                null|\n",
            "|00000000000003429145|http://world-en.o...|       kiliweb|1630483911|2021-09-01T08:11:51Z|     1656488106|  2022-06-29T07:35:06Z|             L.casei|        null|    null|     null|          null|        null|         null|         null|                null|                null|                null|                null|                     null|         null|            null|            null|     null|          null|           null|         null|           Spain|        en:spain|        Spain|Leche semidesnata...|en:semi-skimmed-m...|     en:palm-oil-free,...|      null|       null|     null|        null|            null|          0|                null|                null|            null|            null|      null|             unknown|             unknown|                null|                null|                null|en:to-be-complete...|en:to-be-complete...|To be completed,N...|       null|          null|       unknown|                null|            null|          null|                null|      0.4875|  1630483912|2021-09-01T08:11:52Z|                null|                null|https://images.op...|https://images.op...| https://images.op...|       https://images.op...|https://images.op...|     https://images.op...|          null|            null|       null|     1.4|               0.9|          null|            null|               9.8|        9.8|      null|          2.7|      0.1|       0.04|          null|          null|        null|     null|                                                    0|                   null|                null|\n",
            "|00000000000026772226|http://world-en.o...|       kiliweb|1654250311|2022-06-03T09:58:31Z|     1654270474|  2022-06-03T15:34:34Z|                Skyr|        null|   480 g|     null|          null|        null|       Danone|       danone|Produits laitiers...|en:dairies,en:des...|Dairies,Desserts,...|                null|                     null|         null|            null|            null|     null|          null|           null|         null|          France|       en:france|       France|                null|                null|                     null|      null|       null|     null|        null|            null|       null|                null|                null|              -5|               a|      null|Milk and dairy pr...|      Dairy desserts|   en:dairy-desserts|en:milk-and-dairy...|Milk and dairy pr...|en:to-be-complete...|en:to-be-complete...|To be completed,N...|       null|            34|             d|en:fat-in-low-qua...|             480|          null|                null|       0.575|  1654250314|2022-06-03T09:58:34Z|    en:cream-cheeses|       Cream cheeses|https://images.op...|https://images.op...|                 null|                       null|https://images.op...|     https://images.op...|          null|              57|        238|     0.2|               0.1|          null|            null|               3.9|        3.9|      null|           10|     0.09|      0.036|          null|          null|        null|     null|                                                 null|                     -5|[Milk and dairy p...|\n",
            "|       0000000000017|http://world-en.o...|       kiliweb|1529059080|2018-06-15T10:38:00Z|     1561463718|  2019-06-25T11:55:18Z|    Vitória crackers|        null|    null|     null|          null|        null|         null|         null|                null|                null|                null|                null|                     null|         null|            null|            null|     null|          null|           null|         null|          France|       en:france|       France|                null|                null|                     null|      null|       null|     null|        null|            null|       null|                null|                null|            null|            null|      null|             unknown|             unknown|                null|                null|                null|en:to-be-complete...|en:to-be-complete...|To be completed,N...|       null|          null|       unknown|                null|            null|          null|                null|       0.275|  1529059087|2018-06-15T10:38:07Z|                null|                null|https://images.op...|https://images.op...| https://images.op...|       https://images.op...|                null|                     null|          null|             375|       1569|       7|              3.08|          null|            null|              70.1|         15|      null|          7.8|      1.4|       0.56|          null|          null|        null|     null|                                                 null|                   null|                null|\n",
            "|       0000000000031|http://world-en.o...|      isagoofy|1539464774|2018-10-13T21:06:14Z|     1539464817|  2018-10-13T21:06:57Z|               Cacao|        null|   130 g|     null|          null|        null|         null|         null|                null|                null|                null|                null|                     null|         null|            null|            null|     null|          null|           null|         null|          France|       en:france|       France|                null|                null|                     null|      null|       null|     null|        null|            null|       null|                null|                null|            null|            null|      null|             unknown|             unknown|                null|                null|                null|en:to-be-complete...|en:to-be-complete...|To be completed,N...|       null|          null|       unknown|                null|             130|          null|                null|      0.2625|  1539464775|2018-10-13T21:06:15Z|                null|                null|https://images.op...|https://images.op...|                 null|                       null|                null|                     null|          null|            null|       null|    null|              null|          null|            null|              null|       null|      null|         null|     null|       null|          null|          null|        null|     null|                                                 null|                   null|                null|\n",
            "|  000000000003327986|http://world-en.o...|       kiliweb|1574175736|2019-11-19T15:02:16Z|     1624390765|  2021-06-22T19:39:25Z|Filetes de pollo ...|        null|    null|     null|          null|        null|         null|         null|                null|                null|                null|                null|                     null|         null|            null|            null|     null|          null|           null|         null|         Espagne|        en:spain|        Spain|                null|                null|                     null|      null|       null|     null|        null|            null|       null|                null|                null|            null|            null|      null|             unknown|             unknown|                null|                null|                null|en:to-be-complete...|en:to-be-complete...|To be completed,N...|       null|          null|       unknown|                null|            null|          null|                null|       0.275|  1574175737|2019-11-19T15:02:17Z|                null|                null|https://images.op...|https://images.op...|                 null|                       null|https://images.op...|     https://images.op...|         685.8|           163.9|      685.8|     1.9|                 1|          null|            null|              null|       null|      null|         15.3|      1.1|       0.44|          null|          null|        null|     null|                                                 null|                   null|                null|\n",
            "|  000000000004128579|http://world-en.o...|       kiliweb|1649449251|2022-04-08T20:20:51Z|     1649449920|  2022-04-08T20:32:00Z|   Burger Meat Pollo|        null|    null|     null|          null|        null|         null|         null|                null|                null|                null|                null|                     null|         null|            null|            null|     null|          null|           null|         null|           en:es|        en:spain|        Spain|                null|                null|                     null|      null|       null|     null|        null|            null|       null|                null|                null|            null|            null|      null|             unknown|             unknown|                null|                null|                null|en:to-be-complete...|en:to-be-complete...|To be completed,N...|       null|          null|       unknown|                null|            null|          null|                null|       0.375|  1649449255|2022-04-08T20:20:55Z|                null|                null|https://images.op...|https://images.op...|                 null|                       null|https://images.op...|     https://images.op...|          null|             194|        812|      11|               3.9|          null|            null|               5.7|       0.05|      null|           18|     null|       null|          null|          null|        null|     null|                                                 null|                   null|                null|\n",
            "|  000000000004622327|http://world-en.o...|       kiliweb|1619501895|2021-04-27T05:38:15Z|     1619501897|  2021-04-27T05:38:17Z|Hamburguesas de t...|        null|    null|     null|          null|        null|         null|         null|                null|                null|                null|                null|                     null|         null|            null|            null|     null|          null|           null|         null|           en:es|        en:spain|        Spain|                null|                null|                     null|      null|       null|     null|        null|            null|       null|                null|                null|            null|            null|      null|             unknown|             unknown|                null|                null|                null|en:to-be-complete...|en:to-be-complete...|To be completed,N...|       null|          null|       unknown|                null|            null|          null|                null|       0.275|  1619501896|2021-04-27T05:38:16Z|                null|                null|https://images.op...|https://images.op...|                 null|                       null|https://images.op...|     https://images.op...|          null|           874.9|       3661|    15.1|               6.1|          null|            null|               2.6|          1|      null|         15.7|      2.1|       0.84|          null|          null|        null|     null|                                                 null|                   null|                null|\n",
            "|         00000000001|http://world-en.o...|           inf|1634745456|2021-10-20T15:57:36Z|     1634745530|  2021-10-20T15:58:50Z|           hyde icon|        null|    null|     null|          null|        null|         null|         null|                null|                null|                null|                null|                     null|         null|            null|            null|     null|          null|           null|         null|en:United States|en:united-states|United States|beta alanine, cre...|en:beta-alanine,e...|     en:palm-oil-conte...|      null|       null|     null|        null|            null|          5|en:e296,en:e330,e...|E296 - Malic acid...|            null|            null|         4|             unknown|             unknown|                null|                null|                null|en:to-be-complete...|en:to-be-complete...|To be completed,N...|       null|          null|       unknown|                null|            null|          null|                null|         0.3|        null|                null|                null|                null|                null|                null|                 null|                       null|                null|                     null|          null|            null|       null|    null|              null|          null|            null|              null|       null|      null|         null|     null|       null|          null|          null|        null|     null|                                                    0|                   null|                null|\n",
            "|       0000000000100|http://world-en.o...|         del51|1444572561|2015-10-11T14:09:21Z|     1444659212|  2015-10-12T14:13:32Z| moutarde au moût...|        null|    100g|     null|          null|        null|courte paille|courte-paille|en:groceries, Con...|en:condiments,en:...|Condiments,Sauces...|                null|                     null|Delois france|fr:delois-france|fr:delois-france|     null|          null|           null|courte paille|          France|       en:france|       France|eau graines de té...|fr:eau-graines-de...|     en:palm-oil-conte...|en:mustard|       null|     null|        null|            null|          0|                null|                null|              18|               d|      null|      Fat and sauces|Dressings and sauces|en:dressings-and-...|en:fats-and-sauce...|Fats and sauces,D...|en:to-be-complete...|en:to-be-complete...|To be completed,N...|       null|            55|             c|en:fat-in-moderat...|             100|          null|                null|      0.7625|  1444572697|2015-10-11T14:11:37Z|        en:groceries|           Groceries|https://images.op...|https://images.op...|                 null|                       null|                null|                     null|           936|            null|        936|     8.2|               2.2|          null|            null|                29|         22|         0|          5.1|      4.6|       1.84|          null|          null|        null|     null|                                                    0|                     18|[Fats and sauces,...|\n",
            "|       0000000000123|http://world-en.o...|       kiliweb|1535737982|2018-08-31T17:53:02Z|     1535737986|  2018-08-31T17:53:06Z|Sauce Sweety chil...|        null|    null|     null|          null|        null|         null|         null|                null|                null|                null|                null|                     null|         null|            null|            null|     null|          null|           null|         null|          France|       en:france|       France|                null|                null|                     null|      null|       null|     null|        null|            null|       null|                null|                null|            null|            null|      null|             unknown|             unknown|                null|                null|                null|en:to-be-complete...|en:to-be-complete...|To be completed,N...|       null|          null|       unknown|                null|            null|          null|                null|       0.275|  1535737985|2018-08-31T17:53:05Z|                null|                null|https://images.op...|https://images.op...| https://images.op...|       https://images.op...|                null|                     null|          null|              21|         88|       0|                 0|          null|            null|               4.8|        0.4|      null|          0.2|     2.04|      0.816|          null|          null|        null|     null|                                                 null|                   null|                null|\n",
            "|       0000000000178|http://world-en.o...|       kiliweb|1542456332|2018-11-17T12:05:32Z|     1542456333|  2018-11-17T12:05:33Z|           Mini coco|        null|    null|     null|          null|        null|         null|         null|                null|                null|                null|                null|                     null|         null|            null|            null|     null|          null|           null|         null|          France|       en:france|       France|                null|                null|                     null|      null|       null|     null|        null|            null|       null|                null|                null|            null|            null|      null|             unknown|             unknown|                null|                null|                null|en:to-be-complete...|en:to-be-complete...|To be completed,N...|       null|          null|       unknown|                null|            null|             1|bottom-25-percent...|       0.275|  1542456333|2018-11-17T12:05:33Z|                null|                null|https://images.op...|https://images.op...| https://images.op...|       https://images.op...|                null|                     null|          null|              60|        251|       3|                 1|          null|            null|                10|          3|      null|            2|     1.15|       0.46|          null|          null|        null|     null|                                                 null|                   null|                null|\n",
            "|       0000000000208|http://world-en.o...|       kiliweb|1544207680|2018-12-07T18:34:40Z|     1544207683|  2018-12-07T18:34:43Z|Pistou d'ail des ...|        null|    null|     null|          null|        null|         null|         null|                null|                null|                null|                null|                     null|         null|            null|            null|     null|          null|           null|         null|          France|       en:france|       France|                null|                null|                     null|      null|       null|     null|        null|            null|       null|                null|                null|            null|            null|      null|             unknown|             unknown|                null|                null|                null|en:to-be-complete...|en:to-be-complete...|To be completed,N...|       null|          null|       unknown|                null|            null|             1|bottom-25-percent...|       0.175|  1544207682|2018-12-07T18:34:42Z|                null|                null|https://images.op...|https://images.op...| https://images.op...|       https://images.op...|                null|                     null|          null|            null|       null|    null|              null|          null|            null|              null|       null|      null|         null|     null|       null|          null|          null|        null|     null|                                                 null|                   null|                null|\n",
            "|       0000000000284|http://world-en.o...|       kiliweb|1547120245|2019-01-10T11:37:25Z|     1563551052|  2019-07-19T15:44:12Z|           Pain maïs|        null|    null|     null|          null|        null|         null|         null|                null|                null|                null|                null|                     null|         null|            null|            null|     null|          null|           null|         null|       en:france|       en:france|       France|                null|                null|                     null|      null|       null|     null|        null|            null|       null|                null|                null|            null|            null|      null|             unknown|             unknown|                null|                null|                null|en:to-be-complete...|en:to-be-complete...|To be completed,N...|       null|          null|       unknown|                null|            null|          null|                null|       0.175|  1547120246|2019-01-10T11:37:26Z|                null|                null|https://images.op...|https://images.op...| https://images.op...|       https://images.op...|                null|                     null|          null|            null|       null|    null|              null|          null|            null|              null|       null|      null|         null|     null|       null|          null|          null|        null|     null|                                                 null|                   null|                null|\n",
            "|       0000000000291|http://world-en.o...|       kiliweb|1534239669|2018-08-14T09:41:09Z|     1534239732|  2018-08-14T09:42:12Z|           Mendiants|        null|    null|     null|          null|        null|         null|         null|                null|                null|                null|                null|                     null|         null|            null|            null|     null|          null|           null|         null|          France|       en:france|       France|                null|                null|                     null|      null|       null|     null|        null|            null|       null|                null|                null|            null|            null|      null|             unknown|             unknown|                null|                null|                null|en:to-be-complete...|en:to-be-complete...|To be completed,N...|       null|          null|       unknown|                null|            null|          null|                null|       0.175|  1534239684|2018-08-14T09:41:24Z|                null|                null|https://images.op...|https://images.op...| https://images.op...|       https://images.op...|                null|                     null|          null|            null|       null|    null|              null|          null|            null|              null|       null|      null|         null|     null|       null|          null|          null|        null|     null|                                                 null|                   null|                null|\n",
            "|        000000000054|http://world-en.o...|       kiliweb|1582569031|2020-02-24T18:30:31Z|     1582569032|  2020-02-24T18:30:32Z|Limonade artisana...|        null|    null|     null|          null|        null|         null|         null|                null|                null|                null|                null|                     null|         null|            null|            null|     null|          null|           null|         null|           en:fr|       en:france|       France|                null|                null|                     null|      null|       null|     null|        null|            null|       null|                null|                null|            null|            null|      null|             unknown|             unknown|                null|                null|                null|en:to-be-complete...|en:to-be-complete...|To be completed,N...|       null|          null|       unknown|                null|            null|          null|                null|      0.1625|  1582569031|2020-02-24T18:30:31Z|                null|                null|https://images.op...|https://images.op...|                 null|                       null|                null|                     null|          null|            null|       null|    null|              null|          null|            null|              null|       null|      null|         null|     null|       null|          null|          null|        null|     null|                                                 null|                   null|                null|\n",
            "|        000000000075|http://world-en.o...|       kiliweb|1577358367|2019-12-26T11:06:07Z|     1577358368|  2019-12-26T11:06:08Z|     Sachet calisson|        null|    null|     null|          null|        null|         null|         null|                null|                null|                null|                null|                     null|         null|            null|            null|     null|          null|           null|         null|           en:fr|       en:france|       France|                null|                null|                     null|      null|       null|     null|        null|            null|       null|                null|                null|            null|            null|      null|             unknown|             unknown|                null|                null|                null|en:to-be-complete...|en:to-be-complete...|To be completed,N...|       null|          null|       unknown|                null|            null|          null|                null|      0.2625|  1577358368|2019-12-26T11:06:08Z|                null|                null|https://images.op...|https://images.op...|                 null|                       null|                null|                     null|          null|            null|       null|    null|              null|          null|            null|              null|       null|      null|         null|        0|          0|          null|          null|        null|     null|                                                 null|                   null|                null|\n",
            "|        000000000080|http://world-en.o...|       kiliweb|1612447663|2021-02-04T14:07:43Z|     1663692490|  2022-09-20T16:48:10Z|    Pur jus de pomme|        null|    null|     null|          null|        null|         null|         null|Aliments et boiss...|en:plant-based-fo...|Plant-based foods...|                null|                     null|         null|            null|            null|     null|          null|           null|         null|           en:fr|       en:france|       France|                null|                null|                     null|      null|       null|     null|        null|            null|       null|                null|                null|               9|               d|      null|           Beverages|        Fruit juices|     en:fruit-juices|en:beverages,en:f...|Beverages,Fruit j...|en:to-be-complete...|en:to-be-complete...|To be completed,N...|       null|            50|             c|en:fat-in-low-qua...|            null|             1|bottom-25-percent...|       0.375|  1612447667|2021-02-04T14:07:47Z|en:squeezed-apple...|Squeezed apple ju...|https://images.op...|https://images.op...|                 null|                       null|https://images.op...|     https://images.op...|          null|              63|        264|       0|                 0|          null|            null|              15.5|       15.5|      null|          0.2|        0|          0|          null|          null|        null|     null|                                                 null|                      9|[Beverages, Fruit...|\n",
            "|        000000000088|http://world-en.o...|       kiliweb|1577358222|2019-12-26T11:03:42Z|     1632673428|  2021-09-26T16:23:48Z|       Pate d'amande|        null|    null|     null|          null|        null|         null|         null|Massepain, Pâtes ...|en:snacks,en:swee...|Snacks,Sweet snac...|                null|                     null|         null|            null|            null|     null|          null|           null|         null|          France|       en:france|       France|                null|                null|                     null|      null|       null|     null|        null|            null|       null|                null|                null|            null|            null|      null|       Sugary snacks|              Sweets|           en:sweets|en:sugary-snacks,...|Sugary snacks,Sweets|en:to-be-complete...|en:to-be-complete...|To be completed,N...|       null|             5|             e|en:salt-in-low-qu...|            null|          null|                null|       0.375|  1577358223|2019-12-26T11:03:43Z|     en:almond-paste|        Almond paste|https://images.op...|https://images.op...|                 null|                       null|https://images.op...|     https://images.op...|          null|            null|       null|    null|              null|          null|            null|              null|       null|      null|         null|        0|          0|          null|          null|        null|     null|                                                 null|                   null|[Sugary snacks, S...|\n",
            "+--------------------+--------------------+--------------+----------+--------------------+---------------+----------------------+--------------------+------------+--------+---------+--------------+------------+-------------+-------------+--------------------+--------------------+--------------------+--------------------+-------------------------+-------------+----------------+----------------+---------+--------------+---------------+-------------+----------------+----------------+-------------+--------------------+--------------------+-------------------------+----------+-----------+---------+------------+----------------+-----------+--------------------+--------------------+----------------+----------------+----------+--------------------+--------------------+--------------------+--------------------+--------------------+--------------------+--------------------+--------------------+-----------+--------------+--------------+--------------------+----------------+--------------+--------------------+------------+------------+--------------------+--------------------+--------------------+--------------------+--------------------+---------------------+---------------------------+--------------------+-------------------------+--------------+----------------+-----------+--------+------------------+--------------+----------------+------------------+-----------+----------+-------------+---------+-----------+--------------+--------------+------------+---------+-----------------------------------------------------+-----------------------+--------------------+\n",
            "only showing top 20 rows\n",
            "\n"
          ]
        }
      ],
      "source": [
        "# explode the food group column (as food category information)\n",
        "from pyspark.sql.functions import split, col\n",
        "df_3 = new_df.select('*', split(col(\"food_groups_en\"),\",\").alias(\"food_groups_array\"))\n",
        "df_3.printSchema()\n",
        "df_3.show()"
      ]
    },
    {
      "cell_type": "code",
      "execution_count": null,
      "metadata": {
        "id": "d8SdlRnQYz2S"
      },
      "outputs": [],
      "source": [
        "# explode the food group column to get the food category for each products. Some food products belong to multiple categories.\n",
        "from pyspark.sql.functions import explode\n",
        "df_3 = df_3.select('*', explode(df_3.food_groups_array).alias('food_group'))"
      ]
    },
    {
      "cell_type": "code",
      "execution_count": null,
      "metadata": {
        "id": "4a_LhXbkY4Ty"
      },
      "outputs": [],
      "source": [
        "# Select nutrients that people like to take supplements for as targe nutrients in our study.\n",
        "# create a dictionary to store index and food category in order of the contained amount of each nutrient. \n",
        "# The smaller the index number, the higher value of the nutrient contained in the category.\n",
        "df_3.createOrReplaceTempView(\"df_3\")\n",
        "pdfs = {}\n",
        "for s in ['fiber_100g', 'proteins_100g', 'vitamin-a_100g', 'vitamin-c_100g', 'calcium_100g', 'iron_100g']:\n",
        "    sdf = spark.sql('''\n",
        "    SELECT food_group, AVG(`{}`) AS amount\n",
        "    FROM df_3\n",
        "    GROUP BY 1\n",
        "    ORDER BY amount DESC\n",
        "    '''.format(s))\n",
        "    pdfs[s] = sdf.toPandas()"
      ]
    },
    {
      "cell_type": "code",
      "execution_count": null,
      "metadata": {
        "colab": {
          "base_uri": "https://localhost:8080/"
        },
        "id": "ytToDsSIZBk_",
        "outputId": "37da1bd4-ded8-4daa-e3de-0af882ece033"
      },
      "outputs": [
        {
          "data": {
            "text/plain": [
              "{'Breakfast cereals': 29,\n",
              " 'Milk and dairy products': 81,\n",
              " 'Dried fruits': 82,\n",
              " 'Cheese': 87,\n",
              " 'Cereals and potatoes': 93,\n",
              " 'Pastries': 93,\n",
              " 'Nuts': 98,\n",
              " 'Cereals': 101,\n",
              " 'Salty snacks': 102,\n",
              " 'Salty and fatty products': 106,\n",
              " 'Vegetables': 108,\n",
              " 'Artificially sweetened beverages': 111,\n",
              " 'Fruits and vegetables': 112,\n",
              " 'Fish and seafood': 116,\n",
              " 'One-dish meals': 121,\n",
              " 'Composite foods': 121,\n",
              " 'Chocolate products': 128,\n",
              " 'Sandwiches': 128,\n",
              " 'Fish‚ Meat‚ Eggs': 128,\n",
              " 'Sugary snacks': 140,\n",
              " 'Biscuits and cakes': 141,\n",
              " 'Fatty fish': 142,\n",
              " 'Milk and yogurt': 143,\n",
              " 'Legumes': 145,\n",
              " 'Fats': 150,\n",
              " 'Beverages': 150,\n",
              " 'Potatoes': 152,\n",
              " 'Fruit juices': 159,\n",
              " 'Sweets': 160,\n",
              " 'Unsweetened beverages': 162,\n",
              " 'Pizza pies and quiches': 167,\n",
              " 'Dairy desserts': 167,\n",
              " 'Bread': 171,\n",
              " 'Appetizers': 175,\n",
              " 'Fruits': 176,\n",
              " 'Fats and sauces': 180,\n",
              " 'Sweetened beverages': 183,\n",
              " 'Meat other than poultry': 188,\n",
              " 'Processed meat': 191,\n",
              " 'Meat': 193,\n",
              " 'Plant-based milk substitutes': 195,\n",
              " 'Dressings and sauces': 200,\n",
              " 'Eggs': 207,\n",
              " 'Alcoholic beverages': 210,\n",
              " 'Offals': 217,\n",
              " 'Poultry': 217,\n",
              " 'Lean fish': 222,\n",
              " 'Ice cream': 225,\n",
              " 'Soups': 229,\n",
              " 'Unknown': 232,\n",
              " 'Waters and flavored waters': 237,\n",
              " 'Fruit nectars': 248,\n",
              " 'Teas and herbal teas and coffees': 249}"
            ]
          },
          "execution_count": 74,
          "metadata": {},
          "output_type": "execute_result"
        }
      ],
      "source": [
        "# sum the index of each food category over all nutrients. A smaller sum indicates the food category can provide more various of nutrients. \n",
        "# Just to note, since we didn't include the specific amounts of nutrients contained in each category into calculation and the index cannot fully represent how good or bad source a category is,\n",
        "# the order just showed a tendency but is not a serious order of good sources of nutrients.\n",
        "counter_dict = {}\n",
        "for s in ['fiber_100g', 'proteins_100g', 'vitamin-a_100g', 'vitamin-c_100g', 'calcium_100g', 'iron_100g']:\n",
        "# for s in ['energy_100g']:\n",
        "    for index, row in pdfs[s].iterrows():\n",
        "        # print(row['food_group'], row['amount'])\n",
        "        food_group = row['food_group']\n",
        "        if food_group in counter_dict:\n",
        "            counter_dict[food_group] += index\n",
        "        else:\n",
        "            counter_dict[food_group] = index\n",
        "dict(sorted(counter_dict.items(), key=lambda item: item[1]))"
      ]
    },
    {
      "cell_type": "markdown",
      "metadata": {
        "id": "2ANxrMSMtlEO"
      },
      "source": [
        "## 2.4 High fat foods and countries (Preprocessing and EDA)(Raman)"
      ]
    },
    {
      "cell_type": "markdown",
      "source": [
        "Is it true that food in the US is less healthy due to a common stereotype that US food products contain more fats as compared to European food products?\n",
        "\n",
        "Lets explore this question "
      ],
      "metadata": {
        "id": "kE1jwH8knxIw"
      }
    },
    {
      "cell_type": "code",
      "execution_count": null,
      "metadata": {
        "id": "z_CKlkSLdMNw"
      },
      "outputs": [],
      "source": [
        "new_df.createOrReplaceTempView(\"sdf\")"
      ]
    },
    {
      "cell_type": "code",
      "execution_count": null,
      "metadata": {
        "id": "sfjU5N8GdVod"
      },
      "outputs": [],
      "source": [
        "sql_q = spark.sql('''\n",
        "select countries_en, \n",
        "cast(fat_100g as float) fat_100g, \n",
        "cast(`saturated-fat_100g` as float) `saturated-fat_100g`,\n",
        "cast(`trans-fat_100g` as float) as `trans-fat_100g`,\n",
        " ingredients_text, \n",
        "cast( `cholesterol_100g` as float) as `cholesterol_100g`, \n",
        "cast( `carbohydrates_100g` as float) as `carbohydrates_100g`,\n",
        "cast( `sugars_100g` as float) as `sugars_100g`, \n",
        "cast( `energy_100g` as float) as `energy_100g`\n",
        "from sdf\n",
        "where countries_en in ('United States', 'France', 'Italy', 'Germany', 'Belgium', 'Spain', 'Denmark', 'Switzerland')\n",
        "''')"
      ]
    },
    {
      "cell_type": "code",
      "execution_count": null,
      "metadata": {
        "id": "bNuhTARNdZw-"
      },
      "outputs": [],
      "source": [
        "df = sql_q.select('*').toPandas()"
      ]
    },
    {
      "cell_type": "code",
      "execution_count": null,
      "metadata": {
        "colab": {
          "base_uri": "https://localhost:8080/"
        },
        "id": "lzBord4wddPi",
        "outputId": "932555f0-1aa6-4664-8d6c-4d1cf093460d"
      },
      "outputs": [
        {
          "data": {
            "text/plain": [
              "(2074985, 9)"
            ]
          },
          "execution_count": 21,
          "metadata": {},
          "output_type": "execute_result"
        }
      ],
      "source": [
        "df.shape"
      ]
    },
    {
      "cell_type": "code",
      "execution_count": null,
      "metadata": {
        "colab": {
          "base_uri": "https://localhost:8080/",
          "height": 302
        },
        "id": "QtsiynErdgI7",
        "outputId": "059eea45-a71b-49a3-a2a8-6c2e6f96fd0e"
      },
      "outputs": [
        {
          "data": {
            "text/html": [
              "\n",
              "  <div id=\"df-7726973e-47f1-4cbd-bea4-319935444400\">\n",
              "    <div class=\"colab-df-container\">\n",
              "      <div>\n",
              "<style scoped>\n",
              "    .dataframe tbody tr th:only-of-type {\n",
              "        vertical-align: middle;\n",
              "    }\n",
              "\n",
              "    .dataframe tbody tr th {\n",
              "        vertical-align: top;\n",
              "    }\n",
              "\n",
              "    .dataframe thead th {\n",
              "        text-align: right;\n",
              "    }\n",
              "</style>\n",
              "<table border=\"1\" class=\"dataframe\">\n",
              "  <thead>\n",
              "    <tr style=\"text-align: right;\">\n",
              "      <th></th>\n",
              "      <th>countries_en</th>\n",
              "      <th>fat_100g</th>\n",
              "      <th>saturated-fat_100g</th>\n",
              "      <th>trans-fat_100g</th>\n",
              "      <th>ingredients_text</th>\n",
              "      <th>cholesterol_100g</th>\n",
              "      <th>carbohydrates_100g</th>\n",
              "      <th>sugars_100g</th>\n",
              "      <th>energy_100g</th>\n",
              "    </tr>\n",
              "  </thead>\n",
              "  <tbody>\n",
              "    <tr>\n",
              "      <th>0</th>\n",
              "      <td>France</td>\n",
              "      <td>NaN</td>\n",
              "      <td>NaN</td>\n",
              "      <td>NaN</td>\n",
              "      <td>None</td>\n",
              "      <td>NaN</td>\n",
              "      <td>NaN</td>\n",
              "      <td>NaN</td>\n",
              "      <td>NaN</td>\n",
              "    </tr>\n",
              "    <tr>\n",
              "      <th>1</th>\n",
              "      <td>Germany</td>\n",
              "      <td>2.0</td>\n",
              "      <td>2.00</td>\n",
              "      <td>NaN</td>\n",
              "      <td>None</td>\n",
              "      <td>NaN</td>\n",
              "      <td>65.000000</td>\n",
              "      <td>12.6</td>\n",
              "      <td>690.0</td>\n",
              "    </tr>\n",
              "    <tr>\n",
              "      <th>2</th>\n",
              "      <td>Spain</td>\n",
              "      <td>1.4</td>\n",
              "      <td>0.90</td>\n",
              "      <td>NaN</td>\n",
              "      <td>Leche semidesnatada, azucar 6.9%, leche desnat...</td>\n",
              "      <td>NaN</td>\n",
              "      <td>9.800000</td>\n",
              "      <td>9.8</td>\n",
              "      <td>NaN</td>\n",
              "    </tr>\n",
              "    <tr>\n",
              "      <th>3</th>\n",
              "      <td>France</td>\n",
              "      <td>0.2</td>\n",
              "      <td>0.10</td>\n",
              "      <td>NaN</td>\n",
              "      <td>None</td>\n",
              "      <td>NaN</td>\n",
              "      <td>3.900000</td>\n",
              "      <td>3.9</td>\n",
              "      <td>238.0</td>\n",
              "    </tr>\n",
              "    <tr>\n",
              "      <th>4</th>\n",
              "      <td>France</td>\n",
              "      <td>7.0</td>\n",
              "      <td>3.08</td>\n",
              "      <td>NaN</td>\n",
              "      <td>None</td>\n",
              "      <td>NaN</td>\n",
              "      <td>70.099998</td>\n",
              "      <td>15.0</td>\n",
              "      <td>1569.0</td>\n",
              "    </tr>\n",
              "  </tbody>\n",
              "</table>\n",
              "</div>\n",
              "      <button class=\"colab-df-convert\" onclick=\"convertToInteractive('df-7726973e-47f1-4cbd-bea4-319935444400')\"\n",
              "              title=\"Convert this dataframe to an interactive table.\"\n",
              "              style=\"display:none;\">\n",
              "        \n",
              "  <svg xmlns=\"http://www.w3.org/2000/svg\" height=\"24px\"viewBox=\"0 0 24 24\"\n",
              "       width=\"24px\">\n",
              "    <path d=\"M0 0h24v24H0V0z\" fill=\"none\"/>\n",
              "    <path d=\"M18.56 5.44l.94 2.06.94-2.06 2.06-.94-2.06-.94-.94-2.06-.94 2.06-2.06.94zm-11 1L8.5 8.5l.94-2.06 2.06-.94-2.06-.94L8.5 2.5l-.94 2.06-2.06.94zm10 10l.94 2.06.94-2.06 2.06-.94-2.06-.94-.94-2.06-.94 2.06-2.06.94z\"/><path d=\"M17.41 7.96l-1.37-1.37c-.4-.4-.92-.59-1.43-.59-.52 0-1.04.2-1.43.59L10.3 9.45l-7.72 7.72c-.78.78-.78 2.05 0 2.83L4 21.41c.39.39.9.59 1.41.59.51 0 1.02-.2 1.41-.59l7.78-7.78 2.81-2.81c.8-.78.8-2.07 0-2.86zM5.41 20L4 18.59l7.72-7.72 1.47 1.35L5.41 20z\"/>\n",
              "  </svg>\n",
              "      </button>\n",
              "      \n",
              "  <style>\n",
              "    .colab-df-container {\n",
              "      display:flex;\n",
              "      flex-wrap:wrap;\n",
              "      gap: 12px;\n",
              "    }\n",
              "\n",
              "    .colab-df-convert {\n",
              "      background-color: #E8F0FE;\n",
              "      border: none;\n",
              "      border-radius: 50%;\n",
              "      cursor: pointer;\n",
              "      display: none;\n",
              "      fill: #1967D2;\n",
              "      height: 32px;\n",
              "      padding: 0 0 0 0;\n",
              "      width: 32px;\n",
              "    }\n",
              "\n",
              "    .colab-df-convert:hover {\n",
              "      background-color: #E2EBFA;\n",
              "      box-shadow: 0px 1px 2px rgba(60, 64, 67, 0.3), 0px 1px 3px 1px rgba(60, 64, 67, 0.15);\n",
              "      fill: #174EA6;\n",
              "    }\n",
              "\n",
              "    [theme=dark] .colab-df-convert {\n",
              "      background-color: #3B4455;\n",
              "      fill: #D2E3FC;\n",
              "    }\n",
              "\n",
              "    [theme=dark] .colab-df-convert:hover {\n",
              "      background-color: #434B5C;\n",
              "      box-shadow: 0px 1px 3px 1px rgba(0, 0, 0, 0.15);\n",
              "      filter: drop-shadow(0px 1px 2px rgba(0, 0, 0, 0.3));\n",
              "      fill: #FFFFFF;\n",
              "    }\n",
              "  </style>\n",
              "\n",
              "      <script>\n",
              "        const buttonEl =\n",
              "          document.querySelector('#df-7726973e-47f1-4cbd-bea4-319935444400 button.colab-df-convert');\n",
              "        buttonEl.style.display =\n",
              "          google.colab.kernel.accessAllowed ? 'block' : 'none';\n",
              "\n",
              "        async function convertToInteractive(key) {\n",
              "          const element = document.querySelector('#df-7726973e-47f1-4cbd-bea4-319935444400');\n",
              "          const dataTable =\n",
              "            await google.colab.kernel.invokeFunction('convertToInteractive',\n",
              "                                                     [key], {});\n",
              "          if (!dataTable) return;\n",
              "\n",
              "          const docLinkHtml = 'Like what you see? Visit the ' +\n",
              "            '<a target=\"_blank\" href=https://colab.research.google.com/notebooks/data_table.ipynb>data table notebook</a>'\n",
              "            + ' to learn more about interactive tables.';\n",
              "          element.innerHTML = '';\n",
              "          dataTable['output_type'] = 'display_data';\n",
              "          await google.colab.output.renderOutput(dataTable, element);\n",
              "          const docLink = document.createElement('div');\n",
              "          docLink.innerHTML = docLinkHtml;\n",
              "          element.appendChild(docLink);\n",
              "        }\n",
              "      </script>\n",
              "    </div>\n",
              "  </div>\n",
              "  "
            ],
            "text/plain": [
              "  countries_en  fat_100g  saturated-fat_100g  trans-fat_100g  \\\n",
              "0       France       NaN                 NaN             NaN   \n",
              "1      Germany       2.0                2.00             NaN   \n",
              "2        Spain       1.4                0.90             NaN   \n",
              "3       France       0.2                0.10             NaN   \n",
              "4       France       7.0                3.08             NaN   \n",
              "\n",
              "                                    ingredients_text  cholesterol_100g  \\\n",
              "0                                               None               NaN   \n",
              "1                                               None               NaN   \n",
              "2  Leche semidesnatada, azucar 6.9%, leche desnat...               NaN   \n",
              "3                                               None               NaN   \n",
              "4                                               None               NaN   \n",
              "\n",
              "   carbohydrates_100g  sugars_100g  energy_100g  \n",
              "0                 NaN          NaN          NaN  \n",
              "1           65.000000         12.6        690.0  \n",
              "2            9.800000          9.8          NaN  \n",
              "3            3.900000          3.9        238.0  \n",
              "4           70.099998         15.0       1569.0  "
            ]
          },
          "execution_count": 22,
          "metadata": {},
          "output_type": "execute_result"
        }
      ],
      "source": [
        "df.head()"
      ]
    },
    {
      "cell_type": "code",
      "execution_count": null,
      "metadata": {
        "id": "2yMvoniidkQc"
      },
      "outputs": [],
      "source": [
        "percent_missing = df.isnull().sum() * 100 / len(df)\n",
        "missing_value_df = pd.DataFrame({'column_name': df.columns,\n",
        "                                 'percent_missing': percent_missing})"
      ]
    },
    {
      "cell_type": "code",
      "execution_count": null,
      "metadata": {
        "id": "TCa_4ih2eB0X"
      },
      "outputs": [],
      "source": [
        "sns.set(rc={'figure.figsize':(12,8)})"
      ]
    },
    {
      "cell_type": "code",
      "execution_count": null,
      "metadata": {
        "colab": {
          "base_uri": "https://localhost:8080/",
          "height": 606
        },
        "id": "9q2sw9AeeERk",
        "outputId": "e7f70bea-e946-4516-ddf2-850c572ee3e6"
      },
      "outputs": [
        {
          "data": {
            "image/png": "[encoded data removed]",
            "text/plain": [
              "<Figure size 864x576 with 1 Axes>"
            ]
          },
          "metadata": {},
          "output_type": "display_data"
        }
      ],
      "source": [
        "ax = sns.barplot(data=missing_value_df, x=\"column_name\", y=\"percent_missing\")\n",
        "ax.set(xlabel = \"Columns\", ylabel = \"Missing Percentage\")\n",
        "ax.tick_params(axis='x', rotation=90)"
      ]
    },
    {
      "cell_type": "code",
      "execution_count": null,
      "metadata": {
        "colab": {
          "base_uri": "https://localhost:8080/"
        },
        "id": "PsTEoaMeePrZ",
        "outputId": "1d6b82f1-37ab-42c1-d805-73cebd6707e7"
      },
      "outputs": [
        {
          "data": {
            "text/plain": [
              "countries_en           object\n",
              "fat_100g              float32\n",
              "saturated-fat_100g    float32\n",
              "trans-fat_100g        float32\n",
              "ingredients_text       object\n",
              "cholesterol_100g      float32\n",
              "carbohydrates_100g    float32\n",
              "sugars_100g           float32\n",
              "energy_100g           float32\n",
              "dtype: object"
            ]
          },
          "execution_count": 26,
          "metadata": {},
          "output_type": "execute_result"
        }
      ],
      "source": [
        "df.dtypes"
      ]
    },
    {
      "cell_type": "code",
      "execution_count": null,
      "metadata": {
        "colab": {
          "base_uri": "https://localhost:8080/",
          "height": 520
        },
        "id": "Mv0walZ5eGp8",
        "outputId": "1a6ab757-98a6-4e05-a548-ac32507d57f3"
      },
      "outputs": [
        {
          "data": {
            "text/plain": [
              "[(-10.0, 65.0)]"
            ]
          },
          "execution_count": 27,
          "metadata": {},
          "output_type": "execute_result"
        },
        {
          "data": {
            "image/png": "[encoded data removed]",
            "text/plain": [
              "<Figure size 864x576 with 1 Axes>"
            ]
          },
          "metadata": {},
          "output_type": "display_data"
        }
      ],
      "source": [
        "# Using boxplot to visulaize the distribution of fat_100g by country\n",
        "ax = sns.boxplot(x='countries_en', y='fat_100g', data=df)\n",
        "ax.set(ylim=(-10, 65))"
      ]
    },
    {
      "cell_type": "markdown",
      "metadata": {
        "id": "BiBiOYXHfz9R"
      },
      "source": [
        "This is an interesting trend that US has one of the lowest median fat level per 100gms of food and US is still known as one of the most obese nations. While doing some literature search, I found that this trend has been already documented. For example this research mentioned this trend(Wansink, B., & Chandon, P. (2006). Can “Low-Fat” Nutrition Labels Lead to Obesity? Journal of Marketing Research, 43(4), 605–617. https://doi.org/10.1509/jmkr.43.4.605) ."
      ]
    },
    {
      "cell_type": "code",
      "execution_count": null,
      "metadata": {
        "colab": {
          "base_uri": "https://localhost:8080/",
          "height": 524
        },
        "id": "BagmTObgeKG7",
        "outputId": "6932002e-104c-4d51-83ab-003d3e9b10e5"
      },
      "outputs": [
        {
          "data": {
            "text/plain": [
              "[(-1.0, 20.0)]"
            ]
          },
          "execution_count": 29,
          "metadata": {},
          "output_type": "execute_result"
        },
        {
          "data": {
            "image/png": "[encoded data removed]",
            "text/plain": [
              "<Figure size 864x576 with 1 Axes>"
            ]
          },
          "metadata": {},
          "output_type": "display_data"
        }
      ],
      "source": [
        "# Using boxplot to visulaize the distribution of fat_100g by country\n",
        "ax = sns.boxplot(x='countries_en', y='saturated-fat_100g', data=df)\n",
        "ax.set(ylim=(-1, 20))"
      ]
    },
    {
      "cell_type": "markdown",
      "metadata": {
        "id": "IPzacSpcf-FQ"
      },
      "source": [
        "## 2.5 Top 10 Countries with almond containing products"
      ]
    },
    {
      "cell_type": "markdown",
      "source": [
        "While discussion with some families, it was interesting to learn abount Almost industry in the USA. I was curious to explore what proportion od US products contain almonds and how does it compare with other europeon countries."
      ],
      "metadata": {
        "id": "KwgAq0o8oXou"
      }
    },
    {
      "cell_type": "markdown",
      "metadata": {
        "id": "0HAXOko6gCrN"
      },
      "source": [
        "Caution: Ingredient text is highly missing (~70%) in data so please interpret the results carefully."
      ]
    },
    {
      "cell_type": "code",
      "execution_count": null,
      "metadata": {
        "id": "W8S_xUqAf4AX"
      },
      "outputs": [],
      "source": [
        "df['has_almonds'] = df.ingredients_text.str.contains('almond', case = False)"
      ]
    },
    {
      "cell_type": "code",
      "execution_count": null,
      "metadata": {
        "colab": {
          "base_uri": "https://localhost:8080/",
          "height": 538
        },
        "id": "mSS6pzMzgM7c",
        "outputId": "90d0b981-9b43-4278-e70c-f03269f36c33"
      },
      "outputs": [
        {
          "data": {
            "text/plain": [
              "[Text(0, 0.5, 'Percentage of Products Contain Almonds'),\n",
              " Text(0.5, 0, 'Countries')]"
            ]
          },
          "execution_count": 31,
          "metadata": {},
          "output_type": "execute_result"
        },
        {
          "data": {
            "image/png": "[encoded data removed]",
            "text/plain": [
              "<Figure size 864x576 with 1 Axes>"
            ]
          },
          "metadata": {},
          "output_type": "display_data"
        }
      ],
      "source": [
        "df['has_almonds'].fillna(False, inplace=True)\n",
        "n_almonds = pd.DataFrame({'n_almonds' : df.groupby('countries_en')['has_almonds'].sum(), 'total' : df.groupby('countries_en')['has_almonds'].count()}).reset_index()\n",
        "n_almonds['pencentage_almonds'] = n_almonds['n_almonds']*100/n_almonds['total']\n",
        "ax = sns.barplot(data=n_almonds, x=\"countries_en\", y=\"pencentage_almonds\")\n",
        "ax.set(xlabel = \"Countries\", ylabel = \"Percentage of Products Contain Almonds\")"
      ]
    },
    {
      "cell_type": "markdown",
      "metadata": {
        "id": "h9a9qJ5dgTkA"
      },
      "source": [
        "Given the high missingness, I wont try to over-interpret the results. However, if we assume that missingness is totally random, we can state that US has highes proportion of products with almonds. \n",
        "\n",
        "Interpretation of US data: About 2.75% of all products in this database in USA contain Almonds.\n",
        "\n",
        "*Please note that the y axis is in percentage. So there is not no need to normalize the data*. "
      ]
    },
    {
      "cell_type": "markdown",
      "metadata": {
        "id": "YxH0mFVYgXX0"
      },
      "source": [
        "### Modeling / Machine Learning (Raman)"
      ]
    },
    {
      "cell_type": "markdown",
      "metadata": {
        "id": "LWN1GSUkgwSc"
      },
      "source": [
        "Next we will try to find food clusters based on energy (calories), fats, carbohydrates, cholesterol, and sugars. I selected these variables because the general percention is that these variables are most closely associated obesity.\n",
        "\n",
        "However, we noticed that trans fat and cholesterol variables are highly missing (>80) so we will not be able to use these variables."
      ]
    },
    {
      "cell_type": "markdown",
      "metadata": {
        "id": "-1mH6P5Qgz7P"
      },
      "source": [
        "#### Missing data handling"
      ]
    },
    {
      "cell_type": "code",
      "execution_count": null,
      "metadata": {
        "id": "4_Z-XafSgajX"
      },
      "outputs": [],
      "source": [
        "km_df = df[['fat_100g', \n",
        "                   'saturated-fat_100g', \n",
        "          'carbohydrates_100g', \n",
        "                   'sugars_100g',\n",
        "                  'energy_100g']]"
      ]
    },
    {
      "cell_type": "code",
      "execution_count": null,
      "metadata": {
        "colab": {
          "base_uri": "https://localhost:8080/"
        },
        "id": "AflAodJkgPzT",
        "outputId": "5f310a08-c154-4fb6-e4be-9a16eabedeb4"
      },
      "outputs": [
        {
          "data": {
            "text/plain": [
              "(2074985, 5)"
            ]
          },
          "execution_count": 49,
          "metadata": {},
          "output_type": "execute_result"
        }
      ],
      "source": [
        "km_df.shape"
      ]
    },
    {
      "cell_type": "code",
      "execution_count": null,
      "metadata": {
        "id": "_ePPxpXVkUSF"
      },
      "outputs": [],
      "source": [
        "percent_missing = km_df.isnull().sum() * 100 / len(df)\n",
        "missing_value_df = pd.DataFrame({'column_name': km_df.columns,\n",
        "                                 'percent_missing': percent_missing})"
      ]
    },
    {
      "cell_type": "code",
      "execution_count": null,
      "metadata": {
        "colab": {
          "base_uri": "https://localhost:8080/",
          "height": 206
        },
        "id": "PB-H88PBkiib",
        "outputId": "b227f89c-eb8e-4aa9-f7b9-f9e1e4388e71"
      },
      "outputs": [
        {
          "data": {
            "text/html": [
              "\n",
              "  <div id=\"df-1086ea15-bf32-4f09-ac34-d5ec3e4eb850\">\n",
              "    <div class=\"colab-df-container\">\n",
              "      <div>\n",
              "<style scoped>\n",
              "    .dataframe tbody tr th:only-of-type {\n",
              "        vertical-align: middle;\n",
              "    }\n",
              "\n",
              "    .dataframe tbody tr th {\n",
              "        vertical-align: top;\n",
              "    }\n",
              "\n",
              "    .dataframe thead th {\n",
              "        text-align: right;\n",
              "    }\n",
              "</style>\n",
              "<table border=\"1\" class=\"dataframe\">\n",
              "  <thead>\n",
              "    <tr style=\"text-align: right;\">\n",
              "      <th></th>\n",
              "      <th>column_name</th>\n",
              "      <th>percent_missing</th>\n",
              "    </tr>\n",
              "  </thead>\n",
              "  <tbody>\n",
              "    <tr>\n",
              "      <th>fat_100g</th>\n",
              "      <td>fat_100g</td>\n",
              "      <td>17.635742</td>\n",
              "    </tr>\n",
              "    <tr>\n",
              "      <th>saturated-fat_100g</th>\n",
              "      <td>saturated-fat_100g</td>\n",
              "      <td>18.810353</td>\n",
              "    </tr>\n",
              "    <tr>\n",
              "      <th>carbohydrates_100g</th>\n",
              "      <td>carbohydrates_100g</td>\n",
              "      <td>17.632995</td>\n",
              "    </tr>\n",
              "    <tr>\n",
              "      <th>sugars_100g</th>\n",
              "      <td>sugars_100g</td>\n",
              "      <td>17.691260</td>\n",
              "    </tr>\n",
              "    <tr>\n",
              "      <th>energy_100g</th>\n",
              "      <td>energy_100g</td>\n",
              "      <td>17.232462</td>\n",
              "    </tr>\n",
              "  </tbody>\n",
              "</table>\n",
              "</div>\n",
              "      <button class=\"colab-df-convert\" onclick=\"convertToInteractive('df-1086ea15-bf32-4f09-ac34-d5ec3e4eb850')\"\n",
              "              title=\"Convert this dataframe to an interactive table.\"\n",
              "              style=\"display:none;\">\n",
              "        \n",
              "  <svg xmlns=\"http://www.w3.org/2000/svg\" height=\"24px\"viewBox=\"0 0 24 24\"\n",
              "       width=\"24px\">\n",
              "    <path d=\"M0 0h24v24H0V0z\" fill=\"none\"/>\n",
              "    <path d=\"M18.56 5.44l.94 2.06.94-2.06 2.06-.94-2.06-.94-.94-2.06-.94 2.06-2.06.94zm-11 1L8.5 8.5l.94-2.06 2.06-.94-2.06-.94L8.5 2.5l-.94 2.06-2.06.94zm10 10l.94 2.06.94-2.06 2.06-.94-2.06-.94-.94-2.06-.94 2.06-2.06.94z\"/><path d=\"M17.41 7.96l-1.37-1.37c-.4-.4-.92-.59-1.43-.59-.52 0-1.04.2-1.43.59L10.3 9.45l-7.72 7.72c-.78.78-.78 2.05 0 2.83L4 21.41c.39.39.9.59 1.41.59.51 0 1.02-.2 1.41-.59l7.78-7.78 2.81-2.81c.8-.78.8-2.07 0-2.86zM5.41 20L4 18.59l7.72-7.72 1.47 1.35L5.41 20z\"/>\n",
              "  </svg>\n",
              "      </button>\n",
              "      \n",
              "  <style>\n",
              "    .colab-df-container {\n",
              "      display:flex;\n",
              "      flex-wrap:wrap;\n",
              "      gap: 12px;\n",
              "    }\n",
              "\n",
              "    .colab-df-convert {\n",
              "      background-color: #E8F0FE;\n",
              "      border: none;\n",
              "      border-radius: 50%;\n",
              "      cursor: pointer;\n",
              "      display: none;\n",
              "      fill: #1967D2;\n",
              "      height: 32px;\n",
              "      padding: 0 0 0 0;\n",
              "      width: 32px;\n",
              "    }\n",
              "\n",
              "    .colab-df-convert:hover {\n",
              "      background-color: #E2EBFA;\n",
              "      box-shadow: 0px 1px 2px rgba(60, 64, 67, 0.3), 0px 1px 3px 1px rgba(60, 64, 67, 0.15);\n",
              "      fill: #174EA6;\n",
              "    }\n",
              "\n",
              "    [theme=dark] .colab-df-convert {\n",
              "      background-color: #3B4455;\n",
              "      fill: #D2E3FC;\n",
              "    }\n",
              "\n",
              "    [theme=dark] .colab-df-convert:hover {\n",
              "      background-color: #434B5C;\n",
              "      box-shadow: 0px 1px 3px 1px rgba(0, 0, 0, 0.15);\n",
              "      filter: drop-shadow(0px 1px 2px rgba(0, 0, 0, 0.3));\n",
              "      fill: #FFFFFF;\n",
              "    }\n",
              "  </style>\n",
              "\n",
              "      <script>\n",
              "        const buttonEl =\n",
              "          document.querySelector('#df-1086ea15-bf32-4f09-ac34-d5ec3e4eb850 button.colab-df-convert');\n",
              "        buttonEl.style.display =\n",
              "          google.colab.kernel.accessAllowed ? 'block' : 'none';\n",
              "\n",
              "        async function convertToInteractive(key) {\n",
              "          const element = document.querySelector('#df-1086ea15-bf32-4f09-ac34-d5ec3e4eb850');\n",
              "          const dataTable =\n",
              "            await google.colab.kernel.invokeFunction('convertToInteractive',\n",
              "                                                     [key], {});\n",
              "          if (!dataTable) return;\n",
              "\n",
              "          const docLinkHtml = 'Like what you see? Visit the ' +\n",
              "            '<a target=\"_blank\" href=https://colab.research.google.com/notebooks/data_table.ipynb>data table notebook</a>'\n",
              "            + ' to learn more about interactive tables.';\n",
              "          element.innerHTML = '';\n",
              "          dataTable['output_type'] = 'display_data';\n",
              "          await google.colab.output.renderOutput(dataTable, element);\n",
              "          const docLink = document.createElement('div');\n",
              "          docLink.innerHTML = docLinkHtml;\n",
              "          element.appendChild(docLink);\n",
              "        }\n",
              "      </script>\n",
              "    </div>\n",
              "  </div>\n",
              "  "
            ],
            "text/plain": [
              "                           column_name  percent_missing\n",
              "fat_100g                      fat_100g        17.635742\n",
              "saturated-fat_100g  saturated-fat_100g        18.810353\n",
              "carbohydrates_100g  carbohydrates_100g        17.632995\n",
              "sugars_100g                sugars_100g        17.691260\n",
              "energy_100g                energy_100g        17.232462"
            ]
          },
          "execution_count": 52,
          "metadata": {},
          "output_type": "execute_result"
        }
      ],
      "source": [
        "missing_value_df"
      ]
    },
    {
      "cell_type": "markdown",
      "metadata": {
        "id": "zG3e4LJRkmAz"
      },
      "source": [
        "Missingness is around 20% in remaining variables\n",
        "\n",
        "Lets remove records with missing values\n"
      ]
    },
    {
      "cell_type": "code",
      "execution_count": null,
      "metadata": {
        "colab": {
          "base_uri": "https://localhost:8080/"
        },
        "id": "llm2zWXukWX4",
        "outputId": "165011fd-80c4-43df-88bf-018c00b029a7"
      },
      "outputs": [
        {
          "name": "stderr",
          "output_type": "stream",
          "text": [
            "/usr/local/lib/python3.8/dist-packages/pandas/util/_decorators.py:311: SettingWithCopyWarning: \n",
            "A value is trying to be set on a copy of a slice from a DataFrame\n",
            "\n",
            "See the caveats in the documentation: https://pandas.pydata.org/pandas-docs/stable/user_guide/indexing.html#returning-a-view-versus-a-copy\n",
            "  return func(*args, **kwargs)\n"
          ]
        }
      ],
      "source": [
        "km_df.dropna(inplace = True)"
      ]
    },
    {
      "cell_type": "code",
      "execution_count": null,
      "metadata": {
        "colab": {
          "base_uri": "https://localhost:8080/",
          "height": 424
        },
        "id": "09FR1QZTkqp3",
        "outputId": "d499cfb6-ea18-4225-e8db-3ea129fbee48"
      },
      "outputs": [
        {
          "data": {
            "text/html": [
              "\n",
              "  <div id=\"df-2cf6ea27-4c74-431d-a644-6519b69e14bf\">\n",
              "    <div class=\"colab-df-container\">\n",
              "      <div>\n",
              "<style scoped>\n",
              "    .dataframe tbody tr th:only-of-type {\n",
              "        vertical-align: middle;\n",
              "    }\n",
              "\n",
              "    .dataframe tbody tr th {\n",
              "        vertical-align: top;\n",
              "    }\n",
              "\n",
              "    .dataframe thead th {\n",
              "        text-align: right;\n",
              "    }\n",
              "</style>\n",
              "<table border=\"1\" class=\"dataframe\">\n",
              "  <thead>\n",
              "    <tr style=\"text-align: right;\">\n",
              "      <th></th>\n",
              "      <th>fat_100g</th>\n",
              "      <th>saturated-fat_100g</th>\n",
              "      <th>carbohydrates_100g</th>\n",
              "      <th>sugars_100g</th>\n",
              "      <th>energy_100g</th>\n",
              "    </tr>\n",
              "  </thead>\n",
              "  <tbody>\n",
              "    <tr>\n",
              "      <th>1</th>\n",
              "      <td>2.000000</td>\n",
              "      <td>2.00</td>\n",
              "      <td>65.000000</td>\n",
              "      <td>12.60</td>\n",
              "      <td>690.0</td>\n",
              "    </tr>\n",
              "    <tr>\n",
              "      <th>3</th>\n",
              "      <td>0.200000</td>\n",
              "      <td>0.10</td>\n",
              "      <td>3.900000</td>\n",
              "      <td>3.90</td>\n",
              "      <td>238.0</td>\n",
              "    </tr>\n",
              "    <tr>\n",
              "      <th>4</th>\n",
              "      <td>7.000000</td>\n",
              "      <td>3.08</td>\n",
              "      <td>70.099998</td>\n",
              "      <td>15.00</td>\n",
              "      <td>1569.0</td>\n",
              "    </tr>\n",
              "    <tr>\n",
              "      <th>7</th>\n",
              "      <td>11.000000</td>\n",
              "      <td>3.90</td>\n",
              "      <td>5.700000</td>\n",
              "      <td>0.05</td>\n",
              "      <td>812.0</td>\n",
              "    </tr>\n",
              "    <tr>\n",
              "      <th>8</th>\n",
              "      <td>15.100000</td>\n",
              "      <td>6.10</td>\n",
              "      <td>2.600000</td>\n",
              "      <td>1.00</td>\n",
              "      <td>3661.0</td>\n",
              "    </tr>\n",
              "    <tr>\n",
              "      <th>...</th>\n",
              "      <td>...</td>\n",
              "      <td>...</td>\n",
              "      <td>...</td>\n",
              "      <td>...</td>\n",
              "      <td>...</td>\n",
              "    </tr>\n",
              "    <tr>\n",
              "      <th>2074975</th>\n",
              "      <td>20.200001</td>\n",
              "      <td>6.00</td>\n",
              "      <td>30.900000</td>\n",
              "      <td>10.40</td>\n",
              "      <td>1393.0</td>\n",
              "    </tr>\n",
              "    <tr>\n",
              "      <th>2074977</th>\n",
              "      <td>7.600000</td>\n",
              "      <td>4.80</td>\n",
              "      <td>35.000000</td>\n",
              "      <td>24.00</td>\n",
              "      <td>925.0</td>\n",
              "    </tr>\n",
              "    <tr>\n",
              "      <th>2074978</th>\n",
              "      <td>5.000000</td>\n",
              "      <td>2.30</td>\n",
              "      <td>0.000000</td>\n",
              "      <td>0.00</td>\n",
              "      <td>548.0</td>\n",
              "    </tr>\n",
              "    <tr>\n",
              "      <th>2074981</th>\n",
              "      <td>0.300000</td>\n",
              "      <td>0.00</td>\n",
              "      <td>2.400000</td>\n",
              "      <td>0.60</td>\n",
              "      <td>100.0</td>\n",
              "    </tr>\n",
              "    <tr>\n",
              "      <th>2074983</th>\n",
              "      <td>28.000000</td>\n",
              "      <td>13.00</td>\n",
              "      <td>70.000000</td>\n",
              "      <td>49.00</td>\n",
              "      <td>100.0</td>\n",
              "    </tr>\n",
              "  </tbody>\n",
              "</table>\n",
              "<p>1650023 rows × 5 columns</p>\n",
              "</div>\n",
              "      <button class=\"colab-df-convert\" onclick=\"convertToInteractive('df-2cf6ea27-4c74-431d-a644-6519b69e14bf')\"\n",
              "              title=\"Convert this dataframe to an interactive table.\"\n",
              "              style=\"display:none;\">\n",
              "        \n",
              "  <svg xmlns=\"http://www.w3.org/2000/svg\" height=\"24px\"viewBox=\"0 0 24 24\"\n",
              "       width=\"24px\">\n",
              "    <path d=\"M0 0h24v24H0V0z\" fill=\"none\"/>\n",
              "    <path d=\"M18.56 5.44l.94 2.06.94-2.06 2.06-.94-2.06-.94-.94-2.06-.94 2.06-2.06.94zm-11 1L8.5 8.5l.94-2.06 2.06-.94-2.06-.94L8.5 2.5l-.94 2.06-2.06.94zm10 10l.94 2.06.94-2.06 2.06-.94-2.06-.94-.94-2.06-.94 2.06-2.06.94z\"/><path d=\"M17.41 7.96l-1.37-1.37c-.4-.4-.92-.59-1.43-.59-.52 0-1.04.2-1.43.59L10.3 9.45l-7.72 7.72c-.78.78-.78 2.05 0 2.83L4 21.41c.39.39.9.59 1.41.59.51 0 1.02-.2 1.41-.59l7.78-7.78 2.81-2.81c.8-.78.8-2.07 0-2.86zM5.41 20L4 18.59l7.72-7.72 1.47 1.35L5.41 20z\"/>\n",
              "  </svg>\n",
              "      </button>\n",
              "      \n",
              "  <style>\n",
              "    .colab-df-container {\n",
              "      display:flex;\n",
              "      flex-wrap:wrap;\n",
              "      gap: 12px;\n",
              "    }\n",
              "\n",
              "    .colab-df-convert {\n",
              "      background-color: #E8F0FE;\n",
              "      border: none;\n",
              "      border-radius: 50%;\n",
              "      cursor: pointer;\n",
              "      display: none;\n",
              "      fill: #1967D2;\n",
              "      height: 32px;\n",
              "      padding: 0 0 0 0;\n",
              "      width: 32px;\n",
              "    }\n",
              "\n",
              "    .colab-df-convert:hover {\n",
              "      background-color: #E2EBFA;\n",
              "      box-shadow: 0px 1px 2px rgba(60, 64, 67, 0.3), 0px 1px 3px 1px rgba(60, 64, 67, 0.15);\n",
              "      fill: #174EA6;\n",
              "    }\n",
              "\n",
              "    [theme=dark] .colab-df-convert {\n",
              "      background-color: #3B4455;\n",
              "      fill: #D2E3FC;\n",
              "    }\n",
              "\n",
              "    [theme=dark] .colab-df-convert:hover {\n",
              "      background-color: #434B5C;\n",
              "      box-shadow: 0px 1px 3px 1px rgba(0, 0, 0, 0.15);\n",
              "      filter: drop-shadow(0px 1px 2px rgba(0, 0, 0, 0.3));\n",
              "      fill: #FFFFFF;\n",
              "    }\n",
              "  </style>\n",
              "\n",
              "      <script>\n",
              "        const buttonEl =\n",
              "          document.querySelector('#df-2cf6ea27-4c74-431d-a644-6519b69e14bf button.colab-df-convert');\n",
              "        buttonEl.style.display =\n",
              "          google.colab.kernel.accessAllowed ? 'block' : 'none';\n",
              "\n",
              "        async function convertToInteractive(key) {\n",
              "          const element = document.querySelector('#df-2cf6ea27-4c74-431d-a644-6519b69e14bf');\n",
              "          const dataTable =\n",
              "            await google.colab.kernel.invokeFunction('convertToInteractive',\n",
              "                                                     [key], {});\n",
              "          if (!dataTable) return;\n",
              "\n",
              "          const docLinkHtml = 'Like what you see? Visit the ' +\n",
              "            '<a target=\"_blank\" href=https://colab.research.google.com/notebooks/data_table.ipynb>data table notebook</a>'\n",
              "            + ' to learn more about interactive tables.';\n",
              "          element.innerHTML = '';\n",
              "          dataTable['output_type'] = 'display_data';\n",
              "          await google.colab.output.renderOutput(dataTable, element);\n",
              "          const docLink = document.createElement('div');\n",
              "          docLink.innerHTML = docLinkHtml;\n",
              "          element.appendChild(docLink);\n",
              "        }\n",
              "      </script>\n",
              "    </div>\n",
              "  </div>\n",
              "  "
            ],
            "text/plain": [
              "          fat_100g  saturated-fat_100g  carbohydrates_100g  sugars_100g  \\\n",
              "1         2.000000                2.00           65.000000        12.60   \n",
              "3         0.200000                0.10            3.900000         3.90   \n",
              "4         7.000000                3.08           70.099998        15.00   \n",
              "7        11.000000                3.90            5.700000         0.05   \n",
              "8        15.100000                6.10            2.600000         1.00   \n",
              "...            ...                 ...                 ...          ...   \n",
              "2074975  20.200001                6.00           30.900000        10.40   \n",
              "2074977   7.600000                4.80           35.000000        24.00   \n",
              "2074978   5.000000                2.30            0.000000         0.00   \n",
              "2074981   0.300000                0.00            2.400000         0.60   \n",
              "2074983  28.000000               13.00           70.000000        49.00   \n",
              "\n",
              "         energy_100g  \n",
              "1              690.0  \n",
              "3              238.0  \n",
              "4             1569.0  \n",
              "7              812.0  \n",
              "8             3661.0  \n",
              "...              ...  \n",
              "2074975       1393.0  \n",
              "2074977        925.0  \n",
              "2074978        548.0  \n",
              "2074981        100.0  \n",
              "2074983        100.0  \n",
              "\n",
              "[1650023 rows x 5 columns]"
            ]
          },
          "execution_count": 54,
          "metadata": {},
          "output_type": "execute_result"
        }
      ],
      "source": [
        "km_df"
      ]
    },
    {
      "cell_type": "markdown",
      "metadata": {
        "id": "zOMYaQVRkz4n"
      },
      "source": [
        "We lost ~20% of data which is manageable.\n",
        "\n",
        "Let see if we have any highly correlated variables"
      ]
    },
    {
      "cell_type": "code",
      "execution_count": null,
      "metadata": {
        "colab": {
          "base_uri": "https://localhost:8080/",
          "height": 206
        },
        "id": "g-8zX6x1kv7z",
        "outputId": "aac0fe56-5ed9-4f6b-e507-ac4bf4defc83"
      },
      "outputs": [
        {
          "data": {
            "text/html": [
              "\n",
              "  <div id=\"df-a4def85b-5b4a-4753-afff-36f968d807a8\">\n",
              "    <div class=\"colab-df-container\">\n",
              "      <div>\n",
              "<style scoped>\n",
              "    .dataframe tbody tr th:only-of-type {\n",
              "        vertical-align: middle;\n",
              "    }\n",
              "\n",
              "    .dataframe tbody tr th {\n",
              "        vertical-align: top;\n",
              "    }\n",
              "\n",
              "    .dataframe thead th {\n",
              "        text-align: right;\n",
              "    }\n",
              "</style>\n",
              "<table border=\"1\" class=\"dataframe\">\n",
              "  <thead>\n",
              "    <tr style=\"text-align: right;\">\n",
              "      <th></th>\n",
              "      <th>fat_100g</th>\n",
              "      <th>saturated-fat_100g</th>\n",
              "      <th>carbohydrates_100g</th>\n",
              "      <th>sugars_100g</th>\n",
              "      <th>energy_100g</th>\n",
              "    </tr>\n",
              "  </thead>\n",
              "  <tbody>\n",
              "    <tr>\n",
              "      <th>fat_100g</th>\n",
              "      <td>1.000000</td>\n",
              "      <td>0.413452</td>\n",
              "      <td>4.943116e-01</td>\n",
              "      <td>0.494284</td>\n",
              "      <td>5.485886e-03</td>\n",
              "    </tr>\n",
              "    <tr>\n",
              "      <th>saturated-fat_100g</th>\n",
              "      <td>0.413452</td>\n",
              "      <td>1.000000</td>\n",
              "      <td>6.219806e-01</td>\n",
              "      <td>0.620926</td>\n",
              "      <td>7.064182e-04</td>\n",
              "    </tr>\n",
              "    <tr>\n",
              "      <th>carbohydrates_100g</th>\n",
              "      <td>0.494312</td>\n",
              "      <td>0.621981</td>\n",
              "      <td>1.000000e+00</td>\n",
              "      <td>0.999998</td>\n",
              "      <td>8.932304e-07</td>\n",
              "    </tr>\n",
              "    <tr>\n",
              "      <th>sugars_100g</th>\n",
              "      <td>0.494284</td>\n",
              "      <td>0.620926</td>\n",
              "      <td>9.999982e-01</td>\n",
              "      <td>1.000000</td>\n",
              "      <td>3.028139e-06</td>\n",
              "    </tr>\n",
              "    <tr>\n",
              "      <th>energy_100g</th>\n",
              "      <td>0.005486</td>\n",
              "      <td>0.000706</td>\n",
              "      <td>8.932304e-07</td>\n",
              "      <td>0.000003</td>\n",
              "      <td>1.000000e+00</td>\n",
              "    </tr>\n",
              "  </tbody>\n",
              "</table>\n",
              "</div>\n",
              "      <button class=\"colab-df-convert\" onclick=\"convertToInteractive('df-a4def85b-5b4a-4753-afff-36f968d807a8')\"\n",
              "              title=\"Convert this dataframe to an interactive table.\"\n",
              "              style=\"display:none;\">\n",
              "        \n",
              "  <svg xmlns=\"http://www.w3.org/2000/svg\" height=\"24px\"viewBox=\"0 0 24 24\"\n",
              "       width=\"24px\">\n",
              "    <path d=\"M0 0h24v24H0V0z\" fill=\"none\"/>\n",
              "    <path d=\"M18.56 5.44l.94 2.06.94-2.06 2.06-.94-2.06-.94-.94-2.06-.94 2.06-2.06.94zm-11 1L8.5 8.5l.94-2.06 2.06-.94-2.06-.94L8.5 2.5l-.94 2.06-2.06.94zm10 10l.94 2.06.94-2.06 2.06-.94-2.06-.94-.94-2.06-.94 2.06-2.06.94z\"/><path d=\"M17.41 7.96l-1.37-1.37c-.4-.4-.92-.59-1.43-.59-.52 0-1.04.2-1.43.59L10.3 9.45l-7.72 7.72c-.78.78-.78 2.05 0 2.83L4 21.41c.39.39.9.59 1.41.59.51 0 1.02-.2 1.41-.59l7.78-7.78 2.81-2.81c.8-.78.8-2.07 0-2.86zM5.41 20L4 18.59l7.72-7.72 1.47 1.35L5.41 20z\"/>\n",
              "  </svg>\n",
              "      </button>\n",
              "      \n",
              "  <style>\n",
              "    .colab-df-container {\n",
              "      display:flex;\n",
              "      flex-wrap:wrap;\n",
              "      gap: 12px;\n",
              "    }\n",
              "\n",
              "    .colab-df-convert {\n",
              "      background-color: #E8F0FE;\n",
              "      border: none;\n",
              "      border-radius: 50%;\n",
              "      cursor: pointer;\n",
              "      display: none;\n",
              "      fill: #1967D2;\n",
              "      height: 32px;\n",
              "      padding: 0 0 0 0;\n",
              "      width: 32px;\n",
              "    }\n",
              "\n",
              "    .colab-df-convert:hover {\n",
              "      background-color: #E2EBFA;\n",
              "      box-shadow: 0px 1px 2px rgba(60, 64, 67, 0.3), 0px 1px 3px 1px rgba(60, 64, 67, 0.15);\n",
              "      fill: #174EA6;\n",
              "    }\n",
              "\n",
              "    [theme=dark] .colab-df-convert {\n",
              "      background-color: #3B4455;\n",
              "      fill: #D2E3FC;\n",
              "    }\n",
              "\n",
              "    [theme=dark] .colab-df-convert:hover {\n",
              "      background-color: #434B5C;\n",
              "      box-shadow: 0px 1px 3px 1px rgba(0, 0, 0, 0.15);\n",
              "      filter: drop-shadow(0px 1px 2px rgba(0, 0, 0, 0.3));\n",
              "      fill: #FFFFFF;\n",
              "    }\n",
              "  </style>\n",
              "\n",
              "      <script>\n",
              "        const buttonEl =\n",
              "          document.querySelector('#df-a4def85b-5b4a-4753-afff-36f968d807a8 button.colab-df-convert');\n",
              "        buttonEl.style.display =\n",
              "          google.colab.kernel.accessAllowed ? 'block' : 'none';\n",
              "\n",
              "        async function convertToInteractive(key) {\n",
              "          const element = document.querySelector('#df-a4def85b-5b4a-4753-afff-36f968d807a8');\n",
              "          const dataTable =\n",
              "            await google.colab.kernel.invokeFunction('convertToInteractive',\n",
              "                                                     [key], {});\n",
              "          if (!dataTable) return;\n",
              "\n",
              "          const docLinkHtml = 'Like what you see? Visit the ' +\n",
              "            '<a target=\"_blank\" href=https://colab.research.google.com/notebooks/data_table.ipynb>data table notebook</a>'\n",
              "            + ' to learn more about interactive tables.';\n",
              "          element.innerHTML = '';\n",
              "          dataTable['output_type'] = 'display_data';\n",
              "          await google.colab.output.renderOutput(dataTable, element);\n",
              "          const docLink = document.createElement('div');\n",
              "          docLink.innerHTML = docLinkHtml;\n",
              "          element.appendChild(docLink);\n",
              "        }\n",
              "      </script>\n",
              "    </div>\n",
              "  </div>\n",
              "  "
            ],
            "text/plain": [
              "                    fat_100g  saturated-fat_100g  carbohydrates_100g  \\\n",
              "fat_100g            1.000000            0.413452        4.943116e-01   \n",
              "saturated-fat_100g  0.413452            1.000000        6.219806e-01   \n",
              "carbohydrates_100g  0.494312            0.621981        1.000000e+00   \n",
              "sugars_100g         0.494284            0.620926        9.999982e-01   \n",
              "energy_100g         0.005486            0.000706        8.932304e-07   \n",
              "\n",
              "                    sugars_100g   energy_100g  \n",
              "fat_100g               0.494284  5.485886e-03  \n",
              "saturated-fat_100g     0.620926  7.064182e-04  \n",
              "carbohydrates_100g     0.999998  8.932304e-07  \n",
              "sugars_100g            1.000000  3.028139e-06  \n",
              "energy_100g            0.000003  1.000000e+00  "
            ]
          },
          "execution_count": 55,
          "metadata": {},
          "output_type": "execute_result"
        }
      ],
      "source": [
        "km_df.corr()"
      ]
    },
    {
      "cell_type": "code",
      "execution_count": null,
      "metadata": {
        "colab": {
          "base_uri": "https://localhost:8080/",
          "height": 611
        },
        "id": "W341xKQPk3Fk",
        "outputId": "e44a9ea2-c7bf-4864-f550-8defcc45f43d"
      },
      "outputs": [
        {
          "data": {
            "text/plain": [
              "<matplotlib.axes._subplots.AxesSubplot at 0x7f818d0f1790>"
            ]
          },
          "execution_count": 56,
          "metadata": {},
          "output_type": "execute_result"
        },
        {
          "data": {
            "image/png": "[encoded data removed]",
            "text/plain": [
              "<Figure size 864x576 with 2 Axes>"
            ]
          },
          "metadata": {},
          "output_type": "display_data"
        }
      ],
      "source": [
        "sns.heatmap(km_df.corr())"
      ]
    },
    {
      "cell_type": "markdown",
      "metadata": {
        "id": "yOBIWGhElNy1"
      },
      "source": [
        "I see energy is highly correlated with all variables, which makes sense. We can drop this variable."
      ]
    },
    {
      "cell_type": "code",
      "execution_count": null,
      "metadata": {
        "colab": {
          "base_uri": "https://localhost:8080/"
        },
        "id": "NzNkIX5uk53a",
        "outputId": "ba2785bb-2b5c-4f1b-a8a7-cd6fd134b201"
      },
      "outputs": [
        {
          "name": "stderr",
          "output_type": "stream",
          "text": [
            "/usr/local/lib/python3.8/dist-packages/pandas/core/frame.py:4906: SettingWithCopyWarning: \n",
            "A value is trying to be set on a copy of a slice from a DataFrame\n",
            "\n",
            "See the caveats in the documentation: https://pandas.pydata.org/pandas-docs/stable/user_guide/indexing.html#returning-a-view-versus-a-copy\n",
            "  return super().drop(\n"
          ]
        }
      ],
      "source": [
        "km_df.drop('energy_100g', axis = 1, inplace = True)"
      ]
    },
    {
      "cell_type": "markdown",
      "metadata": {
        "id": "QBEfm3NClUvo"
      },
      "source": [
        "KMeans is not a scale invariant model so we need to standardize our dataset"
      ]
    },
    {
      "cell_type": "code",
      "execution_count": null,
      "metadata": {
        "colab": {
          "base_uri": "https://localhost:8080/"
        },
        "id": "EfCIj4a4lRX0",
        "outputId": "fac176f9-2a6e-4bf0-ea32-26dced72b614"
      },
      "outputs": [
        {
          "name": "stderr",
          "output_type": "stream",
          "text": [
            "/usr/local/lib/python3.8/dist-packages/sklearn/preprocessing/_data.py:235: UserWarning: Numerical issues were encountered when centering the data and might not be solved. Dataset may contain too large values. You may need to prescale your features.\n",
            "  warnings.warn(\n",
            "/usr/local/lib/python3.8/dist-packages/sklearn/preprocessing/_data.py:254: UserWarning: Numerical issues were encountered when scaling the data and might not be solved. The standard deviation of the data is probably very close to 0. \n",
            "  warnings.warn(\n"
          ]
        }
      ],
      "source": [
        "from sklearn.preprocessing import scale\n",
        "X_scaled = scale(km_df)"
      ]
    },
    {
      "cell_type": "markdown",
      "metadata": {
        "id": "aIw9aHxBldzJ"
      },
      "source": [
        "First lets find out how many clusters best explain the data."
      ]
    },
    {
      "cell_type": "code",
      "execution_count": null,
      "metadata": {
        "id": "yXIc1rmclYhC"
      },
      "outputs": [],
      "source": [
        "from sklearn.cluster import KMeans\n",
        "ssd = []\n",
        "for k in range(1,11):\n",
        "    kmeans = KMeans(n_clusters = k, random_state = 42).fit(X_scaled)\n",
        "    ssd.append(kmeans.inertia_)"
      ]
    },
    {
      "cell_type": "code",
      "execution_count": null,
      "metadata": {
        "colab": {
          "base_uri": "https://localhost:8080/",
          "height": 514
        },
        "id": "K55m5ek0lc4g",
        "outputId": "2d439959-80d5-4fbc-a518-96195a78edd1"
      },
      "outputs": [
        {
          "data": {
            "text/plain": [
              "<matplotlib.axes._subplots.AxesSubplot at 0x7f8181eda6a0>"
            ]
          },
          "execution_count": 60,
          "metadata": {},
          "output_type": "execute_result"
        },
        {
          "data": {
            "image/png": "[encoded data removed]",
            "text/plain": [
              "<Figure size 864x576 with 1 Axes>"
            ]
          },
          "metadata": {},
          "output_type": "display_data"
        }
      ],
      "source": [
        "sns.pointplot(y = ssd, x = [1, 2, 3, 4, 5, 6, 7, 8, 9, 10])"
      ]
    },
    {
      "cell_type": "markdown",
      "metadata": {
        "id": "t2FLA2k8lpsl"
      },
      "source": [
        "Based on this plot and using the Elbow Method the best number of clusters to is 6"
      ]
    },
    {
      "cell_type": "code",
      "execution_count": null,
      "metadata": {
        "id": "P-iozRdmlm6a"
      },
      "outputs": [],
      "source": [
        "kmeans = KMeans(n_clusters = 6, random_state = 1).fit(X_scaled)"
      ]
    },
    {
      "cell_type": "code",
      "execution_count": null,
      "metadata": {
        "colab": {
          "base_uri": "https://localhost:8080/",
          "height": 485
        },
        "id": "j56ZDrvXltbH",
        "outputId": "e38d2c2f-2783-43dd-a14c-9e79d972c999"
      },
      "outputs": [
        {
          "data": {
            "image/png": "[encoded data removed]",
            "text/plain": [
              "<Figure size 864x576 with 1 Axes>"
            ]
          },
          "metadata": {},
          "output_type": "display_data"
        }
      ],
      "source": [
        "label = kmeans.fit_predict(X_scaled)\n",
        " \n",
        "u_labels = np.unique(label)\n",
        " \n",
        "for i in u_labels:\n",
        "    plt.scatter(X_scaled[label == i , 0] , X_scaled[label == i , 1] , label = i)\n",
        "plt.legend()\n",
        "plt.show()"
      ]
    },
    {
      "cell_type": "code",
      "execution_count": null,
      "metadata": {
        "colab": {
          "base_uri": "https://localhost:8080/",
          "height": 489
        },
        "id": "82ve8M-Nlvxd",
        "outputId": "d722a2b3-ed67-4590-f016-37d89559e9b0"
      },
      "outputs": [
        {
          "data": {
            "image/png": "[encoded data removed]",
            "text/plain": [
              "<Figure size 864x576 with 1 Axes>"
            ]
          },
          "metadata": {},
          "output_type": "display_data"
        }
      ],
      "source": [
        "for i in u_labels:\n",
        "    plt.scatter(X_scaled[label == i , 0] , X_scaled[label == i , 1] , label = i)\n",
        "plt.legend()\n",
        "plt.ylim((-50,300))\n",
        "plt.xlim((-50, 300))\n",
        "plt.show()"
      ]
    },
    {
      "cell_type": "code",
      "execution_count": null,
      "metadata": {
        "colab": {
          "base_uri": "https://localhost:8080/"
        },
        "id": "HUcJ8QXQmNrp",
        "outputId": "bdb888ac-deb7-4f7f-b13a-0ac58f3e14ba"
      },
      "outputs": [
        {
          "name": "stderr",
          "output_type": "stream",
          "text": [
            "<ipython-input-67-c8b8da4e10e1>:1: SettingWithCopyWarning: \n",
            "A value is trying to be set on a copy of a slice from a DataFrame.\n",
            "Try using .loc[row_indexer,col_indexer] = value instead\n",
            "\n",
            "See the caveats in the documentation: https://pandas.pydata.org/pandas-docs/stable/user_guide/indexing.html#returning-a-view-versus-a-copy\n",
            "  km_df['cluster'] = label\n"
          ]
        }
      ],
      "source": [
        "km_df['cluster'] = label"
      ]
    },
    {
      "cell_type": "code",
      "execution_count": null,
      "metadata": {
        "colab": {
          "base_uri": "https://localhost:8080/"
        },
        "id": "nJgndZhDmn1d",
        "outputId": "00f6010f-8bd9-4431-a210-224040998013"
      },
      "outputs": [
        {
          "data": {
            "text/plain": [
              "1          1\n",
              "3          1\n",
              "4          1\n",
              "7          1\n",
              "8          1\n",
              "          ..\n",
              "2074975    4\n",
              "2074977    1\n",
              "2074978    1\n",
              "2074981    1\n",
              "2074983    4\n",
              "Name: cluster, Length: 1650023, dtype: int32"
            ]
          },
          "execution_count": 68,
          "metadata": {},
          "output_type": "execute_result"
        }
      ],
      "source": []
    },
    {
      "cell_type": "markdown",
      "metadata": {
        "id": "UZk5NbWlIzRA"
      },
      "source": [
        "# 3 Feature Engineering (Baojia)"
      ]
    },
    {
      "cell_type": "markdown",
      "metadata": {
        "id": "ajbY94TPX9sj"
      },
      "source": [
        "By learning about how nutriscore was calculated, we know there are some features count as positive and others are negative. Also, beverage and solid food were calculated in different ways. We genreate our features based on the facts we learned from the following resources:\n",
        "\n",
        "https://www.frontiersin.org/articles/10.3389/fnut.2022.974003/full\n"
      ]
    },
    {
      "cell_type": "code",
      "execution_count": null,
      "metadata": {
        "id": "qOEKDpDNJAmm"
      },
      "outputs": [],
      "source": [
        "# drop colums that contain null in 'nutrisocre_score' or 'nutriscore_grade' columns.\n",
        "df = df.filter(df.nutriscore_grade.isNotNull() | df.nutriscore_score.isNotNull())"
      ]
    },
    {
      "cell_type": "code",
      "execution_count": null,
      "metadata": {
        "id": "sVK-jWw03RJX"
      },
      "outputs": [],
      "source": [
        "# drop colums that are not needed in the modeling \n",
        "cols_to_drop = [\n",
        "    'url',\n",
        "    'creator',\n",
        "    'created_t',\n",
        "    'created_datetime',\n",
        "    'last_modified_t',\n",
        "    'last_modified_datetime',\n",
        "    'abbreviated_product_name',\n",
        "    'generic_name',\n",
        "    'quantity',\n",
        "    'packaging',\n",
        "    'packaging_tags',\n",
        "    'packaging_en',\n",
        "    'packaging_text',\n",
        "    'brands',\n",
        "    'brands_tags',\n",
        "    'categories',\n",
        "    'categories_en',\n",
        "    'origins',\n",
        "    'origins_tags',\n",
        "    'origins_en',\n",
        "    'manufacturing_places',\n",
        "    'manufacturing_places_tags',\n",
        "    'labels',\n",
        "    'labels_tags',\n",
        "    'labels_en',\n",
        "    'emb_codes',\n",
        "    'emb_codes_tags',\n",
        "    'first_packaging_code_geo',\n",
        "    'cities',\n",
        "    'cities_tags',\n",
        "    'purchase_places',\n",
        "    'stores',\n",
        "    'countries',\n",
        "    'countries_tags',\n",
        "    'ingredients_text',\n",
        "    'ingredients_tags',\n",
        "    'ingredients_analysis_tags',\n",
        "    'allergens',\n",
        "    'allergens_en',\n",
        "    'traces',\n",
        "    'traces_tags',\n",
        "    'traces_en',\n",
        "    'serving_size',\n",
        "    'serving_quantity',\n",
        "    'no_nutriments',\n",
        "    'additives',\n",
        "    'additives_tags',\n",
        "    'additives_en',\n",
        "    'nova_group',\n",
        "    'pnns_groups_1',\n",
        "    'pnns_groups_2',\n",
        "    'food_groups',\n",
        "    'food_groups_tags',\n",
        "    'states',\n",
        "    'states_tags',\n",
        "    'states_en',\n",
        "    'brand_owner',\n",
        "    'ecoscore_grade',\n",
        "    'ecoscore_score',\n",
        "    'nutrient_levels_tags',\n",
        "    'product_quantity',\n",
        "    'owner',\n",
        "    'data_quality_errors_tags',\n",
        "    'unique_scans_n',\n",
        "    'popularity_tags',\n",
        "    'completeness',\n",
        "    'last_image_t',\n",
        "    'last_image_datetime',\n",
        "    'main_category',\n",
        "    'image_url',\n",
        "    'image_small_url',\n",
        "    'image_ingredients_url',\n",
        "    'image_ingredients_small_url',\n",
        "    'image_nutrition_url',\n",
        "    'image_nutrition_small_url',\n",
        "    'carbon-footprint_100g',\n",
        "    'carbon-footprint-from-meat-or-fish_100g',\n",
        "    'nutrition-score-fr_100g',\n",
        "    'nutrition-score-uk_100g',\n",
        "]\n",
        "df_train = df.drop(*cols_to_drop)\n",
        "\n"
      ]
    },
    {
      "cell_type": "code",
      "execution_count": null,
      "metadata": {
        "id": "SOboY3LM3jDU"
      },
      "outputs": [],
      "source": [
        "# Save the training data into a temp file and read from it to save memory\n",
        "import pyarrow.parquet as pq\n",
        "df_train.repartition(1).write.mode('overwrite').parquet('tmp/data')"
      ]
    },
    {
      "cell_type": "code",
      "execution_count": null,
      "metadata": {
        "colab": {
          "base_uri": "https://localhost:8080/",
          "height": 818
        },
        "id": "W5eTF3clRW5F",
        "outputId": "08c15256-40f4-473b-b47d-b730c58d08f3"
      },
      "outputs": [
        {
          "data": {
            "text/html": [
              "\n",
              "  <div id=\"df-fe00e07b-55a5-45f2-ad4a-bdc4cba1dcec\">\n",
              "    <div class=\"colab-df-container\">\n",
              "      <div>\n",
              "<style scoped>\n",
              "    .dataframe tbody tr th:only-of-type {\n",
              "        vertical-align: middle;\n",
              "    }\n",
              "\n",
              "    .dataframe tbody tr th {\n",
              "        vertical-align: top;\n",
              "    }\n",
              "\n",
              "    .dataframe thead th {\n",
              "        text-align: right;\n",
              "    }\n",
              "</style>\n",
              "<table border=\"1\" class=\"dataframe\">\n",
              "  <thead>\n",
              "    <tr style=\"text-align: right;\">\n",
              "      <th></th>\n",
              "      <th>code</th>\n",
              "      <th>product_name</th>\n",
              "      <th>categories_tags</th>\n",
              "      <th>countries_en</th>\n",
              "      <th>additives_n</th>\n",
              "      <th>nutriscore_score</th>\n",
              "      <th>nutriscore_grade</th>\n",
              "      <th>food_groups_en</th>\n",
              "      <th>main_category_en</th>\n",
              "      <th>energy-kj_100g</th>\n",
              "      <th>...</th>\n",
              "      <th>collagen-meat-protein-ratio_100g</th>\n",
              "      <th>cocoa_100g</th>\n",
              "      <th>chlorophyl_100g</th>\n",
              "      <th>glycemic-index_100g</th>\n",
              "      <th>water-hardness_100g</th>\n",
              "      <th>choline_100g</th>\n",
              "      <th>phylloquinone_100g</th>\n",
              "      <th>beta-glucan_100g</th>\n",
              "      <th>inositol_100g</th>\n",
              "      <th>carnitine_100g</th>\n",
              "    </tr>\n",
              "  </thead>\n",
              "  <tbody>\n",
              "    <tr>\n",
              "      <th>0</th>\n",
              "      <td>00000000000026772226</td>\n",
              "      <td>Skyr</td>\n",
              "      <td>en:dairies,en:desserts,en:fermented-foods,en:f...</td>\n",
              "      <td>France</td>\n",
              "      <td>None</td>\n",
              "      <td>-5</td>\n",
              "      <td>a</td>\n",
              "      <td>Milk and dairy products,Dairy desserts</td>\n",
              "      <td>Cream cheeses</td>\n",
              "      <td>None</td>\n",
              "      <td>...</td>\n",
              "      <td>None</td>\n",
              "      <td>None</td>\n",
              "      <td>None</td>\n",
              "      <td>None</td>\n",
              "      <td>None</td>\n",
              "      <td>None</td>\n",
              "      <td>None</td>\n",
              "      <td>None</td>\n",
              "      <td>None</td>\n",
              "      <td>None</td>\n",
              "    </tr>\n",
              "    <tr>\n",
              "      <th>1</th>\n",
              "      <td>0000000000100</td>\n",
              "      <td>moutarde au moût de raisin</td>\n",
              "      <td>en:condiments,en:sauces,en:mustards,en:groceries</td>\n",
              "      <td>France</td>\n",
              "      <td>0</td>\n",
              "      <td>18</td>\n",
              "      <td>d</td>\n",
              "      <td>Fats and sauces,Dressings and sauces</td>\n",
              "      <td>Groceries</td>\n",
              "      <td>936</td>\n",
              "      <td>...</td>\n",
              "      <td>None</td>\n",
              "      <td>None</td>\n",
              "      <td>None</td>\n",
              "      <td>None</td>\n",
              "      <td>None</td>\n",
              "      <td>None</td>\n",
              "      <td>None</td>\n",
              "      <td>None</td>\n",
              "      <td>None</td>\n",
              "      <td>None</td>\n",
              "    </tr>\n",
              "    <tr>\n",
              "      <th>2</th>\n",
              "      <td>000000000080</td>\n",
              "      <td>Pur jus de pomme</td>\n",
              "      <td>en:plant-based-foods-and-beverages,en:beverage...</td>\n",
              "      <td>France</td>\n",
              "      <td>None</td>\n",
              "      <td>9</td>\n",
              "      <td>d</td>\n",
              "      <td>Beverages,Fruit juices</td>\n",
              "      <td>Squeezed apple juices</td>\n",
              "      <td>None</td>\n",
              "      <td>...</td>\n",
              "      <td>None</td>\n",
              "      <td>None</td>\n",
              "      <td>None</td>\n",
              "      <td>None</td>\n",
              "      <td>None</td>\n",
              "      <td>None</td>\n",
              "      <td>None</td>\n",
              "      <td>None</td>\n",
              "      <td>None</td>\n",
              "      <td>None</td>\n",
              "    </tr>\n",
              "    <tr>\n",
              "      <th>3</th>\n",
              "      <td>0000000000949</td>\n",
              "      <td>Salade de carottes râpées</td>\n",
              "      <td>en:plant-based-foods-and-beverages,en:plant-ba...</td>\n",
              "      <td>France</td>\n",
              "      <td>None</td>\n",
              "      <td>1</td>\n",
              "      <td>b</td>\n",
              "      <td>Composite foods,One-dish meals</td>\n",
              "      <td>Seasoned grated carrots</td>\n",
              "      <td>None</td>\n",
              "      <td>...</td>\n",
              "      <td>None</td>\n",
              "      <td>None</td>\n",
              "      <td>None</td>\n",
              "      <td>None</td>\n",
              "      <td>None</td>\n",
              "      <td>None</td>\n",
              "      <td>None</td>\n",
              "      <td>None</td>\n",
              "      <td>None</td>\n",
              "      <td>None</td>\n",
              "    </tr>\n",
              "    <tr>\n",
              "      <th>4</th>\n",
              "      <td>0000000001281</td>\n",
              "      <td>Tarte noix de coco</td>\n",
              "      <td>en:sweet-pies,en:pies,en:coconut-pies</td>\n",
              "      <td>France</td>\n",
              "      <td>None</td>\n",
              "      <td>14</td>\n",
              "      <td>d</td>\n",
              "      <td>Composite foods,Pizza pies and quiches</td>\n",
              "      <td>Coconut pies</td>\n",
              "      <td>None</td>\n",
              "      <td>...</td>\n",
              "      <td>None</td>\n",
              "      <td>None</td>\n",
              "      <td>None</td>\n",
              "      <td>None</td>\n",
              "      <td>None</td>\n",
              "      <td>None</td>\n",
              "      <td>None</td>\n",
              "      <td>None</td>\n",
              "      <td>None</td>\n",
              "      <td>None</td>\n",
              "    </tr>\n",
              "    <tr>\n",
              "      <th>...</th>\n",
              "      <td>...</td>\n",
              "      <td>...</td>\n",
              "      <td>...</td>\n",
              "      <td>...</td>\n",
              "      <td>...</td>\n",
              "      <td>...</td>\n",
              "      <td>...</td>\n",
              "      <td>...</td>\n",
              "      <td>...</td>\n",
              "      <td>...</td>\n",
              "      <td>...</td>\n",
              "      <td>...</td>\n",
              "      <td>...</td>\n",
              "      <td>...</td>\n",
              "      <td>...</td>\n",
              "      <td>...</td>\n",
              "      <td>...</td>\n",
              "      <td>...</td>\n",
              "      <td>...</td>\n",
              "      <td>...</td>\n",
              "      <td>...</td>\n",
              "    </tr>\n",
              "    <tr>\n",
              "      <th>833365</th>\n",
              "      <td>9999991149090</td>\n",
              "      <td>Riz parfumé</td>\n",
              "      <td>en:plant-based-foods-and-beverages,en:plant-ba...</td>\n",
              "      <td>France</td>\n",
              "      <td>None</td>\n",
              "      <td>0</td>\n",
              "      <td>b</td>\n",
              "      <td>Cereals and potatoes,Cereals</td>\n",
              "      <td>Aromatic rices</td>\n",
              "      <td>None</td>\n",
              "      <td>...</td>\n",
              "      <td>None</td>\n",
              "      <td>None</td>\n",
              "      <td>None</td>\n",
              "      <td>None</td>\n",
              "      <td>None</td>\n",
              "      <td>None</td>\n",
              "      <td>None</td>\n",
              "      <td>None</td>\n",
              "      <td>None</td>\n",
              "      <td>None</td>\n",
              "    </tr>\n",
              "    <tr>\n",
              "      <th>833366</th>\n",
              "      <td>9999999004360</td>\n",
              "      <td>Minis beignets</td>\n",
              "      <td>en:snacks,en:sweet-snacks,en:sweet-fritters</td>\n",
              "      <td>France</td>\n",
              "      <td>None</td>\n",
              "      <td>15</td>\n",
              "      <td>d</td>\n",
              "      <td>None</td>\n",
              "      <td>Sweet Fritters</td>\n",
              "      <td>None</td>\n",
              "      <td>...</td>\n",
              "      <td>None</td>\n",
              "      <td>None</td>\n",
              "      <td>None</td>\n",
              "      <td>None</td>\n",
              "      <td>None</td>\n",
              "      <td>None</td>\n",
              "      <td>None</td>\n",
              "      <td>None</td>\n",
              "      <td>None</td>\n",
              "      <td>None</td>\n",
              "    </tr>\n",
              "    <tr>\n",
              "      <th>833367</th>\n",
              "      <td>9999999175305</td>\n",
              "      <td>Erdbeerkuchen 1019g tiefgefroren</td>\n",
              "      <td>en:snacks,en:sweet-snacks,en:biscuits-and-cake...</td>\n",
              "      <td>Germany</td>\n",
              "      <td>2</td>\n",
              "      <td>12</td>\n",
              "      <td>d</td>\n",
              "      <td>Sugary snacks,Biscuits and cakes</td>\n",
              "      <td>de:tiefkühl-kuchen</td>\n",
              "      <td>925</td>\n",
              "      <td>...</td>\n",
              "      <td>None</td>\n",
              "      <td>None</td>\n",
              "      <td>None</td>\n",
              "      <td>None</td>\n",
              "      <td>None</td>\n",
              "      <td>None</td>\n",
              "      <td>None</td>\n",
              "      <td>None</td>\n",
              "      <td>None</td>\n",
              "      <td>None</td>\n",
              "    </tr>\n",
              "    <tr>\n",
              "      <th>833368</th>\n",
              "      <td>99999995</td>\n",
              "      <td>Steak haché 5%</td>\n",
              "      <td>en:meats,en:beef,en:meat-patties,en:boeuf,en:s...</td>\n",
              "      <td>France</td>\n",
              "      <td>0</td>\n",
              "      <td>-2</td>\n",
              "      <td>a</td>\n",
              "      <td>Fish‚ Meat‚ Eggs,Meat,Meat other than poultry</td>\n",
              "      <td>Viandes</td>\n",
              "      <td>None</td>\n",
              "      <td>...</td>\n",
              "      <td>None</td>\n",
              "      <td>None</td>\n",
              "      <td>None</td>\n",
              "      <td>None</td>\n",
              "      <td>None</td>\n",
              "      <td>None</td>\n",
              "      <td>None</td>\n",
              "      <td>None</td>\n",
              "      <td>None</td>\n",
              "      <td>None</td>\n",
              "    </tr>\n",
              "    <tr>\n",
              "      <th>833369</th>\n",
              "      <td>9999999999994</td>\n",
              "      <td>Light &amp; Free SKYR A BOIRE</td>\n",
              "      <td>en:dairies,en:desserts,en:fermented-foods,en:f...</td>\n",
              "      <td>France</td>\n",
              "      <td>None</td>\n",
              "      <td>25</td>\n",
              "      <td>e</td>\n",
              "      <td>Milk and dairy products,Dairy desserts</td>\n",
              "      <td>Dairy desserts</td>\n",
              "      <td>None</td>\n",
              "      <td>...</td>\n",
              "      <td>None</td>\n",
              "      <td>None</td>\n",
              "      <td>None</td>\n",
              "      <td>None</td>\n",
              "      <td>None</td>\n",
              "      <td>None</td>\n",
              "      <td>None</td>\n",
              "      <td>None</td>\n",
              "      <td>None</td>\n",
              "      <td>None</td>\n",
              "    </tr>\n",
              "  </tbody>\n",
              "</table>\n",
              "<p>833370 rows × 117 columns</p>\n",
              "</div>\n",
              "      <button class=\"colab-df-convert\" onclick=\"convertToInteractive('df-fe00e07b-55a5-45f2-ad4a-bdc4cba1dcec')\"\n",
              "              title=\"Convert this dataframe to an interactive table.\"\n",
              "              style=\"display:none;\">\n",
              "        \n",
              "  <svg xmlns=\"http://www.w3.org/2000/svg\" height=\"24px\"viewBox=\"0 0 24 24\"\n",
              "       width=\"24px\">\n",
              "    <path d=\"M0 0h24v24H0V0z\" fill=\"none\"/>\n",
              "    <path d=\"M18.56 5.44l.94 2.06.94-2.06 2.06-.94-2.06-.94-.94-2.06-.94 2.06-2.06.94zm-11 1L8.5 8.5l.94-2.06 2.06-.94-2.06-.94L8.5 2.5l-.94 2.06-2.06.94zm10 10l.94 2.06.94-2.06 2.06-.94-2.06-.94-.94-2.06-.94 2.06-2.06.94z\"/><path d=\"M17.41 7.96l-1.37-1.37c-.4-.4-.92-.59-1.43-.59-.52 0-1.04.2-1.43.59L10.3 9.45l-7.72 7.72c-.78.78-.78 2.05 0 2.83L4 21.41c.39.39.9.59 1.41.59.51 0 1.02-.2 1.41-.59l7.78-7.78 2.81-2.81c.8-.78.8-2.07 0-2.86zM5.41 20L4 18.59l7.72-7.72 1.47 1.35L5.41 20z\"/>\n",
              "  </svg>\n",
              "      </button>\n",
              "      \n",
              "  <style>\n",
              "    .colab-df-container {\n",
              "      display:flex;\n",
              "      flex-wrap:wrap;\n",
              "      gap: 12px;\n",
              "    }\n",
              "\n",
              "    .colab-df-convert {\n",
              "      background-color: #E8F0FE;\n",
              "      border: none;\n",
              "      border-radius: 50%;\n",
              "      cursor: pointer;\n",
              "      display: none;\n",
              "      fill: #1967D2;\n",
              "      height: 32px;\n",
              "      padding: 0 0 0 0;\n",
              "      width: 32px;\n",
              "    }\n",
              "\n",
              "    .colab-df-convert:hover {\n",
              "      background-color: #E2EBFA;\n",
              "      box-shadow: 0px 1px 2px rgba(60, 64, 67, 0.3), 0px 1px 3px 1px rgba(60, 64, 67, 0.15);\n",
              "      fill: #174EA6;\n",
              "    }\n",
              "\n",
              "    [theme=dark] .colab-df-convert {\n",
              "      background-color: #3B4455;\n",
              "      fill: #D2E3FC;\n",
              "    }\n",
              "\n",
              "    [theme=dark] .colab-df-convert:hover {\n",
              "      background-color: #434B5C;\n",
              "      box-shadow: 0px 1px 3px 1px rgba(0, 0, 0, 0.15);\n",
              "      filter: drop-shadow(0px 1px 2px rgba(0, 0, 0, 0.3));\n",
              "      fill: #FFFFFF;\n",
              "    }\n",
              "  </style>\n",
              "\n",
              "      <script>\n",
              "        const buttonEl =\n",
              "          document.querySelector('#df-fe00e07b-55a5-45f2-ad4a-bdc4cba1dcec button.colab-df-convert');\n",
              "        buttonEl.style.display =\n",
              "          google.colab.kernel.accessAllowed ? 'block' : 'none';\n",
              "\n",
              "        async function convertToInteractive(key) {\n",
              "          const element = document.querySelector('#df-fe00e07b-55a5-45f2-ad4a-bdc4cba1dcec');\n",
              "          const dataTable =\n",
              "            await google.colab.kernel.invokeFunction('convertToInteractive',\n",
              "                                                     [key], {});\n",
              "          if (!dataTable) return;\n",
              "\n",
              "          const docLinkHtml = 'Like what you see? Visit the ' +\n",
              "            '<a target=\"_blank\" href=https://colab.research.google.com/notebooks/data_table.ipynb>data table notebook</a>'\n",
              "            + ' to learn more about interactive tables.';\n",
              "          element.innerHTML = '';\n",
              "          dataTable['output_type'] = 'display_data';\n",
              "          await google.colab.output.renderOutput(dataTable, element);\n",
              "          const docLink = document.createElement('div');\n",
              "          docLink.innerHTML = docLinkHtml;\n",
              "          element.appendChild(docLink);\n",
              "        }\n",
              "      </script>\n",
              "    </div>\n",
              "  </div>\n",
              "  "
            ],
            "text/plain": [
              "                        code                      product_name  \\\n",
              "0       00000000000026772226                              Skyr   \n",
              "1              0000000000100       moutarde au moût de raisin    \n",
              "2               000000000080                  Pur jus de pomme   \n",
              "3              0000000000949         Salade de carottes râpées   \n",
              "4              0000000001281                Tarte noix de coco   \n",
              "...                      ...                               ...   \n",
              "833365         9999991149090                       Riz parfumé   \n",
              "833366         9999999004360                    Minis beignets   \n",
              "833367         9999999175305  Erdbeerkuchen 1019g tiefgefroren   \n",
              "833368              99999995                    Steak haché 5%   \n",
              "833369         9999999999994         Light & Free SKYR A BOIRE   \n",
              "\n",
              "                                          categories_tags countries_en  \\\n",
              "0       en:dairies,en:desserts,en:fermented-foods,en:f...       France   \n",
              "1        en:condiments,en:sauces,en:mustards,en:groceries       France   \n",
              "2       en:plant-based-foods-and-beverages,en:beverage...       France   \n",
              "3       en:plant-based-foods-and-beverages,en:plant-ba...       France   \n",
              "4                   en:sweet-pies,en:pies,en:coconut-pies       France   \n",
              "...                                                   ...          ...   \n",
              "833365  en:plant-based-foods-and-beverages,en:plant-ba...       France   \n",
              "833366        en:snacks,en:sweet-snacks,en:sweet-fritters       France   \n",
              "833367  en:snacks,en:sweet-snacks,en:biscuits-and-cake...      Germany   \n",
              "833368  en:meats,en:beef,en:meat-patties,en:boeuf,en:s...       France   \n",
              "833369  en:dairies,en:desserts,en:fermented-foods,en:f...       France   \n",
              "\n",
              "       additives_n nutriscore_score nutriscore_grade  \\\n",
              "0             None               -5                a   \n",
              "1                0               18                d   \n",
              "2             None                9                d   \n",
              "3             None                1                b   \n",
              "4             None               14                d   \n",
              "...            ...              ...              ...   \n",
              "833365        None                0                b   \n",
              "833366        None               15                d   \n",
              "833367           2               12                d   \n",
              "833368           0               -2                a   \n",
              "833369        None               25                e   \n",
              "\n",
              "                                       food_groups_en  \\\n",
              "0              Milk and dairy products,Dairy desserts   \n",
              "1                Fats and sauces,Dressings and sauces   \n",
              "2                              Beverages,Fruit juices   \n",
              "3                      Composite foods,One-dish meals   \n",
              "4              Composite foods,Pizza pies and quiches   \n",
              "...                                               ...   \n",
              "833365                   Cereals and potatoes,Cereals   \n",
              "833366                                           None   \n",
              "833367               Sugary snacks,Biscuits and cakes   \n",
              "833368  Fish‚ Meat‚ Eggs,Meat,Meat other than poultry   \n",
              "833369         Milk and dairy products,Dairy desserts   \n",
              "\n",
              "               main_category_en energy-kj_100g  ...  \\\n",
              "0                 Cream cheeses           None  ...   \n",
              "1                     Groceries            936  ...   \n",
              "2         Squeezed apple juices           None  ...   \n",
              "3       Seasoned grated carrots           None  ...   \n",
              "4                  Coconut pies           None  ...   \n",
              "...                         ...            ...  ...   \n",
              "833365           Aromatic rices           None  ...   \n",
              "833366           Sweet Fritters           None  ...   \n",
              "833367       de:tiefkühl-kuchen            925  ...   \n",
              "833368                  Viandes           None  ...   \n",
              "833369           Dairy desserts           None  ...   \n",
              "\n",
              "       collagen-meat-protein-ratio_100g cocoa_100g chlorophyl_100g  \\\n",
              "0                                  None       None            None   \n",
              "1                                  None       None            None   \n",
              "2                                  None       None            None   \n",
              "3                                  None       None            None   \n",
              "4                                  None       None            None   \n",
              "...                                 ...        ...             ...   \n",
              "833365                             None       None            None   \n",
              "833366                             None       None            None   \n",
              "833367                             None       None            None   \n",
              "833368                             None       None            None   \n",
              "833369                             None       None            None   \n",
              "\n",
              "       glycemic-index_100g water-hardness_100g choline_100g  \\\n",
              "0                     None                None         None   \n",
              "1                     None                None         None   \n",
              "2                     None                None         None   \n",
              "3                     None                None         None   \n",
              "4                     None                None         None   \n",
              "...                    ...                 ...          ...   \n",
              "833365                None                None         None   \n",
              "833366                None                None         None   \n",
              "833367                None                None         None   \n",
              "833368                None                None         None   \n",
              "833369                None                None         None   \n",
              "\n",
              "       phylloquinone_100g beta-glucan_100g inositol_100g carnitine_100g  \n",
              "0                    None             None          None           None  \n",
              "1                    None             None          None           None  \n",
              "2                    None             None          None           None  \n",
              "3                    None             None          None           None  \n",
              "4                    None             None          None           None  \n",
              "...                   ...              ...           ...            ...  \n",
              "833365               None             None          None           None  \n",
              "833366               None             None          None           None  \n",
              "833367               None             None          None           None  \n",
              "833368               None             None          None           None  \n",
              "833369               None             None          None           None  \n",
              "\n",
              "[833370 rows x 117 columns]"
            ]
          },
          "execution_count": 81,
          "metadata": {},
          "output_type": "execute_result"
        }
      ],
      "source": [
        "df_train = pd.read_parquet('tmp/data')\n",
        "df_train"
      ]
    },
    {
      "cell_type": "code",
      "execution_count": null,
      "metadata": {
        "id": "Yr0t5cKy5dhh"
      },
      "outputs": [],
      "source": [
        "string_columns = ['code', 'product_name', 'categories_tags', 'countries_en', 'nutriscore_grade', 'food_groups_en', 'main_category_en'] \n",
        "float_columns = list(set(df_train.columns) - set(string_columns))\n",
        "for column in float_columns:\n",
        "    df_train[column] = df_train[column].astype('float')"
      ]
    },
    {
      "cell_type": "markdown",
      "metadata": {
        "id": "9Lb-U42MI4j7"
      },
      "source": [
        "# 4 Modeling (Baojia)"
      ]
    },
    {
      "cell_type": "code",
      "execution_count": null,
      "metadata": {
        "id": "8Rz2wm7aG8-n"
      },
      "outputs": [],
      "source": [
        "import statsmodels.api as sm\n",
        "\n",
        "X = df_train[['salt_100g', 'sodium_100g', 'energy_100g', 'fat_100g', 'saturated-fat_100g', 'sugars_100g', 'proteins_100g', 'fruits-vegetables-nuts-estimate-from-ingredients_100g', 'fiber_100g', 'carbohydrates_100g', 'additives_n']]\n",
        "X = X.fillna(0)\n",
        "y = df_train['nutriscore_score']"
      ]
    },
    {
      "cell_type": "code",
      "execution_count": null,
      "metadata": {
        "id": "AM2gR814HUzm"
      },
      "outputs": [],
      "source": [
        "# remove outlier, plot distribution\n",
        "def remove_outlier(X):\n",
        "    X['energy_100g'] = X['energy_100g'].clip(upper=4000)\n",
        "    for c in X.columns:\n",
        "        if 'energy' not in c:\n",
        "            X[c] = X[c].clip(upper=100)\n",
        "remove_outlier(X)"
      ]
    },
    {
      "cell_type": "code",
      "execution_count": null,
      "metadata": {
        "colab": {
          "base_uri": "https://localhost:8080/",
          "height": 424
        },
        "id": "r1y5Ws5NHcg0",
        "outputId": "da29d2c1-3a92-4d56-b194-098b186a75f2"
      },
      "outputs": [
        {
          "data": {
            "text/html": [
              "\n",
              "  <div id=\"df-09605762-fdbc-4d45-a723-890176229d13\">\n",
              "    <div class=\"colab-df-container\">\n",
              "      <div>\n",
              "<style scoped>\n",
              "    .dataframe tbody tr th:only-of-type {\n",
              "        vertical-align: middle;\n",
              "    }\n",
              "\n",
              "    .dataframe tbody tr th {\n",
              "        vertical-align: top;\n",
              "    }\n",
              "\n",
              "    .dataframe thead th {\n",
              "        text-align: right;\n",
              "    }\n",
              "</style>\n",
              "<table border=\"1\" class=\"dataframe\">\n",
              "  <thead>\n",
              "    <tr style=\"text-align: right;\">\n",
              "      <th></th>\n",
              "      <th>sodium_100g</th>\n",
              "      <th>energy_100g</th>\n",
              "      <th>fat_100g</th>\n",
              "      <th>sugars_100g</th>\n",
              "      <th>proteins_100g</th>\n",
              "      <th>fruits-vegetables-nuts-estimate-from-ingredients_100g</th>\n",
              "      <th>fiber_100g</th>\n",
              "      <th>carbohydrates_100g</th>\n",
              "    </tr>\n",
              "  </thead>\n",
              "  <tbody>\n",
              "    <tr>\n",
              "      <th>0</th>\n",
              "      <td>0.036</td>\n",
              "      <td>238.0</td>\n",
              "      <td>0.2</td>\n",
              "      <td>3.9</td>\n",
              "      <td>10.0</td>\n",
              "      <td>0.0</td>\n",
              "      <td>0.0</td>\n",
              "      <td>3.9</td>\n",
              "    </tr>\n",
              "    <tr>\n",
              "      <th>1</th>\n",
              "      <td>1.840</td>\n",
              "      <td>936.0</td>\n",
              "      <td>8.2</td>\n",
              "      <td>22.0</td>\n",
              "      <td>5.1</td>\n",
              "      <td>0.0</td>\n",
              "      <td>0.0</td>\n",
              "      <td>29.0</td>\n",
              "    </tr>\n",
              "    <tr>\n",
              "      <th>2</th>\n",
              "      <td>0.000</td>\n",
              "      <td>264.0</td>\n",
              "      <td>0.0</td>\n",
              "      <td>15.5</td>\n",
              "      <td>0.2</td>\n",
              "      <td>0.0</td>\n",
              "      <td>0.0</td>\n",
              "      <td>15.5</td>\n",
              "    </tr>\n",
              "    <tr>\n",
              "      <th>3</th>\n",
              "      <td>0.168</td>\n",
              "      <td>134.0</td>\n",
              "      <td>0.3</td>\n",
              "      <td>3.9</td>\n",
              "      <td>0.9</td>\n",
              "      <td>0.0</td>\n",
              "      <td>0.0</td>\n",
              "      <td>5.3</td>\n",
              "    </tr>\n",
              "    <tr>\n",
              "      <th>4</th>\n",
              "      <td>0.040</td>\n",
              "      <td>1594.0</td>\n",
              "      <td>22.0</td>\n",
              "      <td>21.9</td>\n",
              "      <td>4.6</td>\n",
              "      <td>0.0</td>\n",
              "      <td>4.4</td>\n",
              "      <td>27.3</td>\n",
              "    </tr>\n",
              "    <tr>\n",
              "      <th>...</th>\n",
              "      <td>...</td>\n",
              "      <td>...</td>\n",
              "      <td>...</td>\n",
              "      <td>...</td>\n",
              "      <td>...</td>\n",
              "      <td>...</td>\n",
              "      <td>...</td>\n",
              "      <td>...</td>\n",
              "    </tr>\n",
              "    <tr>\n",
              "      <th>833365</th>\n",
              "      <td>0.000</td>\n",
              "      <td>1469.0</td>\n",
              "      <td>0.5</td>\n",
              "      <td>0.0</td>\n",
              "      <td>7.0</td>\n",
              "      <td>0.0</td>\n",
              "      <td>0.0</td>\n",
              "      <td>80.0</td>\n",
              "    </tr>\n",
              "    <tr>\n",
              "      <th>833366</th>\n",
              "      <td>0.440</td>\n",
              "      <td>1393.0</td>\n",
              "      <td>20.2</td>\n",
              "      <td>10.4</td>\n",
              "      <td>7.4</td>\n",
              "      <td>0.0</td>\n",
              "      <td>0.0</td>\n",
              "      <td>30.9</td>\n",
              "    </tr>\n",
              "    <tr>\n",
              "      <th>833367</th>\n",
              "      <td>0.112</td>\n",
              "      <td>925.0</td>\n",
              "      <td>7.6</td>\n",
              "      <td>24.0</td>\n",
              "      <td>2.6</td>\n",
              "      <td>12.0</td>\n",
              "      <td>0.0</td>\n",
              "      <td>35.0</td>\n",
              "    </tr>\n",
              "    <tr>\n",
              "      <th>833368</th>\n",
              "      <td>0.072</td>\n",
              "      <td>548.0</td>\n",
              "      <td>5.0</td>\n",
              "      <td>0.0</td>\n",
              "      <td>21.5</td>\n",
              "      <td>0.0</td>\n",
              "      <td>0.0</td>\n",
              "      <td>0.0</td>\n",
              "    </tr>\n",
              "    <tr>\n",
              "      <th>833369</th>\n",
              "      <td>1.200</td>\n",
              "      <td>100.0</td>\n",
              "      <td>28.0</td>\n",
              "      <td>49.0</td>\n",
              "      <td>2.0</td>\n",
              "      <td>0.0</td>\n",
              "      <td>6.0</td>\n",
              "      <td>70.0</td>\n",
              "    </tr>\n",
              "  </tbody>\n",
              "</table>\n",
              "<p>833370 rows × 8 columns</p>\n",
              "</div>\n",
              "      <button class=\"colab-df-convert\" onclick=\"convertToInteractive('df-09605762-fdbc-4d45-a723-890176229d13')\"\n",
              "              title=\"Convert this dataframe to an interactive table.\"\n",
              "              style=\"display:none;\">\n",
              "        \n",
              "  <svg xmlns=\"http://www.w3.org/2000/svg\" height=\"24px\"viewBox=\"0 0 24 24\"\n",
              "       width=\"24px\">\n",
              "    <path d=\"M0 0h24v24H0V0z\" fill=\"none\"/>\n",
              "    <path d=\"M18.56 5.44l.94 2.06.94-2.06 2.06-.94-2.06-.94-.94-2.06-.94 2.06-2.06.94zm-11 1L8.5 8.5l.94-2.06 2.06-.94-2.06-.94L8.5 2.5l-.94 2.06-2.06.94zm10 10l.94 2.06.94-2.06 2.06-.94-2.06-.94-.94-2.06-.94 2.06-2.06.94z\"/><path d=\"M17.41 7.96l-1.37-1.37c-.4-.4-.92-.59-1.43-.59-.52 0-1.04.2-1.43.59L10.3 9.45l-7.72 7.72c-.78.78-.78 2.05 0 2.83L4 21.41c.39.39.9.59 1.41.59.51 0 1.02-.2 1.41-.59l7.78-7.78 2.81-2.81c.8-.78.8-2.07 0-2.86zM5.41 20L4 18.59l7.72-7.72 1.47 1.35L5.41 20z\"/>\n",
              "  </svg>\n",
              "      </button>\n",
              "      \n",
              "  <style>\n",
              "    .colab-df-container {\n",
              "      display:flex;\n",
              "      flex-wrap:wrap;\n",
              "      gap: 12px;\n",
              "    }\n",
              "\n",
              "    .colab-df-convert {\n",
              "      background-color: #E8F0FE;\n",
              "      border: none;\n",
              "      border-radius: 50%;\n",
              "      cursor: pointer;\n",
              "      display: none;\n",
              "      fill: #1967D2;\n",
              "      height: 32px;\n",
              "      padding: 0 0 0 0;\n",
              "      width: 32px;\n",
              "    }\n",
              "\n",
              "    .colab-df-convert:hover {\n",
              "      background-color: #E2EBFA;\n",
              "      box-shadow: 0px 1px 2px rgba(60, 64, 67, 0.3), 0px 1px 3px 1px rgba(60, 64, 67, 0.15);\n",
              "      fill: #174EA6;\n",
              "    }\n",
              "\n",
              "    [theme=dark] .colab-df-convert {\n",
              "      background-color: #3B4455;\n",
              "      fill: #D2E3FC;\n",
              "    }\n",
              "\n",
              "    [theme=dark] .colab-df-convert:hover {\n",
              "      background-color: #434B5C;\n",
              "      box-shadow: 0px 1px 3px 1px rgba(0, 0, 0, 0.15);\n",
              "      filter: drop-shadow(0px 1px 2px rgba(0, 0, 0, 0.3));\n",
              "      fill: #FFFFFF;\n",
              "    }\n",
              "  </style>\n",
              "\n",
              "      <script>\n",
              "        const buttonEl =\n",
              "          document.querySelector('#df-09605762-fdbc-4d45-a723-890176229d13 button.colab-df-convert');\n",
              "        buttonEl.style.display =\n",
              "          google.colab.kernel.accessAllowed ? 'block' : 'none';\n",
              "\n",
              "        async function convertToInteractive(key) {\n",
              "          const element = document.querySelector('#df-09605762-fdbc-4d45-a723-890176229d13');\n",
              "          const dataTable =\n",
              "            await google.colab.kernel.invokeFunction('convertToInteractive',\n",
              "                                                     [key], {});\n",
              "          if (!dataTable) return;\n",
              "\n",
              "          const docLinkHtml = 'Like what you see? Visit the ' +\n",
              "            '<a target=\"_blank\" href=https://colab.research.google.com/notebooks/data_table.ipynb>data table notebook</a>'\n",
              "            + ' to learn more about interactive tables.';\n",
              "          element.innerHTML = '';\n",
              "          dataTable['output_type'] = 'display_data';\n",
              "          await google.colab.output.renderOutput(dataTable, element);\n",
              "          const docLink = document.createElement('div');\n",
              "          docLink.innerHTML = docLinkHtml;\n",
              "          element.appendChild(docLink);\n",
              "        }\n",
              "      </script>\n",
              "    </div>\n",
              "  </div>\n",
              "  "
            ],
            "text/plain": [
              "        sodium_100g  energy_100g  fat_100g  sugars_100g  proteins_100g  \\\n",
              "0             0.036        238.0       0.2          3.9           10.0   \n",
              "1             1.840        936.0       8.2         22.0            5.1   \n",
              "2             0.000        264.0       0.0         15.5            0.2   \n",
              "3             0.168        134.0       0.3          3.9            0.9   \n",
              "4             0.040       1594.0      22.0         21.9            4.6   \n",
              "...             ...          ...       ...          ...            ...   \n",
              "833365        0.000       1469.0       0.5          0.0            7.0   \n",
              "833366        0.440       1393.0      20.2         10.4            7.4   \n",
              "833367        0.112        925.0       7.6         24.0            2.6   \n",
              "833368        0.072        548.0       5.0          0.0           21.5   \n",
              "833369        1.200        100.0      28.0         49.0            2.0   \n",
              "\n",
              "        fruits-vegetables-nuts-estimate-from-ingredients_100g  fiber_100g  \\\n",
              "0                                                     0.0             0.0   \n",
              "1                                                     0.0             0.0   \n",
              "2                                                     0.0             0.0   \n",
              "3                                                     0.0             0.0   \n",
              "4                                                     0.0             4.4   \n",
              "...                                                   ...             ...   \n",
              "833365                                                0.0             0.0   \n",
              "833366                                                0.0             0.0   \n",
              "833367                                               12.0             0.0   \n",
              "833368                                                0.0             0.0   \n",
              "833369                                                0.0             6.0   \n",
              "\n",
              "        carbohydrates_100g  \n",
              "0                      3.9  \n",
              "1                     29.0  \n",
              "2                     15.5  \n",
              "3                      5.3  \n",
              "4                     27.3  \n",
              "...                    ...  \n",
              "833365                80.0  \n",
              "833366                30.9  \n",
              "833367                35.0  \n",
              "833368                 0.0  \n",
              "833369                70.0  \n",
              "\n",
              "[833370 rows x 8 columns]"
            ]
          },
          "execution_count": 52,
          "metadata": {},
          "output_type": "execute_result"
        }
      ],
      "source": [
        "# check the distribution of some features\n",
        "X"
      ]
    },
    {
      "cell_type": "code",
      "execution_count": null,
      "metadata": {
        "colab": {
          "base_uri": "https://localhost:8080/",
          "height": 752
        },
        "id": "IDjNtEETHuAS",
        "outputId": "74f203cb-3034-465c-ca9e-8a3ce6a5fe55"
      },
      "outputs": [
        {
          "name": "stderr",
          "output_type": "stream",
          "text": [
            "/usr/local/lib/python3.8/dist-packages/statsmodels/tsa/tsatools.py:142: FutureWarning: In a future version of pandas all arguments of concat except for the argument 'objs' will be keyword-only\n",
            "  x = pd.concat(x[::order], 1)\n"
          ]
        },
        {
          "name": "stdout",
          "output_type": "stream",
          "text": [
            "5.35\n"
          ]
        },
        {
          "data": {
            "text/html": [
              "<table class=\"simpletable\">\n",
              "<caption>OLS Regression Results</caption>\n",
              "<tr>\n",
              "  <th>Dep. Variable:</th>    <td>nutriscore_score</td> <th>  R-squared:         </th>  <td>   0.620</td>  \n",
              "</tr>\n",
              "<tr>\n",
              "  <th>Model:</th>                   <td>OLS</td>       <th>  Adj. R-squared:    </th>  <td>   0.620</td>  \n",
              "</tr>\n",
              "<tr>\n",
              "  <th>Method:</th>             <td>Least Squares</td>  <th>  F-statistic:       </th>  <td>1.234e+05</td> \n",
              "</tr>\n",
              "<tr>\n",
              "  <th>Date:</th>             <td>Fri, 16 Dec 2022</td> <th>  Prob (F-statistic):</th>   <td>  0.00</td>   \n",
              "</tr>\n",
              "<tr>\n",
              "  <th>Time:</th>                 <td>00:26:45</td>     <th>  Log-Likelihood:    </th> <td>-2.5797e+06</td>\n",
              "</tr>\n",
              "<tr>\n",
              "  <th>No. Observations:</th>      <td>833370</td>      <th>  AIC:               </th>  <td>5.160e+06</td> \n",
              "</tr>\n",
              "<tr>\n",
              "  <th>Df Residuals:</th>          <td>833358</td>      <th>  BIC:               </th>  <td>5.160e+06</td> \n",
              "</tr>\n",
              "<tr>\n",
              "  <th>Df Model:</th>              <td>    11</td>      <th>                     </th>      <td> </td>     \n",
              "</tr>\n",
              "<tr>\n",
              "  <th>Covariance Type:</th>      <td>nonrobust</td>    <th>                     </th>      <td> </td>     \n",
              "</tr>\n",
              "</table>\n",
              "<table class=\"simpletable\">\n",
              "<tr>\n",
              "                            <td></td>                               <th>coef</th>     <th>std err</th>      <th>t</th>      <th>P>|t|</th>  <th>[0.025</th>    <th>0.975]</th>  \n",
              "</tr>\n",
              "<tr>\n",
              "  <th>const</th>                                                 <td>    1.5715</td> <td>    0.013</td> <td>  123.910</td> <td> 0.000</td> <td>    1.547</td> <td>    1.596</td>\n",
              "</tr>\n",
              "<tr>\n",
              "  <th>salt_100g</th>                                             <td>    0.6900</td> <td>    0.004</td> <td>  186.672</td> <td> 0.000</td> <td>    0.683</td> <td>    0.697</td>\n",
              "</tr>\n",
              "<tr>\n",
              "  <th>sodium_100g</th>                                           <td>   -0.6364</td> <td>    0.006</td> <td>  -99.466</td> <td> 0.000</td> <td>   -0.649</td> <td>   -0.624</td>\n",
              "</tr>\n",
              "<tr>\n",
              "  <th>energy_100g</th>                                           <td>    0.0031</td> <td> 2.48e-05</td> <td>  123.529</td> <td> 0.000</td> <td>    0.003</td> <td>    0.003</td>\n",
              "</tr>\n",
              "<tr>\n",
              "  <th>fat_100g</th>                                              <td>    0.0110</td> <td>    0.001</td> <td>   10.897</td> <td> 0.000</td> <td>    0.009</td> <td>    0.013</td>\n",
              "</tr>\n",
              "<tr>\n",
              "  <th>saturated-fat_100g</th>                                    <td>    0.3606</td> <td>    0.001</td> <td>  348.770</td> <td> 0.000</td> <td>    0.359</td> <td>    0.363</td>\n",
              "</tr>\n",
              "<tr>\n",
              "  <th>sugars_100g</th>                                           <td>    0.1991</td> <td>    0.000</td> <td>  445.059</td> <td> 0.000</td> <td>    0.198</td> <td>    0.200</td>\n",
              "</tr>\n",
              "<tr>\n",
              "  <th>proteins_100g</th>                                         <td>    0.0466</td> <td>    0.001</td> <td>   59.666</td> <td> 0.000</td> <td>    0.045</td> <td>    0.048</td>\n",
              "</tr>\n",
              "<tr>\n",
              "  <th>fruits-vegetables-nuts-estimate-from-ingredients_100g</th> <td>   -0.0593</td> <td>    0.000</td> <td> -183.184</td> <td> 0.000</td> <td>   -0.060</td> <td>   -0.059</td>\n",
              "</tr>\n",
              "<tr>\n",
              "  <th>fiber_100g</th>                                            <td>   -0.3963</td> <td>    0.002</td> <td> -244.072</td> <td> 0.000</td> <td>   -0.399</td> <td>   -0.393</td>\n",
              "</tr>\n",
              "<tr>\n",
              "  <th>carbohydrates_100g</th>                                    <td>   -0.0333</td> <td>    0.001</td> <td>  -66.223</td> <td> 0.000</td> <td>   -0.034</td> <td>   -0.032</td>\n",
              "</tr>\n",
              "<tr>\n",
              "  <th>additives_n</th>                                           <td>    0.3843</td> <td>    0.002</td> <td>  166.228</td> <td> 0.000</td> <td>    0.380</td> <td>    0.389</td>\n",
              "</tr>\n",
              "</table>\n",
              "<table class=\"simpletable\">\n",
              "<tr>\n",
              "  <th>Omnibus:</th>       <td>31443.069</td> <th>  Durbin-Watson:     </th> <td>   1.113</td> \n",
              "</tr>\n",
              "<tr>\n",
              "  <th>Prob(Omnibus):</th>  <td> 0.000</td>   <th>  Jarque-Bera (JB):  </th> <td>82407.041</td>\n",
              "</tr>\n",
              "<tr>\n",
              "  <th>Skew:</th>           <td>-0.170</td>   <th>  Prob(JB):          </th> <td>    0.00</td> \n",
              "</tr>\n",
              "<tr>\n",
              "  <th>Kurtosis:</th>       <td> 4.503</td>   <th>  Cond. No.          </th> <td>3.07e+03</td> \n",
              "</tr>\n",
              "</table><br/><br/>Notes:<br/>[1] Standard Errors assume that the covariance matrix of the errors is correctly specified.<br/>[2] The condition number is large, 3.07e+03. This might indicate that there are<br/>strong multicollinearity or other numerical problems."
            ],
            "text/plain": [
              "<class 'statsmodels.iolib.summary.Summary'>\n",
              "\"\"\"\n",
              "                            OLS Regression Results                            \n",
              "==============================================================================\n",
              "Dep. Variable:       nutriscore_score   R-squared:                       0.620\n",
              "Model:                            OLS   Adj. R-squared:                  0.620\n",
              "Method:                 Least Squares   F-statistic:                 1.234e+05\n",
              "Date:                Fri, 16 Dec 2022   Prob (F-statistic):               0.00\n",
              "Time:                        00:26:45   Log-Likelihood:            -2.5797e+06\n",
              "No. Observations:              833370   AIC:                         5.160e+06\n",
              "Df Residuals:                  833358   BIC:                         5.160e+06\n",
              "Df Model:                          11                                         \n",
              "Covariance Type:            nonrobust                                         \n",
              "=========================================================================================================================\n",
              "                                                            coef    std err          t      P>|t|      [0.025      0.975]\n",
              "-------------------------------------------------------------------------------------------------------------------------\n",
              "const                                                     1.5715      0.013    123.910      0.000       1.547       1.596\n",
              "salt_100g                                                 0.6900      0.004    186.672      0.000       0.683       0.697\n",
              "sodium_100g                                              -0.6364      0.006    -99.466      0.000      -0.649      -0.624\n",
              "energy_100g                                               0.0031   2.48e-05    123.529      0.000       0.003       0.003\n",
              "fat_100g                                                  0.0110      0.001     10.897      0.000       0.009       0.013\n",
              "saturated-fat_100g                                        0.3606      0.001    348.770      0.000       0.359       0.363\n",
              "sugars_100g                                               0.1991      0.000    445.059      0.000       0.198       0.200\n",
              "proteins_100g                                             0.0466      0.001     59.666      0.000       0.045       0.048\n",
              "fruits-vegetables-nuts-estimate-from-ingredients_100g    -0.0593      0.000   -183.184      0.000      -0.060      -0.059\n",
              "fiber_100g                                               -0.3963      0.002   -244.072      0.000      -0.399      -0.393\n",
              "carbohydrates_100g                                       -0.0333      0.001    -66.223      0.000      -0.034      -0.032\n",
              "additives_n                                               0.3843      0.002    166.228      0.000       0.380       0.389\n",
              "==============================================================================\n",
              "Omnibus:                    31443.069   Durbin-Watson:                   1.113\n",
              "Prob(Omnibus):                  0.000   Jarque-Bera (JB):            82407.041\n",
              "Skew:                          -0.170   Prob(JB):                         0.00\n",
              "Kurtosis:                       4.503   Cond. No.                     3.07e+03\n",
              "==============================================================================\n",
              "\n",
              "Notes:\n",
              "[1] Standard Errors assume that the covariance matrix of the errors is correctly specified.\n",
              "[2] The condition number is large, 3.07e+03. This might indicate that there are\n",
              "strong multicollinearity or other numerical problems.\n",
              "\"\"\""
            ]
          },
          "execution_count": 58,
          "metadata": {},
          "output_type": "execute_result"
        }
      ],
      "source": [
        "def train_model(x, y):\n",
        "    x_train_with_constant = sm.add_constant(x)\n",
        "    model = sm.OLS(y, x_train_with_constant)\n",
        "    model = model.fit()\n",
        "    y_pred = model.predict(x_train_with_constant)\n",
        "    print(np.round(np.sqrt(np.sum(((np.array(y_pred)-np.array(y))**2))/len(y_pred)),2))\n",
        "    return model\n",
        "model = train_model(X, y)\n",
        "model.summary()"
      ]
    },
    {
      "cell_type": "code",
      "execution_count": null,
      "metadata": {
        "colab": {
          "base_uri": "https://localhost:8080/"
        },
        "id": "AIwBHpQTHyDu",
        "outputId": "6dee402a-32cb-4727-8ffd-8ff3c4b45e48"
      },
      "outputs": [
        {
          "name": "stderr",
          "output_type": "stream",
          "text": [
            "<ipython-input-86-28ca4812c19f>:3: SettingWithCopyWarning: \n",
            "A value is trying to be set on a copy of a slice from a DataFrame.\n",
            "Try using .loc[row_indexer,col_indexer] = value instead\n",
            "\n",
            "See the caveats in the documentation: https://pandas.pydata.org/pandas-docs/stable/user_guide/indexing.html#returning-a-view-versus-a-copy\n",
            "  X['is_beverage'] = 0\n",
            "<ipython-input-86-28ca4812c19f>:5: SettingWithCopyWarning: \n",
            "A value is trying to be set on a copy of a slice from a DataFrame.\n",
            "Try using .loc[row_indexer,col_indexer] = value instead\n",
            "\n",
            "See the caveats in the documentation: https://pandas.pydata.org/pandas-docs/stable/user_guide/indexing.html#returning-a-view-versus-a-copy\n",
            "  X['is_oil'] = 0\n",
            "<ipython-input-86-28ca4812c19f>:6: SettingWithCopyWarning: \n",
            "A value is trying to be set on a copy of a slice from a DataFrame.\n",
            "Try using .loc[row_indexer,col_indexer] = value instead\n",
            "\n",
            "See the caveats in the documentation: https://pandas.pydata.org/pandas-docs/stable/user_guide/indexing.html#returning-a-view-versus-a-copy\n",
            "  X['contains_fruit'] = 0\n",
            "<ipython-input-86-28ca4812c19f>:7: SettingWithCopyWarning: \n",
            "A value is trying to be set on a copy of a slice from a DataFrame.\n",
            "Try using .loc[row_indexer,col_indexer] = value instead\n",
            "\n",
            "See the caveats in the documentation: https://pandas.pydata.org/pandas-docs/stable/user_guide/indexing.html#returning-a-view-versus-a-copy\n",
            "  X['is_fats'] = 0\n",
            "<ipython-input-86-28ca4812c19f>:12: SettingWithCopyWarning: \n",
            "A value is trying to be set on a copy of a slice from a DataFrame.\n",
            "Try using .loc[row_indexer,col_indexer] = value instead\n",
            "\n",
            "See the caveats in the documentation: https://pandas.pydata.org/pandas-docs/stable/user_guide/indexing.html#returning-a-view-versus-a-copy\n",
            "  X['is_water'] = 0\n"
          ]
        }
      ],
      "source": [
        "X = df_train[['salt_100g', 'sodium_100g', 'energy_100g', 'fat_100g', 'saturated-fat_100g', 'sugars_100g', 'proteins_100g', 'fruits-vegetables-nuts-estimate-from-ingredients_100g', 'fiber_100g', 'carbohydrates_100g', 'additives_n', 'fruits-vegetables-nuts-estimate_100g', 'fruits-vegetables-nuts_100g']]\n",
        "y = df_train['nutriscore_score']\n",
        "X['is_beverage'] = 0\n",
        "# X['is_juice'] = 0\n",
        "X['is_oil'] = 0\n",
        "X['contains_fruit'] = 0\n",
        "X['is_fats'] = 0\n",
        "# X['is_snack'] = 0\n",
        "# X['is_milk'] = 0\n",
        "# X['is_coffee'] = 0\n",
        "# X['is_tea'] = 0\n",
        "X['is_water'] = 0\n",
        "# X['is_cheese'] = 0\n",
        "# X['saturated_fat_ratio'] = df_train['saturated-fat_100g'] / df_train['fat_100g']\n",
        "X = X.fillna(0)\n",
        "X.loc[df_train['categories_tags'].str.contains('en:beverages', na=False), 'is_beverage'] = 1\n",
        "# X.loc[df_train['categories_tags'].str.contains('juice', na=False), 'is_juice'] = 1\n",
        "X.loc[df_train['categories_tags'].str.contains('oil', na=False), 'is_oil'] = 1\n",
        "X.loc[df_train['categories_tags'].str.contains('fruit', na=False), 'contains_fruit'] = 1\n",
        "X.loc[df_train['categories_tags'].str.contains('en:fats', na=False), 'is_fats'] = 1\n",
        "# X.loc[df_train['categories_tags'].str.contains('snack', na=False), 'is_snack'] = 1\n",
        "# X.loc[df_train['categories_tags'].str.contains('milk', na=False), 'is_milk'] = 1\n",
        "# X.loc[df_train['categories_tags'].str.contains('coffee', na=False), 'is_coffee'] = 1\n",
        "# X.loc[df_train['categories_tags'].str.contains('tea', na=False), 'is_tea'] = 1\n",
        "X.loc[df_train['categories_tags'].str.contains('en:spring-waters', na=False), 'is_water'] = 1\n",
        "# X.loc[df_train['categories_tags'].str.contains('cheese', na=False), 'is_cheese'] = 1\n",
        "\n",
        "\n"
      ]
    },
    {
      "cell_type": "code",
      "execution_count": null,
      "metadata": {
        "colab": {
          "base_uri": "https://localhost:8080/",
          "height": 901
        },
        "id": "2rcZDsEmVTm8",
        "outputId": "08ffa323-613d-4843-afa7-201f10209898"
      },
      "outputs": [
        {
          "name": "stderr",
          "output_type": "stream",
          "text": [
            "/usr/local/lib/python3.8/dist-packages/statsmodels/tsa/tsatools.py:142: FutureWarning: In a future version of pandas all arguments of concat except for the argument 'objs' will be keyword-only\n",
            "  x = pd.concat(x[::order], 1)\n"
          ]
        },
        {
          "name": "stdout",
          "output_type": "stream",
          "text": [
            "4.74\n"
          ]
        },
        {
          "data": {
            "text/html": [
              "<table class=\"simpletable\">\n",
              "<caption>OLS Regression Results</caption>\n",
              "<tr>\n",
              "  <th>Dep. Variable:</th>    <td>nutriscore_score</td> <th>  R-squared:         </th>  <td>   0.701</td>  \n",
              "</tr>\n",
              "<tr>\n",
              "  <th>Model:</th>                   <td>OLS</td>       <th>  Adj. R-squared:    </th>  <td>   0.701</td>  \n",
              "</tr>\n",
              "<tr>\n",
              "  <th>Method:</th>             <td>Least Squares</td>  <th>  F-statistic:       </th>  <td>1.087e+05</td> \n",
              "</tr>\n",
              "<tr>\n",
              "  <th>Date:</th>             <td>Fri, 16 Dec 2022</td> <th>  Prob (F-statistic):</th>   <td>  0.00</td>   \n",
              "</tr>\n",
              "<tr>\n",
              "  <th>Time:</th>                 <td>00:53:26</td>     <th>  Log-Likelihood:    </th> <td>-2.4790e+06</td>\n",
              "</tr>\n",
              "<tr>\n",
              "  <th>No. Observations:</th>      <td>833370</td>      <th>  AIC:               </th>  <td>4.958e+06</td> \n",
              "</tr>\n",
              "<tr>\n",
              "  <th>Df Residuals:</th>          <td>833351</td>      <th>  BIC:               </th>  <td>4.958e+06</td> \n",
              "</tr>\n",
              "<tr>\n",
              "  <th>Df Model:</th>              <td>    18</td>      <th>                     </th>      <td> </td>     \n",
              "</tr>\n",
              "<tr>\n",
              "  <th>Covariance Type:</th>      <td>nonrobust</td>    <th>                     </th>      <td> </td>     \n",
              "</tr>\n",
              "</table>\n",
              "<table class=\"simpletable\">\n",
              "<tr>\n",
              "                            <td></td>                               <th>coef</th>     <th>std err</th>      <th>t</th>      <th>P>|t|</th>  <th>[0.025</th>    <th>0.975]</th>  \n",
              "</tr>\n",
              "<tr>\n",
              "  <th>const</th>                                                 <td>    0.5881</td> <td>    0.013</td> <td>   43.774</td> <td> 0.000</td> <td>    0.562</td> <td>    0.614</td>\n",
              "</tr>\n",
              "<tr>\n",
              "  <th>salt_100g</th>                                             <td>    0.6931</td> <td>    0.003</td> <td>  210.941</td> <td> 0.000</td> <td>    0.687</td> <td>    0.700</td>\n",
              "</tr>\n",
              "<tr>\n",
              "  <th>sodium_100g</th>                                           <td>   -0.6401</td> <td>    0.006</td> <td> -112.776</td> <td> 0.000</td> <td>   -0.651</td> <td>   -0.629</td>\n",
              "</tr>\n",
              "<tr>\n",
              "  <th>energy_100g</th>                                           <td>    0.0036</td> <td> 2.21e-05</td> <td>  162.098</td> <td> 0.000</td> <td>    0.004</td> <td>    0.004</td>\n",
              "</tr>\n",
              "<tr>\n",
              "  <th>fat_100g</th>                                              <td>    0.1020</td> <td>    0.001</td> <td>  109.785</td> <td> 0.000</td> <td>    0.100</td> <td>    0.104</td>\n",
              "</tr>\n",
              "<tr>\n",
              "  <th>saturated-fat_100g</th>                                    <td>    0.3247</td> <td>    0.001</td> <td>  344.580</td> <td> 0.000</td> <td>    0.323</td> <td>    0.327</td>\n",
              "</tr>\n",
              "<tr>\n",
              "  <th>sugars_100g</th>                                           <td>    0.1902</td> <td>    0.000</td> <td>  473.717</td> <td> 0.000</td> <td>    0.189</td> <td>    0.191</td>\n",
              "</tr>\n",
              "<tr>\n",
              "  <th>proteins_100g</th>                                         <td>    0.0087</td> <td>    0.001</td> <td>   11.910</td> <td> 0.000</td> <td>    0.007</td> <td>    0.010</td>\n",
              "</tr>\n",
              "<tr>\n",
              "  <th>fruits-vegetables-nuts-estimate-from-ingredients_100g</th> <td>   -0.0525</td> <td>    0.000</td> <td> -172.247</td> <td> 0.000</td> <td>   -0.053</td> <td>   -0.052</td>\n",
              "</tr>\n",
              "<tr>\n",
              "  <th>fiber_100g</th>                                            <td>   -0.4137</td> <td>    0.001</td> <td> -286.458</td> <td> 0.000</td> <td>   -0.417</td> <td>   -0.411</td>\n",
              "</tr>\n",
              "<tr>\n",
              "  <th>carbohydrates_100g</th>                                    <td>   -0.0347</td> <td>    0.000</td> <td>  -77.183</td> <td> 0.000</td> <td>   -0.036</td> <td>   -0.034</td>\n",
              "</tr>\n",
              "<tr>\n",
              "  <th>additives_n</th>                                           <td>    0.3334</td> <td>    0.002</td> <td>  161.204</td> <td> 0.000</td> <td>    0.329</td> <td>    0.337</td>\n",
              "</tr>\n",
              "<tr>\n",
              "  <th>fruits-vegetables-nuts-estimate_100g</th>                  <td>    0.0026</td> <td>    0.001</td> <td>    3.111</td> <td> 0.002</td> <td>    0.001</td> <td>    0.004</td>\n",
              "</tr>\n",
              "<tr>\n",
              "  <th>fruits-vegetables-nuts_100g</th>                           <td>   -0.0126</td> <td>    0.001</td> <td>  -13.685</td> <td> 0.000</td> <td>   -0.014</td> <td>   -0.011</td>\n",
              "</tr>\n",
              "<tr>\n",
              "  <th>is_beverage</th>                                           <td>    5.9458</td> <td>    0.022</td> <td>  273.405</td> <td> 0.000</td> <td>    5.903</td> <td>    5.988</td>\n",
              "</tr>\n",
              "<tr>\n",
              "  <th>is_oil</th>                                                <td>   -3.7892</td> <td>    0.043</td> <td>  -88.889</td> <td> 0.000</td> <td>   -3.873</td> <td>   -3.706</td>\n",
              "</tr>\n",
              "<tr>\n",
              "  <th>contains_fruit</th>                                        <td>   -1.5934</td> <td>    0.019</td> <td>  -85.603</td> <td> 0.000</td> <td>   -1.630</td> <td>   -1.557</td>\n",
              "</tr>\n",
              "<tr>\n",
              "  <th>is_fats</th>                                               <td>  -13.9260</td> <td>    0.048</td> <td> -288.343</td> <td> 0.000</td> <td>  -14.021</td> <td>  -13.831</td>\n",
              "</tr>\n",
              "<tr>\n",
              "  <th>is_water</th>                                              <td>   -6.4281</td> <td>    0.079</td> <td>  -81.315</td> <td> 0.000</td> <td>   -6.583</td> <td>   -6.273</td>\n",
              "</tr>\n",
              "</table>\n",
              "<table class=\"simpletable\">\n",
              "<tr>\n",
              "  <th>Omnibus:</th>       <td>42010.732</td> <th>  Durbin-Watson:     </th>  <td>   1.186</td> \n",
              "</tr>\n",
              "<tr>\n",
              "  <th>Prob(Omnibus):</th>  <td> 0.000</td>   <th>  Jarque-Bera (JB):  </th> <td>144961.300</td>\n",
              "</tr>\n",
              "<tr>\n",
              "  <th>Skew:</th>           <td>-0.149</td>   <th>  Prob(JB):          </th>  <td>    0.00</td> \n",
              "</tr>\n",
              "<tr>\n",
              "  <th>Kurtosis:</th>       <td> 5.021</td>   <th>  Cond. No.          </th>  <td>2.16e+04</td> \n",
              "</tr>\n",
              "</table><br/><br/>Notes:<br/>[1] Standard Errors assume that the covariance matrix of the errors is correctly specified.<br/>[2] The condition number is large, 2.16e+04. This might indicate that there are<br/>strong multicollinearity or other numerical problems."
            ],
            "text/plain": [
              "<class 'statsmodels.iolib.summary.Summary'>\n",
              "\"\"\"\n",
              "                            OLS Regression Results                            \n",
              "==============================================================================\n",
              "Dep. Variable:       nutriscore_score   R-squared:                       0.701\n",
              "Model:                            OLS   Adj. R-squared:                  0.701\n",
              "Method:                 Least Squares   F-statistic:                 1.087e+05\n",
              "Date:                Fri, 16 Dec 2022   Prob (F-statistic):               0.00\n",
              "Time:                        00:53:26   Log-Likelihood:            -2.4790e+06\n",
              "No. Observations:              833370   AIC:                         4.958e+06\n",
              "Df Residuals:                  833351   BIC:                         4.958e+06\n",
              "Df Model:                          18                                         \n",
              "Covariance Type:            nonrobust                                         \n",
              "=========================================================================================================================\n",
              "                                                            coef    std err          t      P>|t|      [0.025      0.975]\n",
              "-------------------------------------------------------------------------------------------------------------------------\n",
              "const                                                     0.5881      0.013     43.774      0.000       0.562       0.614\n",
              "salt_100g                                                 0.6931      0.003    210.941      0.000       0.687       0.700\n",
              "sodium_100g                                              -0.6401      0.006   -112.776      0.000      -0.651      -0.629\n",
              "energy_100g                                               0.0036   2.21e-05    162.098      0.000       0.004       0.004\n",
              "fat_100g                                                  0.1020      0.001    109.785      0.000       0.100       0.104\n",
              "saturated-fat_100g                                        0.3247      0.001    344.580      0.000       0.323       0.327\n",
              "sugars_100g                                               0.1902      0.000    473.717      0.000       0.189       0.191\n",
              "proteins_100g                                             0.0087      0.001     11.910      0.000       0.007       0.010\n",
              "fruits-vegetables-nuts-estimate-from-ingredients_100g    -0.0525      0.000   -172.247      0.000      -0.053      -0.052\n",
              "fiber_100g                                               -0.4137      0.001   -286.458      0.000      -0.417      -0.411\n",
              "carbohydrates_100g                                       -0.0347      0.000    -77.183      0.000      -0.036      -0.034\n",
              "additives_n                                               0.3334      0.002    161.204      0.000       0.329       0.337\n",
              "fruits-vegetables-nuts-estimate_100g                      0.0026      0.001      3.111      0.002       0.001       0.004\n",
              "fruits-vegetables-nuts_100g                              -0.0126      0.001    -13.685      0.000      -0.014      -0.011\n",
              "is_beverage                                               5.9458      0.022    273.405      0.000       5.903       5.988\n",
              "is_oil                                                   -3.7892      0.043    -88.889      0.000      -3.873      -3.706\n",
              "contains_fruit                                           -1.5934      0.019    -85.603      0.000      -1.630      -1.557\n",
              "is_fats                                                 -13.9260      0.048   -288.343      0.000     -14.021     -13.831\n",
              "is_water                                                 -6.4281      0.079    -81.315      0.000      -6.583      -6.273\n",
              "==============================================================================\n",
              "Omnibus:                    42010.732   Durbin-Watson:                   1.186\n",
              "Prob(Omnibus):                  0.000   Jarque-Bera (JB):           144961.300\n",
              "Skew:                          -0.149   Prob(JB):                         0.00\n",
              "Kurtosis:                       5.021   Cond. No.                     2.16e+04\n",
              "==============================================================================\n",
              "\n",
              "Notes:\n",
              "[1] Standard Errors assume that the covariance matrix of the errors is correctly specified.\n",
              "[2] The condition number is large, 2.16e+04. This might indicate that there are\n",
              "strong multicollinearity or other numerical problems.\n",
              "\"\"\""
            ]
          },
          "execution_count": 87,
          "metadata": {},
          "output_type": "execute_result"
        }
      ],
      "source": [
        "remove_outlier(X)\n",
        "model = train_model(X, y)\n",
        "model.summary()"
      ]
    },
    {
      "cell_type": "code",
      "execution_count": null,
      "metadata": {
        "id": "xnShlNpfWW21"
      },
      "outputs": [],
      "source": [
        "from sklearn.model_selection import train_test_split\n",
        "\n",
        "# TO-DO: Conduct 80/20 train-test split with random_state = 42\n",
        "x_train, x_test, y_train, y_test = train_test_split(X, y, random_state = 42, test_size=0.20)\n",
        "\n",
        "# Apply normalization, StandardScaler doesn't work\n",
        "from sklearn.preprocessing import RobustScaler\n",
        "scaler = RobustScaler()\n",
        "x_train = scaler.fit_transform(x_train)\n",
        "x_test = scaler.transform(x_test)"
      ]
    },
    {
      "cell_type": "code",
      "execution_count": null,
      "metadata": {
        "colab": {
          "base_uri": "https://localhost:8080/"
        },
        "id": "WODhd2PTbUtk",
        "outputId": "13be2813-c7f6-4d73-8afe-814b26c739c7"
      },
      "outputs": [
        {
          "name": "stdout",
          "output_type": "stream",
          "text": [
            "22.477617204584547\n",
            "4.7410565493974595\n"
          ]
        }
      ],
      "source": [
        "import numpy as np\n",
        "from sklearn.linear_model import LinearRegression\n",
        "reg = LinearRegression().fit(x_train, y_train)\n",
        "\n",
        "from sklearn.metrics import mean_squared_error\n",
        "import math\n",
        "y_pred = reg.predict(x_train)\n",
        "print(mean_squared_error(y_train, y_pred))\n",
        "print(math.sqrt(mean_squared_error(y_train, y_pred)))"
      ]
    },
    {
      "cell_type": "code",
      "execution_count": null,
      "metadata": {
        "colab": {
          "base_uri": "https://localhost:8080/"
        },
        "id": "z8XXPDCpbcDJ",
        "outputId": "4c4cbb41-9bad-441e-8aa9-faf1816db777"
      },
      "outputs": [
        {
          "name": "stdout",
          "output_type": "stream",
          "text": [
            "22.353363160069506\n",
            "4.72793434388312\n"
          ]
        }
      ],
      "source": [
        "y_pred = reg.predict(x_test)\n",
        "print(mean_squared_error(y_test, y_pred))\n",
        "print(math.sqrt(mean_squared_error(y_test, y_pred)))"
      ]
    },
    {
      "cell_type": "code",
      "execution_count": null,
      "metadata": {
        "id": "DBpMqK8nbeh_"
      },
      "outputs": [],
      "source": [
        "from sklearn import tree\n",
        "clf = tree.DecisionTreeRegressor(max_depth=15, min_samples_split=10, min_samples_leaf=10)\n",
        "clf = clf.fit(x_train, y_train)"
      ]
    },
    {
      "cell_type": "code",
      "execution_count": null,
      "metadata": {
        "colab": {
          "base_uri": "https://localhost:8080/"
        },
        "id": "m4B6spRjbivN",
        "outputId": "3aeab36a-7be9-4c51-8ab9-565d9ec80050"
      },
      "outputs": [
        {
          "name": "stdout",
          "output_type": "stream",
          "text": [
            "train mse 1.7802371935497894\n",
            "train rmse 1.334255295492504\n"
          ]
        }
      ],
      "source": [
        "y_pred = clf.predict(x_train)\n",
        "print('train mse', mean_squared_error(y_train, y_pred))\n",
        "print('train rmse', math.sqrt(mean_squared_error(y_train, y_pred)))"
      ]
    },
    {
      "cell_type": "code",
      "execution_count": null,
      "metadata": {
        "colab": {
          "base_uri": "https://localhost:8080/"
        },
        "id": "A0NkXW7BbkyL",
        "outputId": "1f4ab5b8-d89d-460a-dc8b-235133811881"
      },
      "outputs": [
        {
          "name": "stdout",
          "output_type": "stream",
          "text": [
            "test mse 2.1905524591630163\n",
            "test rmse 1.4800515055777674\n"
          ]
        }
      ],
      "source": [
        "y_pred = clf.predict(x_test)\n",
        "print('test mse', mean_squared_error(y_test, y_pred))\n",
        "print('test rmse', math.sqrt(mean_squared_error(y_test, y_pred)))"
      ]
    },
    {
      "cell_type": "markdown",
      "metadata": {
        "id": "PNi-tAbljqrL"
      },
      "source": [
        "# 5 Recommend a Better Alternative (Wesley)"
      ]
    },
    {
      "cell_type": "code",
      "execution_count": null,
      "metadata": {
        "id": "B4ZuUXOAuLe0"
      },
      "outputs": [],
      "source": []
    },
    {
      "cell_type": "markdown",
      "metadata": {
        "id": "Njd9ydzPuYHR"
      },
      "source": [
        "# 6 Conclusion"
      ]
    },
    {
      "cell_type": "code",
      "execution_count": null,
      "metadata": {
        "id": "54HJpXDtuaSy"
      },
      "outputs": [],
      "source": []
    }
  ],
  "metadata": {
    "colab": {
      "provenance": [],
      "toc_visible": true
    },
    "kernelspec": {
      "display_name": "Python 3",
      "name": "python3"
    },
    "language_info": {
      "name": "python"
    }
  },
  "nbformat": 4,
  "nbformat_minor": 0
}